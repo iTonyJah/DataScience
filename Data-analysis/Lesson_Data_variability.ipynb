{
 "cells": [
  {
   "cell_type": "markdown",
   "id": "b0482f91",
   "metadata": {
    "id": "b0482f91"
   },
   "source": [
    "# Вариабельность данных"
   ]
  },
  {
   "cell_type": "markdown",
   "id": "078d2d05",
   "metadata": {
    "id": "078d2d05"
   },
   "source": [
    "## План урока\n",
    "\n",
    "* Зачем нужно определять вариабельность данных?\n",
    "* Какие метрики относятся к оценкам вариабельности и зачем нам нужны разные оценки?\n",
    "* Практика в jupyter notebook."
   ]
  },
  {
   "cell_type": "markdown",
   "id": "04aa592a",
   "metadata": {
    "id": "04aa592a"
   },
   "source": [
    "<b>Вариабельность (дисперсность)</b> показывает, насколько сильно различаются между собой значения признака.\n",
    "\n",
    "Один из способов измерения вариабельности — это оценка типичных отклонений признаков от центрального значения."
   ]
  },
  {
   "cell_type": "markdown",
   "id": "b2ac2172",
   "metadata": {
    "id": "b2ac2172",
    "jp-MarkdownHeadingCollapsed": true
   },
   "source": [
    "## 1. Синтетические данные"
   ]
  },
  {
   "cell_type": "code",
   "execution_count": 35,
   "id": "f7ce0165",
   "metadata": {
    "id": "f7ce0165"
   },
   "outputs": [],
   "source": [
    "# Количество товаров в корзине пользователя на маркетплейсе\n",
    "x = [10, 2, 2, 5, 26, 6]\n",
    "\n",
    "# добавили пользователя-перекупщика\n",
    "y = [10, 2, 2, 5, 26, 6, 100, 1500, 2000]"
   ]
  },
  {
   "cell_type": "code",
   "execution_count": 41,
   "id": "e43e1091",
   "metadata": {
    "id": "e43e1091"
   },
   "outputs": [],
   "source": [
    "import seaborn as sns\n",
    "\n",
    "# настройки размера и цвета графиков\n",
    "sns.set(rc={'figure.figsize':(7, 4)})"
   ]
  },
  {
   "cell_type": "code",
   "execution_count": 43,
   "id": "3b61fda1",
   "metadata": {
    "id": "3b61fda1",
    "outputId": "72dd6f32-f392-4fa0-db52-48c7508833bb"
   },
   "outputs": [
    {
     "data": {
      "text/plain": [
       "<Axes: ylabel='Count'>"
      ]
     },
     "execution_count": 43,
     "metadata": {},
     "output_type": "execute_result"
    },
    {
     "data": {
      "image/png": "[encoded data removed]",
      "text/plain": [
       "<Figure size 700x400 with 1 Axes>"
      ]
     },
     "metadata": {},
     "output_type": "display_data"
    }
   ],
   "source": [
    "sns.histplot(x)"
   ]
  },
  {
   "cell_type": "code",
   "execution_count": 45,
   "id": "c13bf970",
   "metadata": {
    "id": "c13bf970",
    "outputId": "85cb1a6c-6a08-4ce3-94d9-e7cd076ca954"
   },
   "outputs": [
    {
     "data": {
      "text/plain": [
       "<Axes: ylabel='Count'>"
      ]
     },
     "execution_count": 45,
     "metadata": {},
     "output_type": "execute_result"
    },
    {
     "data": {
      "image/png": "[encoded data removed]",
      "text/plain": [
       "<Figure size 700x400 with 1 Axes>"
      ]
     },
     "metadata": {},
     "output_type": "display_data"
    }
   ],
   "source": [
    "sns.histplot(y)"
   ]
  },
  {
   "cell_type": "markdown",
   "id": "9714e0c0",
   "metadata": {
    "id": "9714e0c0"
   },
   "source": [
    "### Дисперсия\n",
    "\n",
    "<b>Выборочная смещенная дисперсия</b>\n",
    "$$D = \\frac{\\sum_{i = 1}^{n}(x_i - \\bar{x})^2}{n}$$\n",
    "\n",
    "<b>Выборочная несмещенная дисперсия</b>\n",
    "$$D = \\frac{\\sum_{i = 1}^{n}(x_i - \\bar{x})^2}{n - 1}$$\n",
    "\n",
    "$n$ – число элементов выборки\n",
    "\n",
    "$x_{i}$ – элемент выборки\n",
    "\n",
    "$\\bar{x}$ – выборочное среднее\n",
    "\n",
    "---\n",
    "Выборочная смещенная дисперсия дает заниженное значение. Это значит, что при большом количестве экспериментов выборочная дисперсия будет давать смещенное относительно истинного значения генеральной совокупности значение."
   ]
  },
  {
   "cell_type": "code",
   "execution_count": 48,
   "id": "3c7d47de",
   "metadata": {
    "id": "3c7d47de"
   },
   "outputs": [],
   "source": [
    "import numpy as np"
   ]
  },
  {
   "cell_type": "code",
   "execution_count": 50,
   "id": "061ec4eb",
   "metadata": {
    "id": "061ec4eb",
    "outputId": "ccdfde9b-c83d-4f0e-f69f-b76fd6b1fa24"
   },
   "outputs": [
    {
     "data": {
      "text/plain": [
       "68.58333333333333"
      ]
     },
     "execution_count": 50,
     "metadata": {},
     "output_type": "execute_result"
    }
   ],
   "source": [
    "d_x = np.var(x)\n",
    "d_x"
   ]
  },
  {
   "cell_type": "code",
   "execution_count": 52,
   "id": "dec2796b",
   "metadata": {
    "id": "dec2796b",
    "outputId": "b847fa61-51bd-4327-8a22-ba807874f595"
   },
   "outputs": [
    {
     "data": {
      "text/plain": [
       "531084.0"
      ]
     },
     "execution_count": 52,
     "metadata": {},
     "output_type": "execute_result"
    }
   ],
   "source": [
    "d_y = np.var(y)\n",
    "d_y"
   ]
  },
  {
   "cell_type": "markdown",
   "id": "1b858374",
   "metadata": {
    "id": "1b858374"
   },
   "source": [
    "---\n",
    "* Чем сильнее разбросаны данные в выборке, тем больше дисперсия.\n",
    "* Дисперсия сильно подвержена влиянию хвостов распределения (выбросов).\n",
    "\n"
   ]
  },
  {
   "cell_type": "markdown",
   "id": "72d88183",
   "metadata": {
    "id": "72d88183"
   },
   "source": [
    "### Среднеквадратичное отклонение:\n",
    "\n",
    "$$\\sigma =\\sqrt{\\frac{\\sum_{i = 1}^{n}(x_i - \\bar{x})^2}{n}} = \\sqrt{D}$$\n",
    "\n",
    "$n$ – число элементов выборки\n",
    "\n",
    "$x_{i}$ – элемент выборки\n",
    "\n",
    "$\\bar{x}$ – выборочное среднее"
   ]
  },
  {
   "cell_type": "markdown",
   "id": "5dcf3815",
   "metadata": {
    "id": "5dcf3815"
   },
   "source": [
    "---\n",
    "* Чем сильнее разбросаны данные в выборке, тем больше среднеквадратическое отклонение.\n",
    "* Стандартное отклонение легче интерпретировать, чем дисперсию, поскольку стандартное отклонение выражается в той же единице измерения, что и наблюдения.\n",
    "\n"
   ]
  },
  {
   "cell_type": "code",
   "execution_count": 57,
   "id": "6b570f67",
   "metadata": {
    "id": "6b570f67",
    "outputId": "c415e7d3-b1c8-44ef-fdb9-3fda7c16de9b"
   },
   "outputs": [
    {
     "data": {
      "text/plain": [
       "8.281505499203229"
      ]
     },
     "execution_count": 57,
     "metadata": {},
     "output_type": "execute_result"
    }
   ],
   "source": [
    "s_x = np.std(x)\n",
    "s_x"
   ]
  },
  {
   "cell_type": "code",
   "execution_count": 59,
   "id": "beb0a8fb",
   "metadata": {
    "id": "beb0a8fb",
    "outputId": "3b8ee6cd-8951-44f7-a91b-4a8a2c8ff479"
   },
   "outputs": [
    {
     "data": {
      "text/plain": [
       "728.7551028980861"
      ]
     },
     "execution_count": 59,
     "metadata": {},
     "output_type": "execute_result"
    }
   ],
   "source": [
    "s_y = np.std(y)\n",
    "s_y"
   ]
  },
  {
   "cell_type": "markdown",
   "id": "fe3b6c9a",
   "metadata": {
    "id": "fe3b6c9a"
   },
   "source": [
    "<b>Размах:</b>"
   ]
  },
  {
   "cell_type": "code",
   "execution_count": 62,
   "id": "c36e939c",
   "metadata": {
    "id": "c36e939c",
    "outputId": "30a59725-c6b5-4cf9-97b5-f723a875ef2a"
   },
   "outputs": [
    {
     "data": {
      "text/plain": [
       "(26, 2)"
      ]
     },
     "execution_count": 62,
     "metadata": {},
     "output_type": "execute_result"
    }
   ],
   "source": [
    "np.max(x), np.min(x)"
   ]
  },
  {
   "cell_type": "code",
   "execution_count": 64,
   "id": "62906c9a",
   "metadata": {
    "id": "62906c9a",
    "outputId": "e1d38923-aded-480e-c5d6-8617180c01cc"
   },
   "outputs": [
    {
     "data": {
      "text/plain": [
       "24"
      ]
     },
     "execution_count": 64,
     "metadata": {},
     "output_type": "execute_result"
    }
   ],
   "source": [
    "np.max(x) - np.min(x)"
   ]
  },
  {
   "cell_type": "markdown",
   "id": "2317627c",
   "metadata": {
    "id": "2317627c"
   },
   "source": [
    "### Квантили, перцентили, квартили и межквартильный размах:"
   ]
  },
  {
   "cell_type": "markdown",
   "id": "392df27d",
   "metadata": {
    "id": "392df27d"
   },
   "source": [
    "<b>Квантили</b> - значение, ниже которого лежит данная часть выборки.\n",
    "\n",
    "* N квантиль — это такое число, ниже которого лежит N часть выборки\n",
    "* 0.3 квантиль — это такое число, что ниже него лежит 0.3 часть выборки"
   ]
  },
  {
   "cell_type": "markdown",
   "id": "3699c905",
   "metadata": {
    "id": "3699c905"
   },
   "source": [
    "<b>Перцентиль</b>\n",
    "\n",
    "- $N$-й перцентиль — это такое число, что $N%$ элементов массива меньше или равны этому значению\n",
    "\n",
    "- $10$-й перцентиль — это такое число, что $10%$ элементов массива меньше или равны этому значению"
   ]
  },
  {
   "cell_type": "markdown",
   "id": "60c6a2d3",
   "metadata": {
    "id": "60c6a2d3"
   },
   "source": [
    "Величины, которые делят упорядоченный набор значений на 4 равные группы,\n",
    "\n",
    "т.е. 25-й, 50-й и 75-й процентили (либо 0.25, 0.5, 0.75 квантиль), называются <b>квартилями</b>.\n",
    "\n",
    "50-й процентиль (0.5 квантиль) — это медиана."
   ]
  },
  {
   "cell_type": "markdown",
   "id": "2f2fb817",
   "metadata": {
    "id": "2f2fb817"
   },
   "source": [
    "<img src=\"data:image/png;base64,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\"></img>"
   ]
  },
  {
   "cell_type": "code",
   "execution_count": 71,
   "id": "80aa35f7",
   "metadata": {
    "id": "80aa35f7",
    "outputId": "03a197f0-5a1c-4782-8213-7ff343722ca0"
   },
   "outputs": [
    {
     "data": {
      "text/plain": [
       "(2.75, 9.0)"
      ]
     },
     "execution_count": 71,
     "metadata": {},
     "output_type": "execute_result"
    }
   ],
   "source": [
    "q1 = np.quantile(x, q=0.25)\n",
    "q3 = np.quantile(x, q=0.75)\n",
    "q1, q3"
   ]
  },
  {
   "cell_type": "code",
   "execution_count": 73,
   "id": "9b7c1d52",
   "metadata": {
    "id": "9b7c1d52",
    "outputId": "380af75b-fa56-4913-f3c5-c5ddafb02549"
   },
   "outputs": [
    {
     "data": {
      "text/plain": [
       "6.25"
      ]
     },
     "execution_count": 73,
     "metadata": {},
     "output_type": "execute_result"
    }
   ],
   "source": [
    "# межквартильный размах\n",
    "q3 - q1"
   ]
  },
  {
   "cell_type": "code",
   "execution_count": 75,
   "id": "f09bb1b8",
   "metadata": {
    "id": "f09bb1b8",
    "outputId": "e0415d46-87ee-467a-d9c6-38c1ad18e442"
   },
   "outputs": [
    {
     "data": {
      "text/plain": [
       "(5.5, 5.5)"
      ]
     },
     "execution_count": 75,
     "metadata": {},
     "output_type": "execute_result"
    }
   ],
   "source": [
    "q2 = np.quantile(x, q=0.5)\n",
    "median = np.median(x)\n",
    "\n",
    "q2, median"
   ]
  },
  {
   "cell_type": "code",
   "execution_count": 77,
   "id": "19444297",
   "metadata": {
    "id": "19444297",
    "outputId": "ad300524-5437-4cee-87b8-bb5a51a3fa5d"
   },
   "outputs": [
    {
     "data": {
      "text/plain": [
       "(2.75, 9.0)"
      ]
     },
     "execution_count": 77,
     "metadata": {},
     "output_type": "execute_result"
    }
   ],
   "source": [
    "p1 = np.percentile(x, q=25)\n",
    "p3 = np.percentile(x, q=75)\n",
    "p1, p3"
   ]
  },
  {
   "cell_type": "code",
   "execution_count": 79,
   "id": "4f23ee8b",
   "metadata": {
    "id": "4f23ee8b",
    "outputId": "dce4e769-52be-4e0b-e3a8-b146c52996a5"
   },
   "outputs": [
    {
     "data": {
      "text/plain": [
       "<Axes: >"
      ]
     },
     "execution_count": 79,
     "metadata": {},
     "output_type": "execute_result"
    },
    {
     "data": {
      "image/png": "[encoded data removed]",
      "text/plain": [
       "<Figure size 700x400 with 1 Axes>"
      ]
     },
     "metadata": {},
     "output_type": "display_data"
    }
   ],
   "source": [
    "sns.boxplot(x=x, color='orange')"
   ]
  },
  {
   "cell_type": "markdown",
   "id": "31ee39ba",
   "metadata": {
    "id": "31ee39ba"
   },
   "source": [
    "## 2. Боевой датасет"
   ]
  },
  {
   "cell_type": "code",
   "execution_count": 121,
   "id": "6103501e",
   "metadata": {
    "id": "6103501e"
   },
   "outputs": [],
   "source": [
    "import pandas as pd\n",
    "import numpy as np\n",
    "import seaborn as sns"
   ]
  },
  {
   "cell_type": "code",
   "execution_count": 123,
   "id": "0b7bba10",
   "metadata": {
    "id": "0b7bba10",
    "outputId": "f8f498e1-573d-4eb4-d71d-ca8beec7b647"
   },
   "outputs": [
    {
     "data": {
      "text/html": [
       "<div>\n",
       "<style scoped>\n",
       "    .dataframe tbody tr th:only-of-type {\n",
       "        vertical-align: middle;\n",
       "    }\n",
       "\n",
       "    .dataframe tbody tr th {\n",
       "        vertical-align: top;\n",
       "    }\n",
       "\n",
       "    .dataframe thead th {\n",
       "        text-align: right;\n",
       "    }\n",
       "</style>\n",
       "<table border=\"1\" class=\"dataframe\">\n",
       "  <thead>\n",
       "    <tr style=\"text-align: right;\">\n",
       "      <th></th>\n",
       "      <th>Row ID</th>\n",
       "      <th>Order ID</th>\n",
       "      <th>Order Date</th>\n",
       "      <th>Ship Date</th>\n",
       "      <th>Ship Mode</th>\n",
       "      <th>Customer ID</th>\n",
       "      <th>Customer Name</th>\n",
       "      <th>Segment</th>\n",
       "      <th>Country</th>\n",
       "      <th>City</th>\n",
       "      <th>State</th>\n",
       "      <th>Postal Code</th>\n",
       "      <th>Region</th>\n",
       "      <th>Product ID</th>\n",
       "      <th>Category</th>\n",
       "      <th>Sub-Category</th>\n",
       "      <th>Product Name</th>\n",
       "      <th>Sales</th>\n",
       "    </tr>\n",
       "  </thead>\n",
       "  <tbody>\n",
       "    <tr>\n",
       "      <th>0</th>\n",
       "      <td>1</td>\n",
       "      <td>CA-2017-152156</td>\n",
       "      <td>08/11/2017</td>\n",
       "      <td>11/11/2017</td>\n",
       "      <td>Second Class</td>\n",
       "      <td>CG-12520</td>\n",
       "      <td>Claire Gute</td>\n",
       "      <td>Consumer</td>\n",
       "      <td>United States</td>\n",
       "      <td>Henderson</td>\n",
       "      <td>Kentucky</td>\n",
       "      <td>42420.0</td>\n",
       "      <td>South</td>\n",
       "      <td>FUR-BO-10001798</td>\n",
       "      <td>Furniture</td>\n",
       "      <td>Bookcases</td>\n",
       "      <td>Bush Somerset Collection Bookcase</td>\n",
       "      <td>261.9600</td>\n",
       "    </tr>\n",
       "    <tr>\n",
       "      <th>1</th>\n",
       "      <td>2</td>\n",
       "      <td>CA-2017-152156</td>\n",
       "      <td>08/11/2017</td>\n",
       "      <td>11/11/2017</td>\n",
       "      <td>Second Class</td>\n",
       "      <td>CG-12520</td>\n",
       "      <td>Claire Gute</td>\n",
       "      <td>Consumer</td>\n",
       "      <td>United States</td>\n",
       "      <td>Henderson</td>\n",
       "      <td>Kentucky</td>\n",
       "      <td>42420.0</td>\n",
       "      <td>South</td>\n",
       "      <td>FUR-CH-10000454</td>\n",
       "      <td>Furniture</td>\n",
       "      <td>Chairs</td>\n",
       "      <td>Hon Deluxe Fabric Upholstered Stacking Chairs,...</td>\n",
       "      <td>731.9400</td>\n",
       "    </tr>\n",
       "    <tr>\n",
       "      <th>2</th>\n",
       "      <td>3</td>\n",
       "      <td>CA-2017-138688</td>\n",
       "      <td>12/06/2017</td>\n",
       "      <td>16/06/2017</td>\n",
       "      <td>Second Class</td>\n",
       "      <td>DV-13045</td>\n",
       "      <td>Darrin Van Huff</td>\n",
       "      <td>Corporate</td>\n",
       "      <td>United States</td>\n",
       "      <td>Los Angeles</td>\n",
       "      <td>California</td>\n",
       "      <td>90036.0</td>\n",
       "      <td>West</td>\n",
       "      <td>OFF-LA-10000240</td>\n",
       "      <td>Office Supplies</td>\n",
       "      <td>Labels</td>\n",
       "      <td>Self-Adhesive Address Labels for Typewriters b...</td>\n",
       "      <td>14.6200</td>\n",
       "    </tr>\n",
       "    <tr>\n",
       "      <th>3</th>\n",
       "      <td>4</td>\n",
       "      <td>US-2016-108966</td>\n",
       "      <td>11/10/2016</td>\n",
       "      <td>18/10/2016</td>\n",
       "      <td>Standard Class</td>\n",
       "      <td>SO-20335</td>\n",
       "      <td>Sean O'Donnell</td>\n",
       "      <td>Consumer</td>\n",
       "      <td>United States</td>\n",
       "      <td>Fort Lauderdale</td>\n",
       "      <td>Florida</td>\n",
       "      <td>33311.0</td>\n",
       "      <td>South</td>\n",
       "      <td>FUR-TA-10000577</td>\n",
       "      <td>Furniture</td>\n",
       "      <td>Tables</td>\n",
       "      <td>Bretford CR4500 Series Slim Rectangular Table</td>\n",
       "      <td>957.5775</td>\n",
       "    </tr>\n",
       "    <tr>\n",
       "      <th>4</th>\n",
       "      <td>5</td>\n",
       "      <td>US-2016-108966</td>\n",
       "      <td>11/10/2016</td>\n",
       "      <td>18/10/2016</td>\n",
       "      <td>Standard Class</td>\n",
       "      <td>SO-20335</td>\n",
       "      <td>Sean O'Donnell</td>\n",
       "      <td>Consumer</td>\n",
       "      <td>United States</td>\n",
       "      <td>Fort Lauderdale</td>\n",
       "      <td>Florida</td>\n",
       "      <td>33311.0</td>\n",
       "      <td>South</td>\n",
       "      <td>OFF-ST-10000760</td>\n",
       "      <td>Office Supplies</td>\n",
       "      <td>Storage</td>\n",
       "      <td>Eldon Fold 'N Roll Cart System</td>\n",
       "      <td>22.3680</td>\n",
       "    </tr>\n",
       "  </tbody>\n",
       "</table>\n",
       "</div>"
      ],
      "text/plain": [
       "   Row ID        Order ID  Order Date   Ship Date       Ship Mode Customer ID  \\\n",
       "0       1  CA-2017-152156  08/11/2017  11/11/2017    Second Class    CG-12520   \n",
       "1       2  CA-2017-152156  08/11/2017  11/11/2017    Second Class    CG-12520   \n",
       "2       3  CA-2017-138688  12/06/2017  16/06/2017    Second Class    DV-13045   \n",
       "3       4  US-2016-108966  11/10/2016  18/10/2016  Standard Class    SO-20335   \n",
       "4       5  US-2016-108966  11/10/2016  18/10/2016  Standard Class    SO-20335   \n",
       "\n",
       "     Customer Name    Segment        Country             City       State  \\\n",
       "0      Claire Gute   Consumer  United States        Henderson    Kentucky   \n",
       "1      Claire Gute   Consumer  United States        Henderson    Kentucky   \n",
       "2  Darrin Van Huff  Corporate  United States      Los Angeles  California   \n",
       "3   Sean O'Donnell   Consumer  United States  Fort Lauderdale     Florida   \n",
       "4   Sean O'Donnell   Consumer  United States  Fort Lauderdale     Florida   \n",
       "\n",
       "   Postal Code Region       Product ID         Category Sub-Category  \\\n",
       "0      42420.0  South  FUR-BO-10001798        Furniture    Bookcases   \n",
       "1      42420.0  South  FUR-CH-10000454        Furniture       Chairs   \n",
       "2      90036.0   West  OFF-LA-10000240  Office Supplies       Labels   \n",
       "3      33311.0  South  FUR-TA-10000577        Furniture       Tables   \n",
       "4      33311.0  South  OFF-ST-10000760  Office Supplies      Storage   \n",
       "\n",
       "                                        Product Name     Sales  \n",
       "0                  Bush Somerset Collection Bookcase  261.9600  \n",
       "1  Hon Deluxe Fabric Upholstered Stacking Chairs,...  731.9400  \n",
       "2  Self-Adhesive Address Labels for Typewriters b...   14.6200  \n",
       "3      Bretford CR4500 Series Slim Rectangular Table  957.5775  \n",
       "4                     Eldon Fold 'N Roll Cart System   22.3680  "
      ]
     },
     "execution_count": 123,
     "metadata": {},
     "output_type": "execute_result"
    }
   ],
   "source": [
    "data = pd.read_csv('data.csv')\n",
    "data.head()"
   ]
  },
  {
   "cell_type": "code",
   "execution_count": 125,
   "id": "8e881d24",
   "metadata": {
    "id": "8e881d24",
    "outputId": "3142afdd-9032-44c7-e630-dae27c0ae1e8"
   },
   "outputs": [
    {
     "data": {
      "text/plain": [
       "(9800, 18)"
      ]
     },
     "execution_count": 125,
     "metadata": {},
     "output_type": "execute_result"
    }
   ],
   "source": [
    "data.shape"
   ]
  },
  {
   "cell_type": "code",
   "execution_count": 127,
   "id": "0be55891",
   "metadata": {
    "id": "0be55891",
    "outputId": "0321af5d-f7fd-418e-987f-9757a3a30610"
   },
   "outputs": [
    {
     "data": {
      "text/html": [
       "<div>\n",
       "<style scoped>\n",
       "    .dataframe tbody tr th:only-of-type {\n",
       "        vertical-align: middle;\n",
       "    }\n",
       "\n",
       "    .dataframe tbody tr th {\n",
       "        vertical-align: top;\n",
       "    }\n",
       "\n",
       "    .dataframe thead th {\n",
       "        text-align: right;\n",
       "    }\n",
       "</style>\n",
       "<table border=\"1\" class=\"dataframe\">\n",
       "  <thead>\n",
       "    <tr style=\"text-align: right;\">\n",
       "      <th></th>\n",
       "      <th>Row ID</th>\n",
       "      <th>Postal Code</th>\n",
       "      <th>Sales</th>\n",
       "    </tr>\n",
       "  </thead>\n",
       "  <tbody>\n",
       "    <tr>\n",
       "      <th>count</th>\n",
       "      <td>9800.000000</td>\n",
       "      <td>9789.000000</td>\n",
       "      <td>9800.000000</td>\n",
       "    </tr>\n",
       "    <tr>\n",
       "      <th>mean</th>\n",
       "      <td>4900.500000</td>\n",
       "      <td>55273.322403</td>\n",
       "      <td>230.769059</td>\n",
       "    </tr>\n",
       "    <tr>\n",
       "      <th>std</th>\n",
       "      <td>2829.160653</td>\n",
       "      <td>32041.223413</td>\n",
       "      <td>626.651875</td>\n",
       "    </tr>\n",
       "    <tr>\n",
       "      <th>min</th>\n",
       "      <td>1.000000</td>\n",
       "      <td>1040.000000</td>\n",
       "      <td>0.444000</td>\n",
       "    </tr>\n",
       "    <tr>\n",
       "      <th>25%</th>\n",
       "      <td>2450.750000</td>\n",
       "      <td>23223.000000</td>\n",
       "      <td>17.248000</td>\n",
       "    </tr>\n",
       "    <tr>\n",
       "      <th>50%</th>\n",
       "      <td>4900.500000</td>\n",
       "      <td>58103.000000</td>\n",
       "      <td>54.490000</td>\n",
       "    </tr>\n",
       "    <tr>\n",
       "      <th>75%</th>\n",
       "      <td>7350.250000</td>\n",
       "      <td>90008.000000</td>\n",
       "      <td>210.605000</td>\n",
       "    </tr>\n",
       "    <tr>\n",
       "      <th>max</th>\n",
       "      <td>9800.000000</td>\n",
       "      <td>99301.000000</td>\n",
       "      <td>22638.480000</td>\n",
       "    </tr>\n",
       "  </tbody>\n",
       "</table>\n",
       "</div>"
      ],
      "text/plain": [
       "            Row ID   Postal Code         Sales\n",
       "count  9800.000000   9789.000000   9800.000000\n",
       "mean   4900.500000  55273.322403    230.769059\n",
       "std    2829.160653  32041.223413    626.651875\n",
       "min       1.000000   1040.000000      0.444000\n",
       "25%    2450.750000  23223.000000     17.248000\n",
       "50%    4900.500000  58103.000000     54.490000\n",
       "75%    7350.250000  90008.000000    210.605000\n",
       "max    9800.000000  99301.000000  22638.480000"
      ]
     },
     "execution_count": 127,
     "metadata": {},
     "output_type": "execute_result"
    }
   ],
   "source": [
    "data.describe()"
   ]
  },
  {
   "cell_type": "code",
   "execution_count": 129,
   "id": "90bb1c0c",
   "metadata": {
    "id": "90bb1c0c",
    "outputId": "08db7265-4157-4bea-ab2e-e0c0157e5697"
   },
   "outputs": [
    {
     "data": {
      "text/plain": [
       "0       261.9600\n",
       "1       731.9400\n",
       "2        14.6200\n",
       "3       957.5775\n",
       "4        22.3680\n",
       "          ...   \n",
       "9795      3.7980\n",
       "9796     10.3680\n",
       "9797    235.1880\n",
       "9798     26.3760\n",
       "9799     10.3840\n",
       "Name: Sales, Length: 9800, dtype: float64"
      ]
     },
     "execution_count": 129,
     "metadata": {},
     "output_type": "execute_result"
    }
   ],
   "source": [
    "data.Sales"
   ]
  },
  {
   "cell_type": "markdown",
   "id": "d557e188",
   "metadata": {
    "id": "d557e188"
   },
   "source": [
    "<b>Дисперсия:</b>"
   ]
  },
  {
   "cell_type": "code",
   "execution_count": 132,
   "id": "f0ac503b",
   "metadata": {
    "id": "f0ac503b",
    "outputId": "df95fe6a-cdfb-4952-b8b2-4e703423e20b"
   },
   "outputs": [
    {
     "data": {
      "text/plain": [
       "392652.5015683523"
      ]
     },
     "execution_count": 132,
     "metadata": {},
     "output_type": "execute_result"
    }
   ],
   "source": [
    "np.var(data.Sales)"
   ]
  },
  {
   "cell_type": "markdown",
   "id": "2888ec92",
   "metadata": {
    "id": "2888ec92"
   },
   "source": [
    "<b>Среднеквадратичное отклонение:</b>"
   ]
  },
  {
   "cell_type": "code",
   "execution_count": 135,
   "id": "81bbdcb7",
   "metadata": {
    "id": "81bbdcb7",
    "outputId": "2f32053d-dc86-4ae6-ec7b-68cba7f9f7c6"
   },
   "outputs": [
    {
     "data": {
      "text/plain": [
       "626.6199019887193"
      ]
     },
     "execution_count": 135,
     "metadata": {},
     "output_type": "execute_result"
    }
   ],
   "source": [
    "np.std(data.Sales)"
   ]
  },
  {
   "cell_type": "markdown",
   "id": "d5828184",
   "metadata": {
    "id": "d5828184"
   },
   "source": [
    "<b>Размах:</b>"
   ]
  },
  {
   "cell_type": "code",
   "execution_count": 138,
   "id": "2484b325",
   "metadata": {
    "id": "2484b325",
    "outputId": "4b121d09-04a1-4d1b-f7bf-d5285b33286b"
   },
   "outputs": [
    {
     "data": {
      "text/plain": [
       "(22638.48, 0.444)"
      ]
     },
     "execution_count": 138,
     "metadata": {},
     "output_type": "execute_result"
    }
   ],
   "source": [
    "np.max(data.Sales), np.min(data.Sales)"
   ]
  },
  {
   "cell_type": "code",
   "execution_count": 140,
   "id": "eef51be7",
   "metadata": {
    "id": "eef51be7",
    "outputId": "4333271a-5332-4229-a09e-d7132ab484ac"
   },
   "outputs": [
    {
     "data": {
      "text/plain": [
       "22638.036"
      ]
     },
     "execution_count": 140,
     "metadata": {},
     "output_type": "execute_result"
    }
   ],
   "source": [
    "np.max(data.Sales) - np.min(data.Sales)"
   ]
  },
  {
   "cell_type": "markdown",
   "id": "1aac1404",
   "metadata": {
    "id": "1aac1404"
   },
   "source": [
    "<b>Перцентили, квартили и межквартильный размах:</b>"
   ]
  },
  {
   "cell_type": "code",
   "execution_count": 143,
   "id": "dfefd6e8",
   "metadata": {
    "id": "dfefd6e8",
    "outputId": "ae2b8c60-cd59-4ab1-f9b8-a7837b893584"
   },
   "outputs": [
    {
     "data": {
      "text/plain": [
       "(17.248, 210.60500000000002)"
      ]
     },
     "execution_count": 143,
     "metadata": {},
     "output_type": "execute_result"
    }
   ],
   "source": [
    "q1 = np.quantile(data.Sales, q=0.25)\n",
    "q3 = np.quantile(data.Sales, q=0.75)\n",
    "q1, q3"
   ]
  },
  {
   "cell_type": "code",
   "execution_count": 145,
   "id": "da7d3386",
   "metadata": {
    "id": "da7d3386"
   },
   "outputs": [],
   "source": [
    "# для наглядности уменьшим вариабельность данных\n",
    "data_cut = data.Sales[data.Sales < 400]"
   ]
  },
  {
   "cell_type": "code",
   "execution_count": 147,
   "id": "13fc2344",
   "metadata": {
    "id": "13fc2344",
    "outputId": "5871c83c-2e84-49c1-f61a-041a7514635f"
   },
   "outputs": [
    {
     "data": {
      "text/plain": [
       "<Axes: xlabel='Sales'>"
      ]
     },
     "execution_count": 147,
     "metadata": {},
     "output_type": "execute_result"
    },
    {
     "data": {
      "image/png": "[encoded data removed]",
      "text/plain": [
       "<Figure size 700x400 with 1 Axes>"
      ]
     },
     "metadata": {},
     "output_type": "display_data"
    }
   ],
   "source": [
    "sns.boxplot(x = data_cut, color='orange')"
   ]
  },
  {
   "cell_type": "markdown",
   "id": "d8b373df",
   "metadata": {
    "id": "d8b373df"
   },
   "source": [
    "---\n",
    "## Итоги:\n",
    "1. Вариабельность данных необходимо определять для оценки того, насколько сильно различаются между собой значения признака.\n",
    "2. Для оценки вариабельности необходимо в совокупности оценить следующие статистики:\n",
    "    - дисперсию или среднеквадратичное отклонение;\n",
    "    - минимальное и маскимальное значение выборки и размах;\n",
    "    - межквартильный размах.\n",
    "4. Для наглядного представления дисперсности данных полезно строить график \"ящик с усами\"."
   ]
  },
  {
   "cell_type": "code",
   "execution_count": null,
   "id": "c5d3728f",
   "metadata": {
    "id": "c5d3728f"
   },
   "outputs": [],
   "source": []
  },
  {
   "cell_type": "code",
   "execution_count": null,
   "id": "3979b180-8ded-47aa-896c-4272b2996c48",
   "metadata": {},
   "outputs": [],
   "source": []
  }
 ],
 "metadata": {
  "colab": {
   "provenance": []
  },
  "kernelspec": {
   "display_name": "Python [conda env:base] *",
   "language": "python",
   "name": "conda-base-py"
  },
  "language_info": {
   "codemirror_mode": {
    "name": "ipython",
    "version": 3
   },
   "file_extension": ".py",
   "mimetype": "text/x-python",
   "name": "python",
   "nbconvert_exporter": "python",
   "pygments_lexer": "ipython3",
   "version": "3.12.7"
  }
 },
 "nbformat": 4,
 "nbformat_minor": 5
}
