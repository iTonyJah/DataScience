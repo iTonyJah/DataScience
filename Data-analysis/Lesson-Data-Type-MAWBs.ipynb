{
 "cells": [
  {
   "cell_type": "code",
   "execution_count": 10,
   "id": "5a35e313",
   "metadata": {
    "id": "5a35e313"
   },
   "outputs": [],
   "source": [
    "import pandas as pd\n",
    "import seaborn as sns"
   ]
  },
  {
   "cell_type": "code",
   "execution_count": 16,
   "id": "14e22feb",
   "metadata": {
    "id": "14e22feb"
   },
   "outputs": [],
   "source": [
    "data = pd.read_csv('MAWBs_cut_0528.csv', sep=';')"
   ]
  },
  {
   "cell_type": "code",
   "execution_count": 20,
   "id": "3cebb593",
   "metadata": {
    "id": "3cebb593",
    "outputId": "d81e62e3-c6c7-4292-cd1f-8f5505a3bff1"
   },
   "outputs": [
    {
     "data": {
      "text/html": [
       "<div>\n",
       "<style scoped>\n",
       "    .dataframe tbody tr th:only-of-type {\n",
       "        vertical-align: middle;\n",
       "    }\n",
       "\n",
       "    .dataframe tbody tr th {\n",
       "        vertical-align: top;\n",
       "    }\n",
       "\n",
       "    .dataframe thead th {\n",
       "        text-align: right;\n",
       "    }\n",
       "</style>\n",
       "<table border=\"1\" class=\"dataframe\">\n",
       "  <thead>\n",
       "    <tr style=\"text-align: right;\">\n",
       "      <th></th>\n",
       "      <th>Shipment #</th>\n",
       "      <th>Pickup Date w/o time</th>\n",
       "      <th>Delivery Date w/o time</th>\n",
       "      <th>Last Update Date</th>\n",
       "      <th>Last Update User</th>\n",
       "      <th>Дата создания</th>\n",
       "      <th>Автор</th>\n",
       "      <th>Статья ДДС</th>\n",
       "      <th>Shipper Name</th>\n",
       "      <th>City PU</th>\n",
       "      <th>...</th>\n",
       "      <th># Sh</th>\n",
       "      <th>route</th>\n",
       "      <th>PU City</th>\n",
       "      <th>DLV City</th>\n",
       "      <th>direction</th>\n",
       "      <th>direction both</th>\n",
       "      <th>RU&amp;VAT</th>\n",
       "      <th>Customer</th>\n",
       "      <th>Group2</th>\n",
       "      <th>Group det</th>\n",
       "    </tr>\n",
       "  </thead>\n",
       "  <tbody>\n",
       "    <tr>\n",
       "      <th>0</th>\n",
       "      <td>708064</td>\n",
       "      <td>31.12.22</td>\n",
       "      <td>01.01.23</td>\n",
       "      <td>18.01.23</td>\n",
       "      <td>Скопенко Анна Алексеевна</td>\n",
       "      <td>30.12.22</td>\n",
       "      <td>Скопенко Анна Алексеевна</td>\n",
       "      <td>ПРОЧЕЕ</td>\n",
       "      <td>ИрАэро Авиакомпания АО</td>\n",
       "      <td>Москва</td>\n",
       "      <td>...</td>\n",
       "      <td>1</td>\n",
       "      <td>Москва - Иркутск</td>\n",
       "      <td>_Москва</td>\n",
       "      <td>Иркутск</td>\n",
       "      <td>_Москва - Иркутск</td>\n",
       "      <td>_Москва &lt;--&gt; Иркутск</td>\n",
       "      <td>RU-</td>\n",
       "      <td>ИрАэро</td>\n",
       "      <td>6-O</td>\n",
       "      <td>6-6 Spare parts</td>\n",
       "    </tr>\n",
       "    <tr>\n",
       "      <th>1</th>\n",
       "      <td>707864</td>\n",
       "      <td>29.12.22</td>\n",
       "      <td>03.01.23</td>\n",
       "      <td>30.01.23</td>\n",
       "      <td>Новикова Дарья</td>\n",
       "      <td>28.12.22</td>\n",
       "      <td>Новикова Дарья</td>\n",
       "      <td>ТРЕЙДИНГ ДМ</td>\n",
       "      <td>Техномет</td>\n",
       "      <td>Москва</td>\n",
       "      <td>...</td>\n",
       "      <td>1</td>\n",
       "      <td>Москва - Каменск-Уральский</td>\n",
       "      <td>_Москва</td>\n",
       "      <td>Екатеринбург</td>\n",
       "      <td>_Москва - Екатеринбург</td>\n",
       "      <td>_Москва &lt;--&gt; Екатеринбург</td>\n",
       "      <td>RU-</td>\n",
       "      <td>Техномет / ТМТорг</td>\n",
       "      <td>2-PM</td>\n",
       "      <td>2-4 Other air transport</td>\n",
       "    </tr>\n",
       "    <tr>\n",
       "      <th>2</th>\n",
       "      <td>708022</td>\n",
       "      <td>30.12.22</td>\n",
       "      <td>03.01.23</td>\n",
       "      <td>31.01.23</td>\n",
       "      <td>Косарынская Людмила</td>\n",
       "      <td>30.12.22</td>\n",
       "      <td>Косарынская Людмила</td>\n",
       "      <td>БАНКИ</td>\n",
       "      <td>РОСБАНК ПАО</td>\n",
       "      <td>Москва</td>\n",
       "      <td>...</td>\n",
       "      <td>1</td>\n",
       "      <td>Москва - Москва</td>\n",
       "      <td>_Москва</td>\n",
       "      <td>_Москва</td>\n",
       "      <td>_Москва - _Москва</td>\n",
       "      <td>_Москва &lt;--&gt; _Москва</td>\n",
       "      <td>RU-</td>\n",
       "      <td>РОСБАНК</td>\n",
       "      <td>4-ATM/CIT</td>\n",
       "      <td>4-6 Other</td>\n",
       "    </tr>\n",
       "    <tr>\n",
       "      <th>3</th>\n",
       "      <td>707532</td>\n",
       "      <td>28.12.22</td>\n",
       "      <td>04.01.23</td>\n",
       "      <td>17.01.23</td>\n",
       "      <td>Кудрявцева Надежда</td>\n",
       "      <td>26.12.22</td>\n",
       "      <td>Косарынская Людмила</td>\n",
       "      <td>АВТОКАТАЛИЗАТОРЫ</td>\n",
       "      <td>Еврокат Волга ООО</td>\n",
       "      <td>Нижний Новгород</td>\n",
       "      <td>...</td>\n",
       "      <td>1</td>\n",
       "      <td>Нижний Новгород - Красноярск</td>\n",
       "      <td>Нижний Новгород</td>\n",
       "      <td>Красноярск</td>\n",
       "      <td>Нижний Новгород - Красноярск</td>\n",
       "      <td>Нижний Новгород &lt;--&gt; Красноярск</td>\n",
       "      <td>RU-</td>\n",
       "      <td>Автокаты</td>\n",
       "      <td>2-PM</td>\n",
       "      <td>2-6 Catalyst</td>\n",
       "    </tr>\n",
       "    <tr>\n",
       "      <th>4</th>\n",
       "      <td>707524</td>\n",
       "      <td>28.12.22</td>\n",
       "      <td>04.01.23</td>\n",
       "      <td>17.01.23</td>\n",
       "      <td>Кудрявцева Надежда</td>\n",
       "      <td>26.12.22</td>\n",
       "      <td>Косарынская Людмила</td>\n",
       "      <td>АВТОКАТАЛИЗАТОРЫ</td>\n",
       "      <td>Евромет Север ООО</td>\n",
       "      <td>Санкт-Петербург</td>\n",
       "      <td>...</td>\n",
       "      <td>1</td>\n",
       "      <td>Санкт-Петербург - Красноярск</td>\n",
       "      <td>Санкт-Петербург</td>\n",
       "      <td>Красноярск</td>\n",
       "      <td>Санкт-Петербург - Красноярск</td>\n",
       "      <td>Красноярск &lt;--&gt; Санкт-Петербург</td>\n",
       "      <td>RU-</td>\n",
       "      <td>Автокаты</td>\n",
       "      <td>2-PM</td>\n",
       "      <td>2-6 Catalyst</td>\n",
       "    </tr>\n",
       "  </tbody>\n",
       "</table>\n",
       "<p>5 rows × 29 columns</p>\n",
       "</div>"
      ],
      "text/plain": [
       "   Shipment # Pickup Date w/o time Delivery Date w/o time Last Update Date  \\\n",
       "0      708064             31.12.22               01.01.23         18.01.23   \n",
       "1      707864             29.12.22               03.01.23         30.01.23   \n",
       "2      708022             30.12.22               03.01.23         31.01.23   \n",
       "3      707532             28.12.22               04.01.23         17.01.23   \n",
       "4      707524             28.12.22               04.01.23         17.01.23   \n",
       "\n",
       "           Last Update User Дата создания                     Автор  \\\n",
       "0  Скопенко Анна Алексеевна      30.12.22  Скопенко Анна Алексеевна   \n",
       "1            Новикова Дарья      28.12.22            Новикова Дарья   \n",
       "2       Косарынская Людмила      30.12.22       Косарынская Людмила   \n",
       "3        Кудрявцева Надежда      26.12.22       Косарынская Людмила   \n",
       "4        Кудрявцева Надежда      26.12.22       Косарынская Людмила   \n",
       "\n",
       "         Статья ДДС            Shipper Name          City PU  ... # Sh  \\\n",
       "0            ПРОЧЕЕ  ИрАэро Авиакомпания АО           Москва  ...    1   \n",
       "1       ТРЕЙДИНГ ДМ                Техномет           Москва  ...    1   \n",
       "2             БАНКИ             РОСБАНК ПАО           Москва  ...    1   \n",
       "3  АВТОКАТАЛИЗАТОРЫ       Еврокат Волга ООО  Нижний Новгород  ...    1   \n",
       "4  АВТОКАТАЛИЗАТОРЫ       Евромет Север ООО  Санкт-Петербург  ...    1   \n",
       "\n",
       "                          route          PU City      DLV City  \\\n",
       "0              Москва - Иркутск          _Москва       Иркутск   \n",
       "1    Москва - Каменск-Уральский          _Москва  Екатеринбург   \n",
       "2               Москва - Москва          _Москва       _Москва   \n",
       "3  Нижний Новгород - Красноярск  Нижний Новгород    Красноярск   \n",
       "4  Санкт-Петербург - Красноярск  Санкт-Петербург    Красноярск   \n",
       "\n",
       "                      direction                   direction both RU&VAT  \\\n",
       "0             _Москва - Иркутск             _Москва <--> Иркутск    RU-   \n",
       "1        _Москва - Екатеринбург        _Москва <--> Екатеринбург    RU-   \n",
       "2             _Москва - _Москва             _Москва <--> _Москва    RU-   \n",
       "3  Нижний Новгород - Красноярск  Нижний Новгород <--> Красноярск    RU-   \n",
       "4  Санкт-Петербург - Красноярск  Красноярск <--> Санкт-Петербург    RU-   \n",
       "\n",
       "            Customer     Group2                Group det  \n",
       "0             ИрАэро        6-O          6-6 Spare parts  \n",
       "1  Техномет / ТМТорг       2-PM  2-4 Other air transport  \n",
       "2            РОСБАНК  4-ATM/CIT                4-6 Other  \n",
       "3           Автокаты       2-PM             2-6 Catalyst  \n",
       "4           Автокаты       2-PM             2-6 Catalyst  \n",
       "\n",
       "[5 rows x 29 columns]"
      ]
     },
     "execution_count": 20,
     "metadata": {},
     "output_type": "execute_result"
    }
   ],
   "source": [
    "data.head() #tail"
   ]
  },
  {
   "cell_type": "code",
   "execution_count": 22,
   "id": "74f382c6",
   "metadata": {
    "id": "74f382c6"
   },
   "outputs": [],
   "source": [
    "#DataFame, Series"
   ]
  },
  {
   "cell_type": "code",
   "execution_count": 24,
   "id": "a4a61e5d",
   "metadata": {
    "id": "a4a61e5d",
    "outputId": "c23a68a0-3c6c-4a46-edb6-60bae7fc4363"
   },
   "outputs": [
    {
     "name": "stdout",
     "output_type": "stream",
     "text": [
      "<class 'pandas.core.frame.DataFrame'>\n",
      "RangeIndex: 121090 entries, 0 to 121089\n",
      "Data columns (total 29 columns):\n",
      " #   Column                     Non-Null Count   Dtype \n",
      "---  ------                     --------------   ----- \n",
      " 0   Shipment #                 121090 non-null  int64 \n",
      " 1   Pickup Date w/o time       121090 non-null  object\n",
      " 2   Delivery Date w/o time     121090 non-null  object\n",
      " 3   Last Update Date           121081 non-null  object\n",
      " 4   Last Update User           121081 non-null  object\n",
      " 5   Дата создания              121081 non-null  object\n",
      " 6   Автор                      121081 non-null  object\n",
      " 7   Статья ДДС                 121090 non-null  object\n",
      " 8   Shipper Name               121090 non-null  object\n",
      " 9   City PU                    121090 non-null  object\n",
      " 10  City DLV                   121090 non-null  object\n",
      " 11  Mode Of Transport Sh       121090 non-null  object\n",
      " 12  DepartmentCodeDescription  121090 non-null  object\n",
      " 13  Service Type Name          121090 non-null  object\n",
      " 14  Gross Weight               121090 non-null  object\n",
      " 15  Revenue (Local)            121090 non-null  object\n",
      " 16  period                     121090 non-null  object\n",
      " 17  Group                      121090 non-null  object\n",
      " 18  Liability m₽               121090 non-null  object\n",
      " 19  # Sh                       121090 non-null  int64 \n",
      " 20  route                      121090 non-null  object\n",
      " 21  PU City                    121090 non-null  object\n",
      " 22  DLV City                   121090 non-null  object\n",
      " 23  direction                  121090 non-null  object\n",
      " 24  direction both             121090 non-null  object\n",
      " 25  RU&VAT                     121090 non-null  object\n",
      " 26  Customer                   121090 non-null  object\n",
      " 27  Group2                     121090 non-null  object\n",
      " 28  Group det                  121090 non-null  object\n",
      "dtypes: int64(2), object(27)\n",
      "memory usage: 26.8+ MB\n"
     ]
    }
   ],
   "source": [
    "data.info()"
   ]
  },
  {
   "cell_type": "code",
   "execution_count": 28,
   "id": "e1684710",
   "metadata": {
    "id": "e1684710",
    "outputId": "7cb51bb1-7ed2-4db8-e840-1438a9ea7677"
   },
   "outputs": [
    {
     "data": {
      "text/plain": [
       "array(['Дверь-в-Дверь', 'Дверь в дверь ЭКСПРЕСС', 'Банкоматы',\n",
       "       'банкоматы срочные', 'Перевозка по городу', 'Встречный груз',\n",
       "       'Дверь в дверь ОПТИМ', 'Доп адрес', 'Попутная доставка',\n",
       "       'Перевозка по Москве', 'Целевая доставка', 'Передача груза',\n",
       "       'Хранение', 'РКЦ', 'Плановый маршрут', 'Неплановый маршрут',\n",
       "       'Дверь-Дверь Оптим Регион', 'Обратный груз',\n",
       "       'Дверь в дверь Эконом', 'Доп.адрес по Москве', 'Терминал',\n",
       "       'Попутная доставка(Лоты 3)', 'выставка',\n",
       "       'Попутная доставка(Лоты 2)', 'Срочный', 'Дверь-Аэропорт', 'выдача',\n",
       "       'вооруженное сопровождение'], dtype=object)"
      ]
     },
     "execution_count": 28,
     "metadata": {},
     "output_type": "execute_result"
    }
   ],
   "source": [
    "# порядковый тип данных\n",
    "data['Service Type Name'].unique()"
   ]
  },
  {
   "cell_type": "code",
   "execution_count": 36,
   "id": "a69c2652",
   "metadata": {
    "id": "a69c2652",
    "outputId": "1f81c0b0-cb0d-45a2-cd64-c33c363d2d45"
   },
   "outputs": [
    {
     "data": {
      "text/plain": [
       "array(['ПРОЧЕЕ', 'ТРЕЙДИНГ ДМ', 'БАНКИ', 'АВТОКАТАЛИЗАТОРЫ', 'ЮВЕЛИРЫ',\n",
       "       'АФФ.ЗАВОДЫ', 'БАНКНОТЫ (ФИЗ И ЮР ЛИЦА)', 'ПРОМЫШЛЕННОСТЬ',\n",
       "       'НЕДРОПОЛЬЗОВАТЕЛИ', 'ЛОМБАРДЫ', 'ХРАНЕНИЕ', 'ИНКАССАЦИЯ'],\n",
       "      dtype=object)"
      ]
     },
     "execution_count": 36,
     "metadata": {},
     "output_type": "execute_result"
    }
   ],
   "source": [
    "# номинальный тип данных\n",
    "data['Статья ДДС'].unique()"
   ]
  },
  {
   "cell_type": "code",
   "execution_count": 34,
   "id": "cc119532",
   "metadata": {
    "id": "cc119532",
    "outputId": "f00c9ea7-9a15-4939-f8bf-0cc7a2404c2a"
   },
   "outputs": [
    {
     "data": {
      "text/plain": [
       "607"
      ]
     },
     "execution_count": 34,
     "metadata": {},
     "output_type": "execute_result"
    }
   ],
   "source": [
    "# дискретный тип данных\n",
    "len(data['direction'].unique())"
   ]
  },
  {
   "cell_type": "code",
   "execution_count": 38,
   "id": "1c629925",
   "metadata": {
    "id": "1c629925",
    "outputId": "6bc9547d-a784-4bd1-df21-4f33fe61debe"
   },
   "outputs": [
    {
     "data": {
      "text/plain": [
       "0          40 750\n",
       "1          47 482\n",
       "2             500\n",
       "3          78 114\n",
       "4         132 227\n",
       "           ...   \n",
       "121085    127 938\n",
       "121086     27 690\n",
       "121087     36 197\n",
       "121088    163 644\n",
       "121089      7 000\n",
       "Name: Revenue (Local), Length: 121090, dtype: object"
      ]
     },
     "execution_count": 38,
     "metadata": {},
     "output_type": "execute_result"
    }
   ],
   "source": [
    "# непрерывный тип данных\n",
    "data['Revenue (Local)']"
   ]
  },
  {
   "cell_type": "code",
   "execution_count": 40,
   "id": "2d94400c",
   "metadata": {
    "id": "2d94400c",
    "outputId": "d284f3f4-db63-470e-8e96-0156a2cec9c7"
   },
   "outputs": [
    {
     "data": {
      "text/plain": [
       "<Axes: xlabel='Статья ДДС', ylabel='count'>"
      ]
     },
     "execution_count": 40,
     "metadata": {},
     "output_type": "execute_result"
    },
    {
     "data": {
      "image/png": "[encoded data removed]",
      "text/plain": [
       "<Figure size 640x480 with 1 Axes>"
      ]
     },
     "metadata": {},
     "output_type": "display_data"
    }
   ],
   "source": [
    "sns.countplot(x=data['Статья ДДС'])"
   ]
  },
  {
   "cell_type": "code",
   "execution_count": 22,
   "id": "f34a7829",
   "metadata": {
    "id": "f34a7829",
    "outputId": "ba25a264-9135-4f6b-fee4-2c699d8feaf8"
   },
   "outputs": [
    {
     "data": {
      "text/plain": [
       "<Axes: xlabel='Segment', ylabel='count'>"
      ]
     },
     "execution_count": 22,
     "metadata": {},
     "output_type": "execute_result"
    },
    {
     "data": {
      "image/png": "[encoded data removed]",
      "text/plain": [
       "<Figure size 640x480 with 1 Axes>"
      ]
     },
     "metadata": {},
     "output_type": "display_data"
    }
   ],
   "source": [
    "sns.countplot(x=data['Segment'])"
   ]
  },
  {
   "cell_type": "code",
   "execution_count": 24,
   "id": "1caab3e4",
   "metadata": {
    "id": "1caab3e4",
    "outputId": "c9bcde67-56d6-4295-e11e-24283cdedfb3"
   },
   "outputs": [
    {
     "data": {
      "text/plain": [
       "<Axes: xlabel='Postal Code', ylabel='count'>"
      ]
     },
     "execution_count": 24,
     "metadata": {},
     "output_type": "execute_result"
    },
    {
     "data": {
      "image/png": "[encoded data removed]",
      "text/plain": [
       "<Figure size 640x480 with 1 Axes>"
      ]
     },
     "metadata": {},
     "output_type": "display_data"
    }
   ],
   "source": [
    "sns.countplot(x=data['Postal Code'])"
   ]
  },
  {
   "cell_type": "code",
   "execution_count": 26,
   "id": "edfb6889",
   "metadata": {
    "id": "edfb6889"
   },
   "outputs": [],
   "source": [
    "data = data[data['Sales'] < 500]"
   ]
  },
  {
   "cell_type": "code",
   "execution_count": 28,
   "id": "7e1e9d4c",
   "metadata": {
    "id": "7e1e9d4c",
    "outputId": "1669a6b0-3558-4b22-ed13-4c2a7673d28d"
   },
   "outputs": [
    {
     "data": {
      "text/plain": [
       "(8654, 18)"
      ]
     },
     "execution_count": 28,
     "metadata": {},
     "output_type": "execute_result"
    }
   ],
   "source": [
    "data.shape"
   ]
  },
  {
   "cell_type": "code",
   "execution_count": 30,
   "id": "5db883c7",
   "metadata": {
    "id": "5db883c7",
    "outputId": "0afdd67f-a4ba-4692-9b41-c2c3573ba87a"
   },
   "outputs": [
    {
     "data": {
      "text/plain": [
       "<Axes: xlabel='Sales', ylabel='Count'>"
      ]
     },
     "execution_count": 30,
     "metadata": {},
     "output_type": "execute_result"
    },
    {
     "data": {
      "image/png": "[encoded data removed]",
      "text/plain": [
       "<Figure size 640x480 with 1 Axes>"
      ]
     },
     "metadata": {},
     "output_type": "display_data"
    }
   ],
   "source": [
    "sns.histplot(x=data['Sales'])"
   ]
  },
  {
   "cell_type": "code",
   "execution_count": 32,
   "id": "ae08f9b0",
   "metadata": {
    "id": "ae08f9b0",
    "outputId": "9018364b-69e2-4dbd-8d7d-f0f01cba618c"
   },
   "outputs": [
    {
     "data": {
      "text/html": [
       "<div>\n",
       "<style scoped>\n",
       "    .dataframe tbody tr th:only-of-type {\n",
       "        vertical-align: middle;\n",
       "    }\n",
       "\n",
       "    .dataframe tbody tr th {\n",
       "        vertical-align: top;\n",
       "    }\n",
       "\n",
       "    .dataframe thead th {\n",
       "        text-align: right;\n",
       "    }\n",
       "</style>\n",
       "<table border=\"1\" class=\"dataframe\">\n",
       "  <thead>\n",
       "    <tr style=\"text-align: right;\">\n",
       "      <th></th>\n",
       "      <th>Row ID</th>\n",
       "      <th>Postal Code</th>\n",
       "      <th>Sales</th>\n",
       "    </tr>\n",
       "  </thead>\n",
       "  <tbody>\n",
       "    <tr>\n",
       "      <th>count</th>\n",
       "      <td>8654.000000</td>\n",
       "      <td>8648.000000</td>\n",
       "      <td>8654.000000</td>\n",
       "    </tr>\n",
       "    <tr>\n",
       "      <th>mean</th>\n",
       "      <td>4915.763924</td>\n",
       "      <td>55430.749075</td>\n",
       "      <td>93.166296</td>\n",
       "    </tr>\n",
       "    <tr>\n",
       "      <th>std</th>\n",
       "      <td>2830.638977</td>\n",
       "      <td>31960.123339</td>\n",
       "      <td>114.616418</td>\n",
       "    </tr>\n",
       "    <tr>\n",
       "      <th>min</th>\n",
       "      <td>1.000000</td>\n",
       "      <td>1040.000000</td>\n",
       "      <td>0.444000</td>\n",
       "    </tr>\n",
       "    <tr>\n",
       "      <th>25%</th>\n",
       "      <td>2454.250000</td>\n",
       "      <td>23320.000000</td>\n",
       "      <td>15.011000</td>\n",
       "    </tr>\n",
       "    <tr>\n",
       "      <th>50%</th>\n",
       "      <td>4924.000000</td>\n",
       "      <td>60035.000000</td>\n",
       "      <td>40.832000</td>\n",
       "    </tr>\n",
       "    <tr>\n",
       "      <th>75%</th>\n",
       "      <td>7361.750000</td>\n",
       "      <td>90004.000000</td>\n",
       "      <td>124.360000</td>\n",
       "    </tr>\n",
       "    <tr>\n",
       "      <th>max</th>\n",
       "      <td>9800.000000</td>\n",
       "      <td>99301.000000</td>\n",
       "      <td>499.990000</td>\n",
       "    </tr>\n",
       "  </tbody>\n",
       "</table>\n",
       "</div>"
      ],
      "text/plain": [
       "            Row ID   Postal Code        Sales\n",
       "count  8654.000000   8648.000000  8654.000000\n",
       "mean   4915.763924  55430.749075    93.166296\n",
       "std    2830.638977  31960.123339   114.616418\n",
       "min       1.000000   1040.000000     0.444000\n",
       "25%    2454.250000  23320.000000    15.011000\n",
       "50%    4924.000000  60035.000000    40.832000\n",
       "75%    7361.750000  90004.000000   124.360000\n",
       "max    9800.000000  99301.000000   499.990000"
      ]
     },
     "execution_count": 32,
     "metadata": {},
     "output_type": "execute_result"
    }
   ],
   "source": [
    "data.describe()"
   ]
  },
  {
   "cell_type": "code",
   "execution_count": 34,
   "id": "6c8683a3",
   "metadata": {
    "id": "6c8683a3",
    "outputId": "24c96206-51ce-43c6-f526-6003422d8ca0"
   },
   "outputs": [
    {
     "data": {
      "text/plain": [
       "<Axes: xlabel='Sales'>"
      ]
     },
     "execution_count": 34,
     "metadata": {},
     "output_type": "execute_result"
    },
    {
     "data": {
      "image/png": "[encoded data removed]",
      "text/plain": [
       "<Figure size 640x480 with 1 Axes>"
      ]
     },
     "metadata": {},
     "output_type": "display_data"
    }
   ],
   "source": [
    "sns.boxplot(x=data['Sales'])"
   ]
  },
  {
   "cell_type": "code",
   "execution_count": 36,
   "id": "25770a8f",
   "metadata": {
    "id": "25770a8f",
    "outputId": "44796f42-b179-4488-b20b-a67644f67e31"
   },
   "outputs": [
    {
     "data": {
      "text/plain": [
       "<Axes: xlabel='Sales', ylabel='Segment'>"
      ]
     },
     "execution_count": 36,
     "metadata": {},
     "output_type": "execute_result"
    },
    {
     "data": {
      "image/png": "[encoded data removed]",
      "text/plain": [
       "<Figure size 640x480 with 1 Axes>"
      ]
     },
     "metadata": {},
     "output_type": "display_data"
    }
   ],
   "source": [
    "sns.boxplot(x=data['Sales'], y=data['Segment'])"
   ]
  },
  {
   "cell_type": "code",
   "execution_count": 38,
   "id": "9483f582",
   "metadata": {
    "id": "9483f582",
    "outputId": "ac08a4d6-d19c-4878-9a62-bc50dfbcd297"
   },
   "outputs": [
    {
     "data": {
      "text/plain": [
       "<Axes: xlabel='Sales', ylabel='Ship Mode'>"
      ]
     },
     "execution_count": 38,
     "metadata": {},
     "output_type": "execute_result"
    },
    {
     "data": {
      "image/png": "[encoded data removed]",
      "text/plain": [
       "<Figure size 640x480 with 1 Axes>"
      ]
     },
     "metadata": {},
     "output_type": "display_data"
    }
   ],
   "source": [
    "sns.boxplot(x=data['Sales'], y=data['Ship Mode'])"
   ]
  },
  {
   "cell_type": "code",
   "execution_count": null,
   "id": "54a5c67e",
   "metadata": {
    "id": "54a5c67e"
   },
   "outputs": [],
   "source": []
  }
 ],
 "metadata": {
  "colab": {
   "provenance": []
  },
  "kernelspec": {
   "display_name": "Python 3 (ipykernel)",
   "language": "python",
   "name": "python3"
  },
  "language_info": {
   "codemirror_mode": {
    "name": "ipython",
    "version": 3
   },
   "file_extension": ".py",
   "mimetype": "text/x-python",
   "name": "python",
   "nbconvert_exporter": "python",
   "pygments_lexer": "ipython3",
   "version": "3.12.4"
  }
 },
 "nbformat": 4,
 "nbformat_minor": 5
}
