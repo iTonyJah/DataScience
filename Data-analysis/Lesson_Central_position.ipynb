{
 "cells": [
  {
   "cell_type": "markdown",
   "id": "dying-laugh",
   "metadata": {
    "id": "dying-laugh"
   },
   "source": [
    "# Расчет центрального положения величины"
   ]
  },
  {
   "cell_type": "markdown",
   "id": "c1093aa4",
   "metadata": {
    "id": "c1093aa4"
   },
   "source": [
    "### План урока:\n",
    "* Зачем нужно определять центральное положение величины?\n",
    "* Метрики центрального положения, их особенности и отличия.\n",
    "* Практика в jupyter notebook.\n"
   ]
  },
  {
   "cell_type": "markdown",
   "id": "a940603b",
   "metadata": {
    "id": "a940603b"
   },
   "source": [
    "#### Зачем нужно определять центральное положение величины\n",
    "Это помогает понять, какие значения для каждого признака являются типичными."
   ]
  },
  {
   "cell_type": "markdown",
   "id": "attended-tradition",
   "metadata": {
    "id": "attended-tradition",
    "jp-MarkdownHeadingCollapsed": true
   },
   "source": [
    "## 1. Синтетические данные"
   ]
  },
  {
   "cell_type": "code",
   "execution_count": 2,
   "id": "2e37ada8",
   "metadata": {
    "id": "2e37ada8"
   },
   "outputs": [],
   "source": [
    "import numpy as np\n",
    "from scipy import stats"
   ]
  },
  {
   "cell_type": "code",
   "execution_count": 4,
   "id": "79e60007",
   "metadata": {
    "id": "79e60007"
   },
   "outputs": [],
   "source": [
    "# Количество товаров в корзине пользователя на маркетплейсе\n",
    "x = [10, 2, 2, 5, 26, 6]"
   ]
  },
  {
   "cell_type": "markdown",
   "id": "unable-ground",
   "metadata": {
    "id": "unable-ground"
   },
   "source": [
    "### Выборочное среднее:"
   ]
  },
  {
   "cell_type": "markdown",
   "id": "15216f91",
   "metadata": {
    "id": "15216f91"
   },
   "source": [
    "$$\\bar{x} = \\frac{\\sum_{i = 1}^{n}x_i}{n}$$\n",
    "$n$ – число элементов выборки\n",
    "\n",
    "$x_{i}$ – элемент выборки"
   ]
  },
  {
   "cell_type": "code",
   "execution_count": 8,
   "id": "26ca172d",
   "metadata": {
    "id": "26ca172d",
    "outputId": "fd60136a-3390-4986-f0b9-39eaef7c941f"
   },
   "outputs": [
    {
     "data": {
      "text/plain": [
       "8.5"
      ]
     },
     "execution_count": 8,
     "metadata": {},
     "output_type": "execute_result"
    }
   ],
   "source": [
    "mean = sum(x) / len(x)\n",
    "mean"
   ]
  },
  {
   "cell_type": "code",
   "execution_count": 10,
   "id": "250654a7",
   "metadata": {
    "id": "250654a7",
    "outputId": "b083eb33-4a67-4b1a-8706-0ed32d9d0cdb"
   },
   "outputs": [
    {
     "data": {
      "text/plain": [
       "8.5"
      ]
     },
     "execution_count": 10,
     "metadata": {},
     "output_type": "execute_result"
    }
   ],
   "source": [
    "mean = np.mean(x)\n",
    "mean"
   ]
  },
  {
   "cell_type": "markdown",
   "id": "2f6ee86a",
   "metadata": {
    "id": "2f6ee86a"
   },
   "source": [
    "---\n",
    "Выборочное среднее сильно чувствительно к выбросам."
   ]
  },
  {
   "cell_type": "code",
   "execution_count": 17,
   "id": "f6f303c7",
   "metadata": {
    "id": "f6f303c7"
   },
   "outputs": [],
   "source": [
    "# добавили пользователя-перекупщика\n",
    "y = [10, 2, 2, 5, 26, 6, 500]"
   ]
  },
  {
   "cell_type": "code",
   "execution_count": 19,
   "id": "466156a6",
   "metadata": {
    "id": "466156a6",
    "outputId": "f5f02e97-d22b-4621-98dc-fa221d07855f"
   },
   "outputs": [
    {
     "data": {
      "text/plain": [
       "78.71428571428571"
      ]
     },
     "execution_count": 19,
     "metadata": {},
     "output_type": "execute_result"
    }
   ],
   "source": [
    "np.mean(y)"
   ]
  },
  {
   "cell_type": "markdown",
   "id": "0dfabbf7",
   "metadata": {
    "id": "0dfabbf7"
   },
   "source": [
    "### Усеченное среднее\n",
    "\n",
    "Усеченное среднее — это среднее значение набора данных, рассчитанное после удаления определенного процента наименьших и наибольших значений из набора данных."
   ]
  },
  {
   "cell_type": "code",
   "execution_count": 26,
   "id": "9ef46399",
   "metadata": {
    "id": "9ef46399",
    "outputId": "7d2828eb-12c9-492a-bdbd-53265b4d1d1e"
   },
   "outputs": [
    {
     "data": {
      "text/plain": [
       "9.8"
      ]
     },
     "execution_count": 26,
     "metadata": {},
     "output_type": "execute_result"
    }
   ],
   "source": [
    "stats.trim_mean(y, 0.2)"
   ]
  },
  {
   "cell_type": "markdown",
   "id": "subtle-gallery",
   "metadata": {
    "id": "subtle-gallery"
   },
   "source": [
    "### Взвешенное среднее:\n",
    "\n",
    "$$\\bar{x} = \\frac{\\sum_{i = 1}^{n}x_i w_i}{\\sum_{i = 1}^{n}w_i}$$\n",
    "$n$ – число элементов выборки\n",
    "\n",
    "$x_{i}$ – элемент выборки\n",
    "\n",
    "$w_{i}$ – вес элемента выборки\n",
    "\n",
    "---\n",
    "Взвешенное среднее используют тогда, когда некоторые значения интересующей нас переменной x <b>более важны</b>, чем другие.\n",
    "\n",
    "Мы присоединяем вес $w_{i}$ к каждому из значений $x_{i}$ в нашей выборке для того, чтобы учесть эту важность."
   ]
  },
  {
   "cell_type": "code",
   "execution_count": 34,
   "id": "1f3d32fe",
   "metadata": {
    "id": "1f3d32fe"
   },
   "outputs": [],
   "source": [
    "# преобразуем list в numpy массив\n",
    "y = np.array([10, 2, 2, 5, 26, 6, 500])\n",
    "w = np.array([0.2, 0.5, 0.5, 0.4, 0.2, 0.3, 0.1])"
   ]
  },
  {
   "cell_type": "code",
   "execution_count": 36,
   "id": "ce406413",
   "metadata": {
    "id": "ce406413",
    "outputId": "92dd565c-bebf-406a-9135-310143dd3f59"
   },
   "outputs": [
    {
     "data": {
      "text/plain": [
       "28.636363636363633"
      ]
     },
     "execution_count": 36,
     "metadata": {},
     "output_type": "execute_result"
    }
   ],
   "source": [
    "wm = y.dot(w) / sum(w)\n",
    "wm"
   ]
  },
  {
   "cell_type": "code",
   "execution_count": 38,
   "id": "73152e4d",
   "metadata": {
    "id": "73152e4d",
    "outputId": "2b45ff4e-8a03-4dba-c113-677259c987b2"
   },
   "outputs": [
    {
     "data": {
      "text/plain": [
       "28.636363636363633"
      ]
     },
     "execution_count": 38,
     "metadata": {},
     "output_type": "execute_result"
    }
   ],
   "source": [
    "wm = np.average(y, weights=w)\n",
    "wm"
   ]
  },
  {
   "cell_type": "markdown",
   "id": "95b458ab",
   "metadata": {
    "id": "95b458ab"
   },
   "source": [
    "---\n",
    "Взвешенное среднее часто можно встретить в физике или экономике.\n",
    "\n",
    "<b>Средняя скорость тела</b>\n",
    "\n",
    "$$v_{cp} = \\frac{\\sum_{i = 1}^{n}t_i v_i}{\\sum_{i = 1}^{n}t_i}$$\n",
    "\n",
    "$v_{i}$ – скорость тела на $i$-м промежутке\n",
    "\n",
    "$t_{i}$ – длительность $i$-го промежутка"
   ]
  },
  {
   "cell_type": "markdown",
   "id": "settled-horror",
   "metadata": {
    "id": "settled-horror"
   },
   "source": [
    "### Медиана:"
   ]
  },
  {
   "cell_type": "markdown",
   "id": "470fd2cb",
   "metadata": {
    "id": "470fd2cb"
   },
   "source": [
    "Медиана – число, которое находится в середине выборки, если ее упорядочить по возрастанию, то есть такое число, что половина из элементов набора не меньше него, а другая половина не больше."
   ]
  },
  {
   "cell_type": "code",
   "execution_count": 47,
   "id": "ad15d0c4",
   "metadata": {
    "id": "ad15d0c4"
   },
   "outputs": [],
   "source": [
    "y = [10, 2, 2, 5, 26, 6, 500]"
   ]
  },
  {
   "cell_type": "code",
   "execution_count": 49,
   "id": "59734516",
   "metadata": {
    "id": "59734516",
    "outputId": "26947126-f433-44d5-bcf9-c726938ea2a1"
   },
   "outputs": [
    {
     "data": {
      "text/plain": [
       "[2, 2, 5, 6, 10, 26, 500]"
      ]
     },
     "execution_count": 49,
     "metadata": {},
     "output_type": "execute_result"
    }
   ],
   "source": [
    "# нечетное число элементов выборки\n",
    "sorted(y) # 6.0"
   ]
  },
  {
   "cell_type": "code",
   "execution_count": 51,
   "id": "fbba84f6",
   "metadata": {
    "id": "fbba84f6",
    "outputId": "c266774f-8fb7-4fb6-84bb-18bedf4c4ed4"
   },
   "outputs": [
    {
     "data": {
      "text/plain": [
       "[2, 2, 5, 6, 10, 26]"
      ]
     },
     "execution_count": 51,
     "metadata": {},
     "output_type": "execute_result"
    }
   ],
   "source": [
    "# четное число элементов выборки\n",
    "sorted(x) # 5.5"
   ]
  },
  {
   "cell_type": "code",
   "execution_count": 53,
   "id": "922ede90",
   "metadata": {
    "id": "922ede90",
    "outputId": "62a53bf5-c6c2-4214-c3c6-8dd5e59cb4e2"
   },
   "outputs": [
    {
     "data": {
      "text/plain": [
       "(6.0, 5.5)"
      ]
     },
     "execution_count": 53,
     "metadata": {},
     "output_type": "execute_result"
    }
   ],
   "source": [
    "np.median(y), np.median(x)"
   ]
  },
  {
   "cell_type": "markdown",
   "id": "balanced-debut",
   "metadata": {
    "id": "balanced-debut"
   },
   "source": [
    "### Мода:"
   ]
  },
  {
   "cell_type": "markdown",
   "id": "ee17507c",
   "metadata": {
    "id": "ee17507c"
   },
   "source": [
    "Мода – это элемент, который чаще всего встречается в данной выборке"
   ]
  },
  {
   "cell_type": "code",
   "execution_count": 74,
   "id": "62a988b0",
   "metadata": {
    "id": "62a988b0"
   },
   "outputs": [],
   "source": [
    "y = [10, 2, 2, 5, 26, 6, 500]"
   ]
  },
  {
   "cell_type": "code",
   "execution_count": 76,
   "id": "9c14f91d",
   "metadata": {
    "id": "9c14f91d",
    "outputId": "35b17b6e-f108-4c49-dbc1-c61c1c6684fb"
   },
   "outputs": [
    {
     "data": {
      "text/plain": [
       "ModeResult(mode=2, count=2)"
      ]
     },
     "execution_count": 76,
     "metadata": {},
     "output_type": "execute_result"
    }
   ],
   "source": [
    "mode = stats.mode(y)\n",
    "mode"
   ]
  },
  {
   "cell_type": "markdown",
   "id": "18b9d381",
   "metadata": {
    "id": "18b9d381"
   },
   "source": [
    "---\n",
    "Мода как средняя величина употребляется чаще для данных, имеющих нечисловую природу."
   ]
  },
  {
   "cell_type": "code",
   "execution_count": 79,
   "id": "3e23884d",
   "metadata": {
    "id": "3e23884d"
   },
   "outputs": [],
   "source": [
    "# бинарные данные\n",
    "b = [0, 1, 0, 0, 1]"
   ]
  },
  {
   "cell_type": "code",
   "execution_count": 81,
   "id": "24503dee",
   "metadata": {
    "id": "24503dee",
    "outputId": "fd3b9b42-920e-46aa-8332-e7c5b6ac528a"
   },
   "outputs": [
    {
     "data": {
      "text/plain": [
       "ModeResult(mode=0, count=3)"
      ]
     },
     "execution_count": 81,
     "metadata": {},
     "output_type": "execute_result"
    }
   ],
   "source": [
    "mode = stats.mode(b)\n",
    "mode"
   ]
  },
  {
   "cell_type": "markdown",
   "id": "super-return",
   "metadata": {
    "id": "super-return"
   },
   "source": [
    "## 2. Боевой датасет"
   ]
  },
  {
   "cell_type": "code",
   "execution_count": null,
   "id": "12cd7086",
   "metadata": {
    "id": "12cd7086"
   },
   "outputs": [],
   "source": [
    "import pandas as pd"
   ]
  },
  {
   "cell_type": "code",
   "execution_count": null,
   "id": "7bc01429",
   "metadata": {
    "id": "7bc01429",
    "outputId": "b607a381-e734-4467-a842-fa3550cf36fd"
   },
   "outputs": [
    {
     "data": {
      "text/html": [
       "<div>\n",
       "<style scoped>\n",
       "    .dataframe tbody tr th:only-of-type {\n",
       "        vertical-align: middle;\n",
       "    }\n",
       "\n",
       "    .dataframe tbody tr th {\n",
       "        vertical-align: top;\n",
       "    }\n",
       "\n",
       "    .dataframe thead th {\n",
       "        text-align: right;\n",
       "    }\n",
       "</style>\n",
       "<table border=\"1\" class=\"dataframe\">\n",
       "  <thead>\n",
       "    <tr style=\"text-align: right;\">\n",
       "      <th></th>\n",
       "      <th>Row ID</th>\n",
       "      <th>Order ID</th>\n",
       "      <th>Order Date</th>\n",
       "      <th>Ship Date</th>\n",
       "      <th>Ship Mode</th>\n",
       "      <th>Customer ID</th>\n",
       "      <th>Customer Name</th>\n",
       "      <th>Segment</th>\n",
       "      <th>Country</th>\n",
       "      <th>City</th>\n",
       "      <th>State</th>\n",
       "      <th>Postal Code</th>\n",
       "      <th>Region</th>\n",
       "      <th>Product ID</th>\n",
       "      <th>Category</th>\n",
       "      <th>Sub-Category</th>\n",
       "      <th>Product Name</th>\n",
       "      <th>Sales</th>\n",
       "    </tr>\n",
       "  </thead>\n",
       "  <tbody>\n",
       "    <tr>\n",
       "      <th>0</th>\n",
       "      <td>1</td>\n",
       "      <td>CA-2017-152156</td>\n",
       "      <td>08/11/2017</td>\n",
       "      <td>11/11/2017</td>\n",
       "      <td>Second Class</td>\n",
       "      <td>CG-12520</td>\n",
       "      <td>Claire Gute</td>\n",
       "      <td>Consumer</td>\n",
       "      <td>United States</td>\n",
       "      <td>Henderson</td>\n",
       "      <td>Kentucky</td>\n",
       "      <td>42420.0</td>\n",
       "      <td>South</td>\n",
       "      <td>FUR-BO-10001798</td>\n",
       "      <td>Furniture</td>\n",
       "      <td>Bookcases</td>\n",
       "      <td>Bush Somerset Collection Bookcase</td>\n",
       "      <td>261.9600</td>\n",
       "    </tr>\n",
       "    <tr>\n",
       "      <th>1</th>\n",
       "      <td>2</td>\n",
       "      <td>CA-2017-152156</td>\n",
       "      <td>08/11/2017</td>\n",
       "      <td>11/11/2017</td>\n",
       "      <td>Second Class</td>\n",
       "      <td>CG-12520</td>\n",
       "      <td>Claire Gute</td>\n",
       "      <td>Consumer</td>\n",
       "      <td>United States</td>\n",
       "      <td>Henderson</td>\n",
       "      <td>Kentucky</td>\n",
       "      <td>42420.0</td>\n",
       "      <td>South</td>\n",
       "      <td>FUR-CH-10000454</td>\n",
       "      <td>Furniture</td>\n",
       "      <td>Chairs</td>\n",
       "      <td>Hon Deluxe Fabric Upholstered Stacking Chairs,...</td>\n",
       "      <td>731.9400</td>\n",
       "    </tr>\n",
       "    <tr>\n",
       "      <th>2</th>\n",
       "      <td>3</td>\n",
       "      <td>CA-2017-138688</td>\n",
       "      <td>12/06/2017</td>\n",
       "      <td>16/06/2017</td>\n",
       "      <td>Second Class</td>\n",
       "      <td>DV-13045</td>\n",
       "      <td>Darrin Van Huff</td>\n",
       "      <td>Corporate</td>\n",
       "      <td>United States</td>\n",
       "      <td>Los Angeles</td>\n",
       "      <td>California</td>\n",
       "      <td>90036.0</td>\n",
       "      <td>West</td>\n",
       "      <td>OFF-LA-10000240</td>\n",
       "      <td>Office Supplies</td>\n",
       "      <td>Labels</td>\n",
       "      <td>Self-Adhesive Address Labels for Typewriters b...</td>\n",
       "      <td>14.6200</td>\n",
       "    </tr>\n",
       "    <tr>\n",
       "      <th>3</th>\n",
       "      <td>4</td>\n",
       "      <td>US-2016-108966</td>\n",
       "      <td>11/10/2016</td>\n",
       "      <td>18/10/2016</td>\n",
       "      <td>Standard Class</td>\n",
       "      <td>SO-20335</td>\n",
       "      <td>Sean O'Donnell</td>\n",
       "      <td>Consumer</td>\n",
       "      <td>United States</td>\n",
       "      <td>Fort Lauderdale</td>\n",
       "      <td>Florida</td>\n",
       "      <td>33311.0</td>\n",
       "      <td>South</td>\n",
       "      <td>FUR-TA-10000577</td>\n",
       "      <td>Furniture</td>\n",
       "      <td>Tables</td>\n",
       "      <td>Bretford CR4500 Series Slim Rectangular Table</td>\n",
       "      <td>957.5775</td>\n",
       "    </tr>\n",
       "    <tr>\n",
       "      <th>4</th>\n",
       "      <td>5</td>\n",
       "      <td>US-2016-108966</td>\n",
       "      <td>11/10/2016</td>\n",
       "      <td>18/10/2016</td>\n",
       "      <td>Standard Class</td>\n",
       "      <td>SO-20335</td>\n",
       "      <td>Sean O'Donnell</td>\n",
       "      <td>Consumer</td>\n",
       "      <td>United States</td>\n",
       "      <td>Fort Lauderdale</td>\n",
       "      <td>Florida</td>\n",
       "      <td>33311.0</td>\n",
       "      <td>South</td>\n",
       "      <td>OFF-ST-10000760</td>\n",
       "      <td>Office Supplies</td>\n",
       "      <td>Storage</td>\n",
       "      <td>Eldon Fold 'N Roll Cart System</td>\n",
       "      <td>22.3680</td>\n",
       "    </tr>\n",
       "  </tbody>\n",
       "</table>\n",
       "</div>"
      ],
      "text/plain": [
       "   Row ID        Order ID  Order Date   Ship Date       Ship Mode Customer ID  \\\n",
       "0       1  CA-2017-152156  08/11/2017  11/11/2017    Second Class    CG-12520   \n",
       "1       2  CA-2017-152156  08/11/2017  11/11/2017    Second Class    CG-12520   \n",
       "2       3  CA-2017-138688  12/06/2017  16/06/2017    Second Class    DV-13045   \n",
       "3       4  US-2016-108966  11/10/2016  18/10/2016  Standard Class    SO-20335   \n",
       "4       5  US-2016-108966  11/10/2016  18/10/2016  Standard Class    SO-20335   \n",
       "\n",
       "     Customer Name    Segment        Country             City       State  \\\n",
       "0      Claire Gute   Consumer  United States        Henderson    Kentucky   \n",
       "1      Claire Gute   Consumer  United States        Henderson    Kentucky   \n",
       "2  Darrin Van Huff  Corporate  United States      Los Angeles  California   \n",
       "3   Sean O'Donnell   Consumer  United States  Fort Lauderdale     Florida   \n",
       "4   Sean O'Donnell   Consumer  United States  Fort Lauderdale     Florida   \n",
       "\n",
       "   Postal Code Region       Product ID         Category Sub-Category  \\\n",
       "0      42420.0  South  FUR-BO-10001798        Furniture    Bookcases   \n",
       "1      42420.0  South  FUR-CH-10000454        Furniture       Chairs   \n",
       "2      90036.0   West  OFF-LA-10000240  Office Supplies       Labels   \n",
       "3      33311.0  South  FUR-TA-10000577        Furniture       Tables   \n",
       "4      33311.0  South  OFF-ST-10000760  Office Supplies      Storage   \n",
       "\n",
       "                                        Product Name     Sales  \n",
       "0                  Bush Somerset Collection Bookcase  261.9600  \n",
       "1  Hon Deluxe Fabric Upholstered Stacking Chairs,...  731.9400  \n",
       "2  Self-Adhesive Address Labels for Typewriters b...   14.6200  \n",
       "3      Bretford CR4500 Series Slim Rectangular Table  957.5775  \n",
       "4                     Eldon Fold 'N Roll Cart System   22.3680  "
      ]
     },
     "execution_count": 48,
     "metadata": {},
     "output_type": "execute_result"
    }
   ],
   "source": [
    "data = pd.read_csv('data.csv')\n",
    "data.head()"
   ]
  },
  {
   "cell_type": "code",
   "execution_count": null,
   "id": "cea58f96",
   "metadata": {
    "id": "cea58f96",
    "outputId": "8b5dfa39-ae16-4e11-ed85-18bf811473ac"
   },
   "outputs": [
    {
     "data": {
      "text/html": [
       "<div>\n",
       "<style scoped>\n",
       "    .dataframe tbody tr th:only-of-type {\n",
       "        vertical-align: middle;\n",
       "    }\n",
       "\n",
       "    .dataframe tbody tr th {\n",
       "        vertical-align: top;\n",
       "    }\n",
       "\n",
       "    .dataframe thead th {\n",
       "        text-align: right;\n",
       "    }\n",
       "</style>\n",
       "<table border=\"1\" class=\"dataframe\">\n",
       "  <thead>\n",
       "    <tr style=\"text-align: right;\">\n",
       "      <th></th>\n",
       "      <th>Row ID</th>\n",
       "      <th>Postal Code</th>\n",
       "      <th>Sales</th>\n",
       "    </tr>\n",
       "  </thead>\n",
       "  <tbody>\n",
       "    <tr>\n",
       "      <th>count</th>\n",
       "      <td>9800.000000</td>\n",
       "      <td>9789.000000</td>\n",
       "      <td>9800.000000</td>\n",
       "    </tr>\n",
       "    <tr>\n",
       "      <th>mean</th>\n",
       "      <td>4900.500000</td>\n",
       "      <td>55273.322403</td>\n",
       "      <td>230.769059</td>\n",
       "    </tr>\n",
       "    <tr>\n",
       "      <th>std</th>\n",
       "      <td>2829.160653</td>\n",
       "      <td>32041.223413</td>\n",
       "      <td>626.651875</td>\n",
       "    </tr>\n",
       "    <tr>\n",
       "      <th>min</th>\n",
       "      <td>1.000000</td>\n",
       "      <td>1040.000000</td>\n",
       "      <td>0.444000</td>\n",
       "    </tr>\n",
       "    <tr>\n",
       "      <th>25%</th>\n",
       "      <td>2450.750000</td>\n",
       "      <td>23223.000000</td>\n",
       "      <td>17.248000</td>\n",
       "    </tr>\n",
       "    <tr>\n",
       "      <th>50%</th>\n",
       "      <td>4900.500000</td>\n",
       "      <td>58103.000000</td>\n",
       "      <td>54.490000</td>\n",
       "    </tr>\n",
       "    <tr>\n",
       "      <th>75%</th>\n",
       "      <td>7350.250000</td>\n",
       "      <td>90008.000000</td>\n",
       "      <td>210.605000</td>\n",
       "    </tr>\n",
       "    <tr>\n",
       "      <th>max</th>\n",
       "      <td>9800.000000</td>\n",
       "      <td>99301.000000</td>\n",
       "      <td>22638.480000</td>\n",
       "    </tr>\n",
       "  </tbody>\n",
       "</table>\n",
       "</div>"
      ],
      "text/plain": [
       "            Row ID   Postal Code         Sales\n",
       "count  9800.000000   9789.000000   9800.000000\n",
       "mean   4900.500000  55273.322403    230.769059\n",
       "std    2829.160653  32041.223413    626.651875\n",
       "min       1.000000   1040.000000      0.444000\n",
       "25%    2450.750000  23223.000000     17.248000\n",
       "50%    4900.500000  58103.000000     54.490000\n",
       "75%    7350.250000  90008.000000    210.605000\n",
       "max    9800.000000  99301.000000  22638.480000"
      ]
     },
     "execution_count": 49,
     "metadata": {},
     "output_type": "execute_result"
    }
   ],
   "source": [
    "data.describe()"
   ]
  },
  {
   "cell_type": "markdown",
   "id": "compound-profession",
   "metadata": {
    "id": "compound-profession"
   },
   "source": [
    "<b>Выборочное среднее:</b>"
   ]
  },
  {
   "cell_type": "code",
   "execution_count": null,
   "id": "70adc8cc",
   "metadata": {
    "id": "70adc8cc",
    "outputId": "48fcb9ca-7b5a-4adb-dc0e-3e3e2ff933c3"
   },
   "outputs": [
    {
     "data": {
      "text/plain": [
       "0       261.9600\n",
       "1       731.9400\n",
       "2        14.6200\n",
       "3       957.5775\n",
       "4        22.3680\n",
       "          ...   \n",
       "9795      3.7980\n",
       "9796     10.3680\n",
       "9797    235.1880\n",
       "9798     26.3760\n",
       "9799     10.3840\n",
       "Name: Sales, Length: 9800, dtype: float64"
      ]
     },
     "execution_count": 57,
     "metadata": {},
     "output_type": "execute_result"
    }
   ],
   "source": [
    "data.Sales"
   ]
  },
  {
   "cell_type": "code",
   "execution_count": null,
   "id": "f57b71b0",
   "metadata": {
    "id": "f57b71b0",
    "outputId": "f2fa171a-b78b-412a-9140-0716d4a113ce"
   },
   "outputs": [
    {
     "data": {
      "text/plain": [
       "230.7690594591837"
      ]
     },
     "execution_count": 58,
     "metadata": {},
     "output_type": "execute_result"
    }
   ],
   "source": [
    "mean = np.mean(data.Sales)\n",
    "mean"
   ]
  },
  {
   "cell_type": "code",
   "execution_count": null,
   "id": "3f82b004",
   "metadata": {
    "id": "3f82b004",
    "outputId": "a7a2cd30-607a-48e2-8799-186cd3ee67a4"
   },
   "outputs": [
    {
     "data": {
      "text/plain": [
       "230.7690594591837"
      ]
     },
     "execution_count": 60,
     "metadata": {},
     "output_type": "execute_result"
    }
   ],
   "source": [
    "data.Sales.mean()"
   ]
  },
  {
   "cell_type": "markdown",
   "id": "172ba6ac",
   "metadata": {
    "id": "172ba6ac"
   },
   "source": [
    "<b>Усеченное среднее:</b>"
   ]
  },
  {
   "cell_type": "code",
   "execution_count": null,
   "id": "6d57e73a",
   "metadata": {
    "id": "6d57e73a",
    "outputId": "92f79233-c38d-4220-d6c5-c8e899468899"
   },
   "outputs": [
    {
     "data": {
      "text/plain": [
       "(980.0, 98.0)"
      ]
     },
     "execution_count": 11,
     "metadata": {},
     "output_type": "execute_result"
    }
   ],
   "source": [
    "len(data.Sales) * 0.1, len(data.Sales) * 0.01"
   ]
  },
  {
   "cell_type": "code",
   "execution_count": null,
   "id": "b4d1e75e",
   "metadata": {
    "id": "b4d1e75e",
    "outputId": "3a1ea15e-452a-49a5-a48b-be92bef92561"
   },
   "outputs": [
    {
     "data": {
      "text/plain": [
       "(113.65588941326531, 188.93531754477303)"
      ]
     },
     "execution_count": 12,
     "metadata": {},
     "output_type": "execute_result"
    }
   ],
   "source": [
    "stats.trim_mean(data.Sales, 0.1), stats.trim_mean(data.Sales, 0.01)"
   ]
  },
  {
   "cell_type": "markdown",
   "id": "placed-dating",
   "metadata": {
    "id": "placed-dating"
   },
   "source": [
    "<b>Медиана:</b>"
   ]
  },
  {
   "cell_type": "code",
   "execution_count": null,
   "id": "5c60bf9c",
   "metadata": {
    "id": "5c60bf9c",
    "outputId": "b3057f1f-86d6-40ba-b50d-ed75ccd5a1fd"
   },
   "outputs": [
    {
     "data": {
      "text/plain": [
       "(54.489999999999995,)"
      ]
     },
     "execution_count": 61,
     "metadata": {},
     "output_type": "execute_result"
    }
   ],
   "source": [
    "median = np.median(data.Sales),\n",
    "median"
   ]
  },
  {
   "cell_type": "code",
   "execution_count": null,
   "id": "b13cd89a",
   "metadata": {
    "id": "b13cd89a",
    "outputId": "a5e979b4-ec74-4ac9-a697-c50d7f3e2a23"
   },
   "outputs": [
    {
     "data": {
      "text/plain": [
       "54.489999999999995"
      ]
     },
     "execution_count": 62,
     "metadata": {},
     "output_type": "execute_result"
    }
   ],
   "source": [
    "data.Sales.median()"
   ]
  },
  {
   "cell_type": "markdown",
   "id": "another-password",
   "metadata": {
    "id": "another-password"
   },
   "source": [
    "<b>Мода:</b>\n",
    "\n",
    "Мода как средняя величина употребляется чаще для данных, имеющих нечисловую природу."
   ]
  },
  {
   "cell_type": "code",
   "execution_count": null,
   "id": "7dde4eea",
   "metadata": {
    "id": "7dde4eea",
    "outputId": "d6fca81a-aa90-4479-80f1-f03e350caf12"
   },
   "outputs": [
    {
     "data": {
      "text/plain": [
       "0    California\n",
       "Name: State, dtype: object"
      ]
     },
     "execution_count": 63,
     "metadata": {},
     "output_type": "execute_result"
    }
   ],
   "source": [
    "data.State.mode()"
   ]
  },
  {
   "cell_type": "code",
   "execution_count": null,
   "id": "3f29476e",
   "metadata": {
    "id": "3f29476e",
    "outputId": "f1b571fd-1ccc-45c8-bce9-d476b5bbc6ab"
   },
   "outputs": [
    {
     "data": {
      "text/plain": [
       "1946"
      ]
     },
     "execution_count": 67,
     "metadata": {},
     "output_type": "execute_result"
    }
   ],
   "source": [
    "len(data[data.State == 'California'])"
   ]
  },
  {
   "cell_type": "markdown",
   "id": "602fc135",
   "metadata": {
    "id": "602fc135",
    "jp-MarkdownHeadingCollapsed": true
   },
   "source": [
    "---\n",
    "## Итоги:\n",
    "1. В зависимости от выборки, т.е. наличия в ней выбросов и различных типов данных, следует тщательно выбирать меру среднего.\n",
    "2. Выборочное среднее сильно чувствительно к выбросам.\n",
    "3. В датасетах с выбросами уместнее будет в качестве меры центрального положения выбирать:\n",
    "    - взвешенное среднее;\n",
    "    - усеченное среднее;\n",
    "    - медиану.\n",
    "4. Для данных, имеющих нечисловую природу (категориальные), можно воспользоваться модой."
   ]
  },
  {
   "cell_type": "code",
   "execution_count": null,
   "id": "6f0e8cbc",
   "metadata": {
    "id": "6f0e8cbc"
   },
   "outputs": [],
   "source": []
  }
 ],
 "metadata": {
  "colab": {
   "provenance": []
  },
  "kernelspec": {
   "display_name": "Python 3 (ipykernel)",
   "language": "python",
   "name": "python3"
  },
  "language_info": {
   "codemirror_mode": {
    "name": "ipython",
    "version": 3
   },
   "file_extension": ".py",
   "mimetype": "text/x-python",
   "name": "python",
   "nbconvert_exporter": "python",
   "pygments_lexer": "ipython3",
   "version": "3.12.3"
  }
 },
 "nbformat": 4,
 "nbformat_minor": 5
}
