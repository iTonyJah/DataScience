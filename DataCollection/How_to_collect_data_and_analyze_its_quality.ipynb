{
 "cells": [
  {
   "cell_type": "markdown",
   "metadata": {
    "jp-MarkdownHeadingCollapsed": true
   },
   "source": [
    "# Примеров использования базовых функции print в Jupyter Notebook:"
   ]
  },
  {
   "cell_type": "code",
   "execution_count": 70,
   "metadata": {
    "colab": {
     "base_uri": "https://localhost:8080/"
    },
    "id": "7s9RBWb7IcMV",
    "outputId": "c1635ad9-724f-482b-96dc-253476112b49"
   },
   "outputs": [
    {
     "name": "stdout",
     "output_type": "stream",
     "text": [
      "abc\n"
     ]
    }
   ],
   "source": [
    "print(\"abc\")\n",
    "\n",
    "def greet(name):\n",
    "    name = name.lower()\n",
    "    name = name[0].upper() + name[1:]\n",
    "    return \"Hello, \" + name + \"!\"\n",
    "\n",
    "sum_ = 2+1"
   ]
  },
  {
   "cell_type": "code",
   "execution_count": 71,
   "metadata": {
    "colab": {
     "base_uri": "https://localhost:8080/",
     "height": 35
    },
    "id": "inot9pOKTSTv",
    "outputId": "ae8b32dc-36d7-4c77-9bf7-a0c52485017d"
   },
   "outputs": [
    {
     "data": {
      "text/plain": [
       "'Hello, Natali!'"
      ]
     },
     "execution_count": 71,
     "metadata": {},
     "output_type": "execute_result"
    }
   ],
   "source": [
    "greet(\"naTALi\")"
   ]
  },
  {
   "cell_type": "code",
   "execution_count": 72,
   "metadata": {
    "colab": {
     "base_uri": "https://localhost:8080/"
    },
    "id": "5XueWin9H3O9",
    "outputId": "5fcd9243-82ac-43d3-8383-b895764baea6"
   },
   "outputs": [
    {
     "name": "stdout",
     "output_type": "stream",
     "text": [
      "Hello, World!\n"
     ]
    }
   ],
   "source": [
    "\n",
    "#1. Простой вывод текста:\n",
    "print(\"Hello, World!\")"
   ]
  },
  {
   "cell_type": "code",
   "execution_count": 73,
   "metadata": {
    "colab": {
     "base_uri": "https://localhost:8080/"
    },
    "id": "WYH3xA8cH8t0",
    "outputId": "caccce90-95d6-4869-ae34-72c459965245"
   },
   "outputs": [
    {
     "name": "stdout",
     "output_type": "stream",
     "text": [
      "11\n"
     ]
    }
   ],
   "source": [
    "#2. Вывод значения переменной:\n",
    "x = 11\n",
    "print(x)\n"
   ]
  },
  {
   "cell_type": "code",
   "execution_count": 74,
   "metadata": {
    "colab": {
     "base_uri": "https://localhost:8080/"
    },
    "id": "cHTln5PMIGv0",
    "outputId": "2489f4bc-a6be-474b-c105-b748318b3b9f"
   },
   "outputs": [
    {
     "name": "stdout",
     "output_type": "stream",
     "text": [
      "Name: John Age: 25\n"
     ]
    }
   ],
   "source": [
    "#3. Вывод нескольких значений:\n",
    "\n",
    "name = \"John\"\n",
    "age = 25\n",
    "print(\"Name:\", name, \"Age:\", age)\n"
   ]
  },
  {
   "cell_type": "code",
   "execution_count": 76,
   "metadata": {
    "colab": {
     "base_uri": "https://localhost:8080/"
    },
    "id": "CVZz5c48IL88",
    "outputId": "692ae003-5c73-4de0-8e21-a7fb10af7491"
   },
   "outputs": [
    {
     "name": "stdout",
     "output_type": "stream",
     "text": [
      "The value of x is 5 and the value of y is 10\n"
     ]
    }
   ],
   "source": [
    "\n",
    "#4. Форматированный вывод:\n",
    "x = 5\n",
    "y = 10\n",
    "print(\"The value of x is {} and the value of y is {}\".format(x, y))"
   ]
  },
  {
   "cell_type": "code",
   "execution_count": 77,
   "metadata": {
    "colab": {
     "base_uri": "https://localhost:8080/"
    },
    "id": "zmKdoueAIVxc",
    "outputId": "a34eb009-5f51-4193-8d94-99b59b2654df"
   },
   "outputs": [
    {
     "name": "stdout",
     "output_type": "stream",
     "text": [
      "John, Jane, Alice\n"
     ]
    }
   ],
   "source": [
    "#5. Использование разделителя:\n",
    "names = [\"John\", \"Jane\", \"Alice\"]\n",
    "print(*names, sep=\", \")\n"
   ]
  },
  {
   "cell_type": "code",
   "execution_count": 78,
   "metadata": {
    "colab": {
     "base_uri": "https://localhost:8080/"
    },
    "id": "hSfi_YMLId7m",
    "outputId": "5a8e947c-c125-4283-81e7-9cfae5e97a7b"
   },
   "outputs": [
    {
     "name": "stdout",
     "output_type": "stream",
     "text": [
      "Hello\n",
      "World\n"
     ]
    }
   ],
   "source": [
    "#6. Вывод на новой строке:\n",
    "print(\"Hello\")\n",
    "print(\"World\")"
   ]
  },
  {
   "cell_type": "code",
   "execution_count": 79,
   "metadata": {
    "colab": {
     "base_uri": "https://localhost:8080/"
    },
    "id": "qMnRGwSIImOM",
    "outputId": "4ed5e6b1-1cdf-40a6-9a1c-ff7b3d840d9d"
   },
   "outputs": [
    {
     "name": "stdout",
     "output_type": "stream",
     "text": [
      "The value of pi is 3.14\n"
     ]
    }
   ],
   "source": [
    "#7. Вывод чисел с определенным количеством знаков после запятой:\n",
    "\n",
    "pi = 3.14159265358979323846\n",
    "print(\"The value of pi is {:.2f}\".format(pi))"
   ]
  },
  {
   "cell_type": "code",
   "execution_count": 80,
   "metadata": {
    "id": "rdMyIX9IHx4e"
   },
   "outputs": [],
   "source": [
    "\n",
    "#8. Вывод в файл:\n",
    "\n",
    "with open(\"output.txt\", \"w\") as file:\n",
    "    print(\"Hello, World!\", file=file)\n",
    "\n",
    "\n",
    "#Это только некоторые примеры использования функции print в Jupyter Notebook. \n",
    "#Функция print может быть использована для вывода различных типов данных и форматирования вывода в соответствии с вашими потребностями."
   ]
  },
  {
   "cell_type": "markdown",
   "metadata": {
    "id": "hDdJ5kF8LQ3p",
    "jp-MarkdownHeadingCollapsed": true
   },
   "source": [
    "# Почему удобнее использовать библиотеки"
   ]
  },
  {
   "cell_type": "code",
   "execution_count": 4,
   "metadata": {},
   "outputs": [
    {
     "name": "stdout",
     "output_type": "stream",
     "text": [
      "5.0\n",
      "3.141592653589793\n"
     ]
    }
   ],
   "source": [
    "#Пример использования библиотеки math:\n",
    "\n",
    "import math\n",
    "\n",
    "# Использование функции из библиотеки math\n",
    "x = math.sqrt(25)\n",
    "print(x)\n",
    "\n",
    "# Использование константы из библиотеки math\n",
    "y = math.pi\n",
    "print(y)\n",
    "\n",
    "\n",
    "#В этом примере мы импортируем библиотеку math и используем функцию sqrt() для вычисления квадратного корня числа 25. \n",
    "#Мы также используем константу pi для вывода значения числа π.\n"
   ]
  },
  {
   "cell_type": "code",
   "execution_count": 82,
   "metadata": {},
   "outputs": [
    {
     "name": "stdout",
     "output_type": "stream",
     "text": [
      "5.0\n",
      "3.14159\n"
     ]
    }
   ],
   "source": [
    "#Пример использования без использования библиотеки в python\n",
    "# Вычисление квадратного корня без использования библиотеки\n",
    "x = 25 ** 0.5\n",
    "print(x)\n",
    "\n",
    "# Задание значения числа π без использования библиотеки\n",
    "y = 3.14159\n",
    "print(y)\n",
    "\n",
    "\n",
    "#В этом примере мы вычисляем квадратный корень числа 25 путем возведения его в степень 0.5. \n",
    "#Мы также задаем значение числа π вручную."
   ]
  },
  {
   "cell_type": "code",
   "execution_count": 1,
   "metadata": {
    "scrolled": true
   },
   "outputs": [
    {
     "name": "stdout",
     "output_type": "stream",
     "text": [
      "     Имя  Возраст            Город\n",
      "0   Анна       25           Москва\n",
      "1   Петр       30  Санкт-Петербург\n",
      "2  Мария       35           Казань\n",
      "Средний возраст: 30.0\n"
     ]
    }
   ],
   "source": [
    "#Пример использования библиотеки pandas:\n",
    "\n",
    "import pandas as pd\n",
    "\n",
    "# Создание DataFrame с помощью библиотеки pandas\n",
    "data = {'Имя': ['Анна', 'Петр', 'Мария'],\n",
    "        'Возраст': [25, 30, 35],\n",
    "        'Город': ['Москва', 'Санкт-Петербург', 'Казань']}\n",
    "df = pd.DataFrame(data)\n",
    "print(df)\n",
    "\n",
    "# Использование функций из библиотеки pandas\n",
    "mean_age = df['Возраст'].mean()\n",
    "print(\"Средний возраст:\", mean_age)\n",
    "\n",
    "\n",
    "#В этом примере мы импортируем библиотеку pandas и используем ее для создания DataFrame,\n",
    "#который представляет собой таблицу с данными. Мы также используем функцию mean() для вычисления среднего значения возраста из столбца \"Возраст\" в DataFrame."
   ]
  },
  {
   "cell_type": "code",
   "execution_count": 5,
   "metadata": {},
   "outputs": [
    {
     "name": "stdout",
     "output_type": "stream",
     "text": [
      "['Анна', 25, 'Москва']\n",
      "['Петр', 30, 'Санкт-Петербург']\n",
      "['Мария', 35, 'Казань']\n",
      "Средний возраст: 30.0\n"
     ]
    }
   ],
   "source": [
    "#Пример использования без использования библиотеки python\n",
    "# Создание списка списков для представления данных\n",
    "data = [['Анна', 25, 'Москва'],\n",
    "        ['Петр', 30, 'Санкт-Петербург'],\n",
    "        ['Мария', 35, 'Казань']]\n",
    "\n",
    "# Вывод данных в виде таблицы\n",
    "for row in data:\n",
    "    print(row)\n",
    "\n",
    "# Вычисление среднего значения возраста\n",
    "total_age = 0\n",
    "for row in data:\n",
    "    total_age += row[1]\n",
    "mean_age = total_age / len(data)\n",
    "print(\"Средний возраст:\", mean_age)\n",
    "\n",
    "\n",
    "#В этом примере мы создаем список списков, чтобы представить данные в виде таблицы. \n",
    "#Затем мы используем циклы для вывода данных в виде таблицы и вычисления среднего значения возраста путем суммирования всех возрастов и деления на количество записей в таблице."
   ]
  },
  {
   "cell_type": "markdown",
   "metadata": {
    "id": "SQACTgrwIzQ7"
   },
   "source": [
    "**Кейс**: ДВы работаете над задачей по обработке данных. Вам нужно выполнить несколько сложных математических операций, а также отфильтровать, агрегировать и визуализировать данные. Вместо того, чтобы писать все эти функции самостоятельно, вы можете использовать пакет Python, такой как **math** или **numpy**. Эти пакеты содержат готовые математические функции.  Они предоставляют функции для выполнения математических операций, таких как сложение, вычитание, умножение и деление, а также функции для работы с массивами чисел\n",
    "\n",
    "Вот пример использования функции из пакета:"
   ]
  },
  {
   "cell_type": "code",
   "execution_count": 2,
   "metadata": {
    "colab": {
     "base_uri": "https://localhost:8080/"
    },
    "id": "dBwJvkL7Ic3W",
    "outputId": "993894b0-f725-4a03-8f5e-a41e34ac408f"
   },
   "outputs": [
    {
     "name": "stdout",
     "output_type": "stream",
     "text": [
      "11.180339887498949\n"
     ]
    }
   ],
   "source": [
    "#Функция math.sqrt() возвращает квадратный корень числа. \n",
    "#Например, если мы хотим найти квадратный корень числа 125, мы можем использовать следующий код:\n",
    "\n",
    "import math\n",
    "\n",
    "result = math.sqrt(125)\n",
    "print(result) #Вывод будет равен 11,2 так как квадратный корень числа 125 равен 11.2"
   ]
  },
  {
   "cell_type": "code",
   "execution_count": 7,
   "metadata": {
    "colab": {
     "base_uri": "https://localhost:8080/"
    },
    "id": "w5Y-qvmKIc62",
    "outputId": "e48e2555-e462-4305-f5b4-474798af22e2"
   },
   "outputs": [
    {
     "name": "stdout",
     "output_type": "stream",
     "text": [
      "4.0\n"
     ]
    }
   ],
   "source": [
    "import math\n",
    "\n",
    "# Вычисляем квадратный корень числа\n",
    "sqrt_result = math.sqrt(16)\n",
    "print(sqrt_result)  # вывод: 4.0"
   ]
  },
  {
   "cell_type": "code",
   "execution_count": 8,
   "metadata": {
    "colab": {
     "base_uri": "https://localhost:8080/"
    },
    "id": "-bd_OX2-Ic9N",
    "outputId": "a1670477-5d36-4270-8505-844221e0369c"
   },
   "outputs": [
    {
     "name": "stdout",
     "output_type": "stream",
     "text": [
      "2025-05-26 21:22:43.820624\n"
     ]
    }
   ],
   "source": [
    "import datetime\n",
    "\n",
    "# Получаем текущую дату и время\n",
    "current_datetime = datetime.datetime.now()\n",
    "print(current_datetime)"
   ]
  },
  {
   "cell_type": "code",
   "execution_count": 3,
   "metadata": {},
   "outputs": [
    {
     "name": "stdout",
     "output_type": "stream",
     "text": [
      "Количество дней между 2023-01-01 и 2023-12-31 равно 364\n"
     ]
    }
   ],
   "source": [
    "import datetime\n",
    "\n",
    "# Вычисление количества дней между двумя датами\n",
    "date1 = datetime.date(2023, 1, 1) # 01-01-2023\n",
    "date2 = datetime.date(2023, 12, 31) #31-12-2023\n",
    "\n",
    "diff = date2 - date1\n",
    "print(f\"Количество дней между {date1} и {date2} равно {diff.days}\")"
   ]
  },
  {
   "cell_type": "code",
   "execution_count": 5,
   "metadata": {
    "colab": {
     "base_uri": "https://localhost:8080/"
    },
    "id": "xTq5ChIFJOd3",
    "outputId": "e64577be-3881-457b-cdc6-dd257a2a262c"
   },
   "outputs": [
    {
     "name": "stdout",
     "output_type": "stream",
     "text": [
      "4\n"
     ]
    }
   ],
   "source": [
    "import random\n",
    "\n",
    "# random.randint() - это функция из модуля random, которая возвращает случайное целое число в заданном диапазоне. Например, если мы хотим получить случайное целое число от 10 до 100, мы можем использовать следующий код/\n",
    "#Генерируем случайное число от 1 до 10\n",
    "random_number = random.randint(1, 5)\n",
    "print(random_number)"
   ]
  },
  {
   "cell_type": "code",
   "execution_count": 11,
   "metadata": {},
   "outputs": [
    {
     "name": "stdout",
     "output_type": "stream",
     "text": [
      "Случайное имя из списка: Сергей\n"
     ]
    }
   ],
   "source": [
    "import random\n",
    "\n",
    "# Выбор случайного элемента из списка\n",
    "names = [\"Алекс\", \"Борис\", \"Сергей\", \"Дмитрий\", \"Анна\"]\n",
    "random_choice = random.choice(names)\n",
    "\n",
    "print(f\"Случайное имя из списка: {random_choice}\")"
   ]
  },
  {
   "cell_type": "code",
   "execution_count": 3,
   "metadata": {
    "colab": {
     "base_uri": "https://localhost:8080/"
    },
    "id": "VV_5kKQFJOhn",
    "outputId": "7a5b57b8-bc2e-4fa2-cf4a-ef53d72002cf"
   },
   "outputs": [
    {
     "name": "stdout",
     "output_type": "stream",
     "text": [
      "[0 1 2 3 4]\n"
     ]
    }
   ],
   "source": [
    "import numpy as np\n",
    "#np.arange() - это функция из модуля numpy, которая создает одномерный массив, содержащий числа в заданном диапазоне.\n",
    "# Создаем одномерный массив с числами от 0 до 4\n",
    "array = np.arange(5)\n",
    "print(array)  # вывод: [0 1 2 3 4]"
   ]
  },
  {
   "cell_type": "code",
   "execution_count": 14,
   "metadata": {
    "scrolled": true
   },
   "outputs": [
    {
     "name": "stdout",
     "output_type": "stream",
     "text": [
      "Результат умножения двух матриц:\n",
      "[[19 22]\n",
      " [43 50]]\n"
     ]
    }
   ],
   "source": [
    "import numpy as np\n",
    "\n",
    "# Умножение двух матриц\n",
    "# [1, 2\n",
    "#  3, 4]\n",
    "\n",
    "# [5, 6\n",
    "#  7, 8]\n",
    "matrix1 = np.array([[1, 2], [3, 4]])\n",
    "matrix2 = np.array([[5, 6], [7, 8]])\n",
    "\n",
    "result = np.dot(matrix1, matrix2)\n",
    "print(f\"Результат умножения двух матриц:\\n{result}\")"
   ]
  },
  {
   "cell_type": "code",
   "execution_count": 1,
   "metadata": {
    "colab": {
     "base_uri": "https://localhost:8080/",
     "height": 143
    },
    "id": "Ghf2tyhXJOkP",
    "outputId": "6fa8b801-d571-46ac-cfbd-76f62cdade96"
   },
   "outputs": [
    {
     "data": {
      "text/html": [
       "<div>\n",
       "<style scoped>\n",
       "    .dataframe tbody tr th:only-of-type {\n",
       "        vertical-align: middle;\n",
       "    }\n",
       "\n",
       "    .dataframe tbody tr th {\n",
       "        vertical-align: top;\n",
       "    }\n",
       "\n",
       "    .dataframe thead th {\n",
       "        text-align: right;\n",
       "    }\n",
       "</style>\n",
       "<table border=\"1\" class=\"dataframe\">\n",
       "  <thead>\n",
       "    <tr style=\"text-align: right;\">\n",
       "      <th></th>\n",
       "      <th>Имя</th>\n",
       "      <th>Возраст</th>\n",
       "    </tr>\n",
       "  </thead>\n",
       "  <tbody>\n",
       "    <tr>\n",
       "      <th>0</th>\n",
       "      <td>Алекс</td>\n",
       "      <td>25</td>\n",
       "    </tr>\n",
       "    <tr>\n",
       "      <th>1</th>\n",
       "      <td>Борис</td>\n",
       "      <td>30</td>\n",
       "    </tr>\n",
       "    <tr>\n",
       "      <th>2</th>\n",
       "      <td>Сергей</td>\n",
       "      <td>35</td>\n",
       "    </tr>\n",
       "  </tbody>\n",
       "</table>\n",
       "</div>"
      ],
      "text/plain": [
       "      Имя  Возраст\n",
       "0   Алекс       25\n",
       "1   Борис       30\n",
       "2  Сергей       35"
      ]
     },
     "execution_count": 1,
     "metadata": {},
     "output_type": "execute_result"
    }
   ],
   "source": [
    "import pandas as pd\n",
    "#pd.DataFrame - это функция из модуля pandas, которая создает двумерную таблицу данных, называемую DataFrame.\n",
    "#DataFrame представляет собой структуру данных, которая состоит из строк и столбцов, и позволяет хранить и обрабатывать данные в табличной форме.\n",
    "# Создаем DataFrame состоящий из двух столбцов - имя и возраст\n",
    "data = {\n",
    "    'Имя': ['Алекс', 'Борис', 'Сергей'],\n",
    "    'Возраст': [25, 30, 35]\n",
    "}\n",
    "df = pd.DataFrame(data)\n",
    "\n",
    "df"
   ]
  },
  {
   "cell_type": "code",
   "execution_count": 5,
   "metadata": {
    "colab": {
     "base_uri": "https://localhost:8080/",
     "height": 3854
    },
    "id": "PJ5TU53h8UXE",
    "outputId": "cff7e2fd-6ae3-4ee9-fc46-638a767c49b2"
   },
   "outputs": [
    {
     "data": {
      "application/vnd.microsoft.datawrangler.viewer.v0+json": {
       "columns": [
        {
         "name": "index",
         "rawType": "int64",
         "type": "integer"
        },
        {
         "name": "Имя",
         "rawType": "object",
         "type": "string"
        },
        {
         "name": "Возраст",
         "rawType": "int64",
         "type": "integer"
        },
        {
         "name": "Средний балл",
         "rawType": "int64",
         "type": "integer"
        }
       ],
       "ref": "7334f2ab-f988-42a9-839c-3e72043020c6",
       "rows": [
        [
         "0",
         "ООО Ромашка",
         "20",
         "10000"
        ],
        [
         "1",
         "ООО АВТО",
         "22",
         "15000"
        ],
        [
         "2",
         "ООО Грифон",
         "21",
         "40000"
        ]
       ],
       "shape": {
        "columns": 3,
        "rows": 3
       }
      },
      "text/html": [
       "<div>\n",
       "<style scoped>\n",
       "    .dataframe tbody tr th:only-of-type {\n",
       "        vertical-align: middle;\n",
       "    }\n",
       "\n",
       "    .dataframe tbody tr th {\n",
       "        vertical-align: top;\n",
       "    }\n",
       "\n",
       "    .dataframe thead th {\n",
       "        text-align: right;\n",
       "    }\n",
       "</style>\n",
       "<table border=\"1\" class=\"dataframe\">\n",
       "  <thead>\n",
       "    <tr style=\"text-align: right;\">\n",
       "      <th></th>\n",
       "      <th>Имя</th>\n",
       "      <th>Возраст</th>\n",
       "      <th>Средний балл</th>\n",
       "    </tr>\n",
       "  </thead>\n",
       "  <tbody>\n",
       "    <tr>\n",
       "      <th>0</th>\n",
       "      <td>ООО Ромашка</td>\n",
       "      <td>20</td>\n",
       "      <td>10000</td>\n",
       "    </tr>\n",
       "    <tr>\n",
       "      <th>1</th>\n",
       "      <td>ООО АВТО</td>\n",
       "      <td>22</td>\n",
       "      <td>15000</td>\n",
       "    </tr>\n",
       "    <tr>\n",
       "      <th>2</th>\n",
       "      <td>ООО Грифон</td>\n",
       "      <td>21</td>\n",
       "      <td>40000</td>\n",
       "    </tr>\n",
       "  </tbody>\n",
       "</table>\n",
       "</div>"
      ],
      "text/plain": [
       "           Имя  Возраст  Средний балл\n",
       "0  ООО Ромашка       20         10000\n",
       "1     ООО АВТО       22         15000\n",
       "2   ООО Грифон       21         40000"
      ]
     },
     "execution_count": 5,
     "metadata": {},
     "output_type": "execute_result"
    }
   ],
   "source": [
    "#Например, если у нас есть данные о клиентах комании, включающие их название компании, количество и сумму продаж, мы можем использовать pd.DataFrame для создания таблицы:\n",
    "\n",
    "import pandas as pd\n",
    "\n",
    "data = {'Имя': ['ООО Ромашка', 'ООО АВТО', 'ООО Грифон'],\n",
    "        'Возраст': [20, 22, 21],\n",
    "        'Средний балл': [10000, 15000, 40000]}\n",
    "\n",
    "df = pd.DataFrame(data)\n",
    "df\n"
   ]
  },
  {
   "cell_type": "code",
   "execution_count": 6,
   "metadata": {},
   "outputs": [
    {
     "data": {
      "application/vnd.microsoft.datawrangler.viewer.v0+json": {
       "columns": [
        {
         "name": "Город",
         "rawType": "object",
         "type": "string"
        },
        {
         "name": "Температура",
         "rawType": "float64",
         "type": "float"
        },
        {
         "name": "Влажность",
         "rawType": "float64",
         "type": "float"
        }
       ],
       "ref": "331c8718-ee31-4c0f-a627-de8b1a0eb198",
       "rows": [
        [
         "Москва",
         "20.333333333333332",
         "32.666666666666664"
        ],
        [
         "Санкт-Петербург",
         "19.0",
         "37.666666666666664"
        ]
       ],
       "shape": {
        "columns": 2,
        "rows": 2
       }
      },
      "text/html": [
       "<div>\n",
       "<style scoped>\n",
       "    .dataframe tbody tr th:only-of-type {\n",
       "        vertical-align: middle;\n",
       "    }\n",
       "\n",
       "    .dataframe tbody tr th {\n",
       "        vertical-align: top;\n",
       "    }\n",
       "\n",
       "    .dataframe thead th {\n",
       "        text-align: right;\n",
       "    }\n",
       "</style>\n",
       "<table border=\"1\" class=\"dataframe\">\n",
       "  <thead>\n",
       "    <tr style=\"text-align: right;\">\n",
       "      <th></th>\n",
       "      <th>Температура</th>\n",
       "      <th>Влажность</th>\n",
       "    </tr>\n",
       "    <tr>\n",
       "      <th>Город</th>\n",
       "      <th></th>\n",
       "      <th></th>\n",
       "    </tr>\n",
       "  </thead>\n",
       "  <tbody>\n",
       "    <tr>\n",
       "      <th>Москва</th>\n",
       "      <td>20.333333</td>\n",
       "      <td>32.666667</td>\n",
       "    </tr>\n",
       "    <tr>\n",
       "      <th>Санкт-Петербург</th>\n",
       "      <td>19.000000</td>\n",
       "      <td>37.666667</td>\n",
       "    </tr>\n",
       "  </tbody>\n",
       "</table>\n",
       "</div>"
      ],
      "text/plain": [
       "                 Температура  Влажность\n",
       "Город                                  \n",
       "Москва             20.333333  32.666667\n",
       "Санкт-Петербург    19.000000  37.666667"
      ]
     },
     "execution_count": 6,
     "metadata": {},
     "output_type": "execute_result"
    }
   ],
   "source": [
    "import pandas as pd\n",
    "\n",
    "# Группировка данных в DataFrame\n",
    "data = {\n",
    "    'Город': ['Москва', 'Москва', 'Санкт-Петербург', 'Москва', 'Санкт-Петербург', 'Санкт-Петербург'],\n",
    "    'Температура': [19, 22, 17, 20, 19, 21], # 19, 22,  20\n",
    "    'Влажность': [30, 35, 40, 33, 38, 35]\n",
    "}\n",
    "\n",
    "df = pd.DataFrame(data)\n",
    "\n",
    "# Средняя температура и влажность по городам\n",
    "mean_values = df.groupby('Город').mean()\n",
    "\n",
    "mean_values"
   ]
  },
  {
   "cell_type": "code",
   "execution_count": 7,
   "metadata": {},
   "outputs": [
    {
     "data": {
      "application/vnd.microsoft.datawrangler.viewer.v0+json": {
       "columns": [
        {
         "name": "index",
         "rawType": "int64",
         "type": "integer"
        },
        {
         "name": "Город",
         "rawType": "object",
         "type": "string"
        },
        {
         "name": "Температура",
         "rawType": "int64",
         "type": "integer"
        },
        {
         "name": "Влажность",
         "rawType": "int64",
         "type": "integer"
        }
       ],
       "ref": "7f1607ac-01af-49da-aec8-da409d57c0d7",
       "rows": [
        [
         "0",
         "Москва",
         "19",
         "30"
        ],
        [
         "1",
         "Москва",
         "22",
         "35"
        ],
        [
         "2",
         "Санкт-Петербург",
         "17",
         "40"
        ],
        [
         "3",
         "Москва",
         "20",
         "33"
        ],
        [
         "4",
         "Санкт-Петербург",
         "19",
         "38"
        ],
        [
         "5",
         "Санкт-Петербург",
         "21",
         "35"
        ]
       ],
       "shape": {
        "columns": 3,
        "rows": 6
       }
      },
      "text/html": [
       "<div>\n",
       "<style scoped>\n",
       "    .dataframe tbody tr th:only-of-type {\n",
       "        vertical-align: middle;\n",
       "    }\n",
       "\n",
       "    .dataframe tbody tr th {\n",
       "        vertical-align: top;\n",
       "    }\n",
       "\n",
       "    .dataframe thead th {\n",
       "        text-align: right;\n",
       "    }\n",
       "</style>\n",
       "<table border=\"1\" class=\"dataframe\">\n",
       "  <thead>\n",
       "    <tr style=\"text-align: right;\">\n",
       "      <th></th>\n",
       "      <th>Город</th>\n",
       "      <th>Температура</th>\n",
       "      <th>Влажность</th>\n",
       "    </tr>\n",
       "  </thead>\n",
       "  <tbody>\n",
       "    <tr>\n",
       "      <th>0</th>\n",
       "      <td>Москва</td>\n",
       "      <td>19</td>\n",
       "      <td>30</td>\n",
       "    </tr>\n",
       "    <tr>\n",
       "      <th>1</th>\n",
       "      <td>Москва</td>\n",
       "      <td>22</td>\n",
       "      <td>35</td>\n",
       "    </tr>\n",
       "    <tr>\n",
       "      <th>2</th>\n",
       "      <td>Санкт-Петербург</td>\n",
       "      <td>17</td>\n",
       "      <td>40</td>\n",
       "    </tr>\n",
       "    <tr>\n",
       "      <th>3</th>\n",
       "      <td>Москва</td>\n",
       "      <td>20</td>\n",
       "      <td>33</td>\n",
       "    </tr>\n",
       "    <tr>\n",
       "      <th>4</th>\n",
       "      <td>Санкт-Петербург</td>\n",
       "      <td>19</td>\n",
       "      <td>38</td>\n",
       "    </tr>\n",
       "    <tr>\n",
       "      <th>5</th>\n",
       "      <td>Санкт-Петербург</td>\n",
       "      <td>21</td>\n",
       "      <td>35</td>\n",
       "    </tr>\n",
       "  </tbody>\n",
       "</table>\n",
       "</div>"
      ],
      "text/plain": [
       "             Город  Температура  Влажность\n",
       "0           Москва           19         30\n",
       "1           Москва           22         35\n",
       "2  Санкт-Петербург           17         40\n",
       "3           Москва           20         33\n",
       "4  Санкт-Петербург           19         38\n",
       "5  Санкт-Петербург           21         35"
      ]
     },
     "execution_count": 7,
     "metadata": {},
     "output_type": "execute_result"
    }
   ],
   "source": [
    "df"
   ]
  },
  {
   "cell_type": "code",
   "execution_count": 8,
   "metadata": {
    "colab": {
     "base_uri": "https://localhost:8080/",
     "height": 430
    },
    "id": "aS51HBL6JZkP",
    "outputId": "597ba670-c4ba-4e70-9487-86e277ad1516"
   },
   "outputs": [
    {
     "data": {
      "image/png": "[encoded data removed]",
      "text/plain": [
       "<Figure size 640x480 with 1 Axes>"
      ]
     },
     "metadata": {},
     "output_type": "display_data"
    }
   ],
   "source": [
    "import matplotlib.pyplot as plt\n",
    "#matplotlib.pyplot - это модуль из библиотеки matplotlib, который предоставляет функции для создания графиков и визуализации данных. Он обычно используется вместе с pandas для визуализации данных из DataFrame.\n",
    "\n",
    "# Создаем простую линейную диаграмму\n",
    "x = [1, 2, 3, 4, 5]\n",
    "y = [1, 4, 9, 16, 25]\n",
    "\n",
    "plt.plot(x, y)\n",
    "plt.show()  # показываем диаграмму"
   ]
  },
  {
   "cell_type": "code",
   "execution_count": 2,
   "metadata": {
    "scrolled": true
   },
   "outputs": [
    {
     "data": {
      "image/png": "[encoded data removed]",
      "text/plain": [
       "<Figure size 640x480 with 1 Axes>"
      ]
     },
     "metadata": {},
     "output_type": "display_data"
    }
   ],
   "source": [
    "import matplotlib.pyplot as plt\n",
    "import numpy as np\n",
    "\n",
    "# Создание графика функции синуса\n",
    "x = np.linspace(0, 10, 100)\n",
    "y = np.sin(x)\n",
    "\n",
    "plt.plot(x, y)\n",
    "plt.xlabel('X')\n",
    "plt.ylabel('sin(x)')\n",
    "plt.title('График функции sin(x)')\n",
    "plt.grid(True)\n",
    "plt.show()\n",
    "\n"
   ]
  },
  {
   "cell_type": "code",
   "execution_count": 3,
   "metadata": {},
   "outputs": [
    {
     "data": {
      "image/png": "[encoded data removed]",
      "text/plain": [
       "<Figure size 640x480 with 1 Axes>"
      ]
     },
     "metadata": {},
     "output_type": "display_data"
    }
   ],
   "source": [
    "plt.plot(x, y)\n",
    "#plt.xlabel('X')\n",
    "#plt.ylabel('sin(x)')\n",
    "#plt.title('График функции sin(x)')\n",
    "plt.grid(True)\n",
    "plt.show()\n"
   ]
  },
  {
   "cell_type": "code",
   "execution_count": 9,
   "metadata": {
    "colab": {
     "base_uri": "https://localhost:8080/",
     "height": 472
    },
    "id": "-x1lYHM39eiS",
    "outputId": "80f5311d-7741-4e7c-fc3c-f3f4cceba773"
   },
   "outputs": [
    {
     "data": {
      "image/png": "[encoded data removed]",
      "text/plain": [
       "<Figure size 640x480 with 1 Axes>"
      ]
     },
     "metadata": {},
     "output_type": "display_data"
    }
   ],
   "source": [
    "#Вы можете использовать matplotlib.pyplot, чтобы создать график среднего чека покупателей:\n",
    "\n",
    "import pandas as pd\n",
    "import matplotlib.pyplot as plt\n",
    "\n",
    "data = {'Имя': ['Анна', 'Петр', 'Мария'],\n",
    "        'Возраст': [20, 22, 21],\n",
    "        'Средний чек': [4500, 4200, 4800]}\n",
    "\n",
    "df = pd.DataFrame(data)\n",
    "\n",
    "plt.plot(df['Имя'], df['Средний чек'])\n",
    "plt.xlabel('Имя')\n",
    "plt.ylabel('Средний чек')\n",
    "plt.title('Средний чек покупателей')\n",
    "plt.show()\n",
    "\n",
    "#Этот код создаст график среднего балла студентов, где по оси X будут имена студентов, а по оси Y - их средний балл.\n"
   ]
  },
  {
   "cell_type": "code",
   "execution_count": 6,
   "metadata": {},
   "outputs": [
    {
     "data": {
      "application/vnd.microsoft.datawrangler.viewer.v0+json": {
       "columns": [
        {
         "name": "index",
         "rawType": "int64",
         "type": "integer"
        },
        {
         "name": "Имя",
         "rawType": "object",
         "type": "string"
        },
        {
         "name": "Возраст",
         "rawType": "int64",
         "type": "integer"
        },
        {
         "name": "Средний чек",
         "rawType": "int64",
         "type": "integer"
        }
       ],
       "ref": "dfac4e53-fb3e-449c-8d22-ef9e54bb66db",
       "rows": [
        [
         "0",
         "Анна",
         "20",
         "4500"
        ],
        [
         "1",
         "Петр",
         "22",
         "4200"
        ],
        [
         "2",
         "Мария",
         "21",
         "4800"
        ]
       ],
       "shape": {
        "columns": 3,
        "rows": 3
       }
      },
      "text/html": [
       "<div>\n",
       "<style scoped>\n",
       "    .dataframe tbody tr th:only-of-type {\n",
       "        vertical-align: middle;\n",
       "    }\n",
       "\n",
       "    .dataframe tbody tr th {\n",
       "        vertical-align: top;\n",
       "    }\n",
       "\n",
       "    .dataframe thead th {\n",
       "        text-align: right;\n",
       "    }\n",
       "</style>\n",
       "<table border=\"1\" class=\"dataframe\">\n",
       "  <thead>\n",
       "    <tr style=\"text-align: right;\">\n",
       "      <th></th>\n",
       "      <th>Имя</th>\n",
       "      <th>Возраст</th>\n",
       "      <th>Средний чек</th>\n",
       "    </tr>\n",
       "  </thead>\n",
       "  <tbody>\n",
       "    <tr>\n",
       "      <th>0</th>\n",
       "      <td>Анна</td>\n",
       "      <td>20</td>\n",
       "      <td>4500</td>\n",
       "    </tr>\n",
       "    <tr>\n",
       "      <th>1</th>\n",
       "      <td>Петр</td>\n",
       "      <td>22</td>\n",
       "      <td>4200</td>\n",
       "    </tr>\n",
       "    <tr>\n",
       "      <th>2</th>\n",
       "      <td>Мария</td>\n",
       "      <td>21</td>\n",
       "      <td>4800</td>\n",
       "    </tr>\n",
       "  </tbody>\n",
       "</table>\n",
       "</div>"
      ],
      "text/plain": [
       "     Имя  Возраст  Средний чек\n",
       "0   Анна       20         4500\n",
       "1   Петр       22         4200\n",
       "2  Мария       21         4800"
      ]
     },
     "execution_count": 6,
     "metadata": {},
     "output_type": "execute_result"
    }
   ],
   "source": [
    "df"
   ]
  },
  {
   "cell_type": "code",
   "execution_count": 7,
   "metadata": {
    "colab": {
     "base_uri": "https://localhost:8080/",
     "height": 1000
    },
    "id": "4yLrsCXk-gmR",
    "outputId": "b82ddddc-1743-48d0-9ded-71e26cd5ddf9"
   },
   "outputs": [
    {
     "data": {
      "image/png": "[encoded data removed]",
      "text/plain": [
       "<Figure size 640x480 with 1 Axes>"
      ]
     },
     "metadata": {},
     "output_type": "display_data"
    },
    {
     "data": {
      "image/png": "[encoded data removed]",
      "text/plain": [
       "<Figure size 640x480 with 1 Axes>"
      ]
     },
     "metadata": {},
     "output_type": "display_data"
    },
    {
     "data": {
      "image/png": "[encoded data removed]",
      "text/plain": [
       "<Figure size 640x480 with 1 Axes>"
      ]
     },
     "metadata": {},
     "output_type": "display_data"
    }
   ],
   "source": [
    "# Пример 1: График распределения возраста покупателей\n",
    "data = {'Имя': ['Анна', 'Петр', 'Мария'],\n",
    "        'Возраст': [20, 22, 21],\n",
    "        'Средний чек': [4500, 4200, 4800]}\n",
    "\n",
    "df = pd.DataFrame(data)\n",
    "\n",
    "plt.bar(df['Имя'], df['Возраст'])\n",
    "plt.xlabel('Имя')\n",
    "plt.ylabel('Возраст')\n",
    "plt.title('Распределение возраста покупателей')\n",
    "plt.show()\n",
    "\n",
    "# Пример 2: График сравнения среднего чек покупателей\n",
    "plt.bar(df['Имя'], df['Средний чек'])\n",
    "plt.xlabel('Имя')\n",
    "plt.ylabel('Средний чек')\n",
    "plt.title('Сравнение среднего чек покупателей')\n",
    "plt.show()\n",
    "\n",
    "# Пример 3: График среднего чека покупателей с разными цветами для каждого студента\n",
    "colors = ['blue', 'green', 'red']\n",
    "plt.bar(df['Имя'], df['Средний чек'], color=colors)\n",
    "plt.xlabel('Имя')\n",
    "plt.ylabel('Средний чек')\n",
    "plt.title('Средний чек покупателей')\n",
    "plt.show()"
   ]
  },
  {
   "cell_type": "code",
   "execution_count": 8,
   "metadata": {
    "colab": {
     "base_uri": "https://localhost:8080/",
     "height": 1000
    },
    "id": "TUxMilID-RBk",
    "outputId": "80057f08-00bb-44bd-b5da-c7616c499067"
   },
   "outputs": [
    {
     "data": {
      "image/png": "[encoded data removed]",
      "text/plain": [
       "<Figure size 640x480 with 1 Axes>"
      ]
     },
     "metadata": {},
     "output_type": "display_data"
    },
    {
     "data": {
      "image/png": "[encoded data removed]",
      "text/plain": [
       "<Figure size 640x480 with 1 Axes>"
      ]
     },
     "metadata": {},
     "output_type": "display_data"
    },
    {
     "data": {
      "image/png": "[encoded data removed]",
      "text/plain": [
       "<Figure size 640x480 with 1 Axes>"
      ]
     },
     "metadata": {},
     "output_type": "display_data"
    }
   ],
   "source": [
    "#пример визуализации данных о продажах с использованием библиотеки matplotlib.pyplot:\n",
    "\n",
    "import pandas as pd\n",
    "import matplotlib.pyplot as plt\n",
    "\n",
    "# Создание DataFrame с данными о продажах\n",
    "data = {'Месяц': ['Январь', 'Февраль', 'Март', 'Апрель', 'Май'],\n",
    "        'Продажи': [10000, 15000, 12000, 18000, 20000]}\n",
    "\n",
    "df = pd.DataFrame(data)\n",
    "\n",
    "# График продаж по месяцам\n",
    "plt.plot(df['Месяц'], df['Продажи'])\n",
    "plt.xlabel('Месяц')\n",
    "plt.ylabel('Продажи')\n",
    "plt.title('Динамика продаж')\n",
    "plt.show()\n",
    "\n",
    "# График столбцов суммарных продаж по месяцам\n",
    "plt.bar(df['Месяц'], df['Продажи'])\n",
    "plt.xlabel('Месяц')\n",
    "plt.ylabel('Продажи')\n",
    "plt.title('Суммарные продажи по месяцам')\n",
    "plt.show()\n",
    "\n",
    "# Круговая диаграмма доли продаж каждого месяца\n",
    "plt.pie(df['Продажи'], labels=df['Месяц'], autopct='%1.1f%%')\n",
    "plt.title('Доля продаж по месяцам')\n",
    "plt.show()\n",
    "\n",
    "#Это всего лишь несколько примеров того, как можно визуализировать данные о продажах с помощью библиотеки matplotlib.pyplot.\n",
    "#Вы можете настроить графики по своему усмотрению, добавлять дополнительные элементы и изменять цвета, чтобы адаптировать их под ваши нужды."
   ]
  },
  {
   "cell_type": "code",
   "execution_count": 9,
   "metadata": {
    "scrolled": true
   },
   "outputs": [
    {
     "data": {
      "image/png": "[encoded data removed]",
      "text/plain": [
       "<Figure size 640x480 with 2 Axes>"
      ]
     },
     "metadata": {},
     "output_type": "display_data"
    }
   ],
   "source": [
    "#Пример использования библиотеки matplotlib для создания сложных графиков в Python:\n",
    "\n",
    "import matplotlib.pyplot as plt\n",
    "import numpy as np\n",
    "\n",
    "# Создание данных для графика\n",
    "x = np.linspace(0, 10, 100)\n",
    "y1 = np.sin(x)\n",
    "y2 = np.cos(x)\n",
    "\n",
    "# Создание сложного графика с несколькими подграфиками\n",
    "fig, (ax1, ax2) = plt.subplots(2, 1, sharex=True)\n",
    "\n",
    "# Настройка первого подграфика\n",
    "ax1.plot(x, y1, 'r-', label='sin(x)')\n",
    "ax1.set_ylabel('Значение')\n",
    "ax1.legend()\n",
    "\n",
    "# Настройка второго подграфика\n",
    "ax2.plot(x, y2, 'b-', label='cos(x)')\n",
    "ax2.set_xlabel('x')\n",
    "ax2.set_ylabel('Значение')\n",
    "ax2.legend()\n",
    "\n",
    "# Отображение графика\n",
    "plt.show()\n",
    "\n",
    "\n",
    "#В этом примере мы используем библиотеку matplotlib для создания двух подграфиков на одном графике. \n",
    "#Мы создаем данные для графика с помощью функции linspace() из библиотеки numpy. Затем мы создаем объект Figure и два объекта Axes, представляющих каждый подграфик.\n",
    "#Мы настраиваем каждый подграфик с помощью функций plot(), set_xlabel(), set_ylabel() и legend(). \n",
    "#Наконец, мы отображаем график с помощью функции show()."
   ]
  },
  {
   "cell_type": "markdown",
   "metadata": {},
   "source": [
    "# Исследование данных"
   ]
  },
  {
   "cell_type": "code",
   "execution_count": 9,
   "metadata": {
    "colab": {
     "base_uri": "https://localhost:8080/",
     "height": 1000
    },
    "id": "zcJkTHS-AQPa",
    "outputId": "2161bf14-7dc1-42be-d979-8f5595dcbf5a"
   },
   "outputs": [
    {
     "data": {
      "image/png": "[encoded data removed]",
      "text/plain": [
       "<Figure size 600x600 with 1 Axes>"
      ]
     },
     "metadata": {},
     "output_type": "display_data"
    }
   ],
   "source": [
    "import matplotlib.pyplot as plt\n",
    "#1. Линейный график продаж по месяцам с разделением по категориям:\n",
    "\n",
    "# Создание данных для графика\n",
    "categories = ['Category 1', 'Category 2', 'Category 3']\n",
    "months = ['January', 'February', 'March', 'April']\n",
    "sales = [[100, 150, 200, 250], [50, 100, 150, 200], [200, 250, 300, 350]]\n",
    "\n",
    "# Построение графика\n",
    "plt.figure(figsize=(6, 6))\n",
    "for i in range(len(categories)):\n",
    "    plt.plot(months, sales[i], label=categories[i])\n",
    "\n",
    "plt.xlabel('Month')\n",
    "plt.ylabel('Sales')\n",
    "plt.title('Sales by Month and Category')\n",
    "plt.legend()\n",
    "plt.show()\n",
    "\n"
   ]
  },
  {
   "cell_type": "code",
   "execution_count": 11,
   "metadata": {},
   "outputs": [
    {
     "data": {
      "image/png": "[encoded data removed]",
      "text/plain": [
       "<Figure size 1000x600 with 1 Axes>"
      ]
     },
     "metadata": {},
     "output_type": "display_data"
    }
   ],
   "source": [
    "#2. Гистограмма распределения продаж по ценам:\n",
    "\n",
    "\n",
    "# Создание данных для гистограммы\n",
    "prices = [10, 15, 20, 25, 30, 35, 40, 45, 50, 55, 60]\n",
    "sales = [5, 10, 15, 20, 25, 20, 15, 10, 5, 2, 1]\n",
    "\n",
    "# Построение гистограммы\n",
    "plt.figure(figsize=(10, 6))\n",
    "plt.bar(prices, sales)\n",
    "\n",
    "plt.xlabel('Price')\n",
    "plt.ylabel('Number of Sales')\n",
    "plt.title('Sales Distribution by Price')\n",
    "plt.show()\n"
   ]
  },
  {
   "cell_type": "code",
   "execution_count": 13,
   "metadata": {},
   "outputs": [
    {
     "data": {
      "text/plain": [
       "<function matplotlib.pyplot.show(close=None, block=None)>"
      ]
     },
     "execution_count": 13,
     "metadata": {},
     "output_type": "execute_result"
    },
    {
     "data": {
      "image/png": "[encoded data removed]",
      "text/plain": [
       "<Figure size 600x400 with 1 Axes>"
      ]
     },
     "metadata": {},
     "output_type": "display_data"
    }
   ],
   "source": [
    "#3. Диаграмма рассеяния продаж по ценам и количеству:\n",
    "\n",
    "\n",
    "# Создание данных для диаграммы рассеяния\n",
    "prices = [10, 15, 20, 25, 30, 35, 40, 45, 50, 55, 60]\n",
    "quantities = [5, 10, 15, 20, 25, 20, 15, 10, 5, 2, 1]\n",
    "\n",
    "# Построение диаграммы рассеяния\n",
    "plt.figure(figsize=(6, 4))\n",
    "plt.scatter(prices, quantities)\n",
    "\n",
    "plt.xlabel('Price')\n",
    "plt.ylabel('Quantity Sold')\n",
    "plt.title('Sales Scatter Plot')\n",
    "plt.show"
   ]
  },
  {
   "cell_type": "code",
   "execution_count": 23,
   "metadata": {},
   "outputs": [
    {
     "data": {
      "image/png": "[encoded data removed]",
      "text/plain": [
       "<Figure size 1000x600 with 1 Axes>"
      ]
     },
     "metadata": {},
     "output_type": "display_data"
    },
    {
     "data": {
      "image/png": "[encoded data removed]",
      "text/plain": [
       "<Figure size 500x300 with 2 Axes>"
      ]
     },
     "metadata": {},
     "output_type": "display_data"
    }
   ],
   "source": [
    "import numpy as np\n",
    "#4. Столбчатая диаграмма сравнения продаж разных категорий по месяцам:\n",
    "\n",
    "# Создание данных для столбчатой диаграммы\n",
    "categories = ['Category 1', 'Category 2', 'Category 3']\n",
    "months = ['January', 'February', 'March', 'April']\n",
    "sales = np.array([[100, 150, 200, 250], [50, 100, 150, 200], [200, 250, 300, 350]])\n",
    "\n",
    "# Построение столбчатой диаграммы\n",
    "plt.figure(figsize=(10, 6))\n",
    "bar_width = 0.2\n",
    "for i in range(len(categories)):\n",
    "    plt.bar(np.arange(len(months)) + i * bar_width, sales[i], width=bar_width, label=categories[i])\n",
    "\n",
    "plt.xlabel('Month')\n",
    "plt.ylabel('Sales')\n",
    "plt.title('Sales Comparison by Month and Category')\n",
    "plt.xticks(np.arange(len(months)) + bar_width * (len(categories) - 1) / 2, months)\n",
    "plt.legend()\n",
    "plt.show()\n",
    "\n",
    "\n",
    "\n",
    "#5. Тепловая карта продаж по категориям и месяцам:\n",
    "\n",
    "\n",
    "# Создание данных для тепловой карты\n",
    "categories = ['Category 1', 'Category 2', 'Category 3']\n",
    "months = ['January', 'February', 'March', 'April']\n",
    "sales = np.array([[100, 150, 200, 250], [50, 100, 150, 200], [200, 250, 300, 350]])\n",
    "\n",
    "# Построение тепловой карты\n",
    "plt.figure(figsize=(5, 3))\n",
    "plt.imshow(sales, cmap='hot')\n",
    "\n",
    "plt.xlabel('Month')\n",
    "plt.ylabel('Category')\n",
    "plt.title('Sales Heatmap by Month and Category')\n",
    "plt.xticks(np.arange(len(months)), months)\n",
    "plt.yticks(np.arange(len(categories)), categories)\n",
    "plt.colorbar(label='Sales')\n",
    "plt.show()\n"
   ]
  },
  {
   "cell_type": "code",
   "execution_count": null,
   "metadata": {
    "colab": {
     "base_uri": "https://localhost:8080/"
    },
    "id": "ZEobhKUhBID_",
    "outputId": "a3bf6a1f-5beb-4a91-9247-0a9f0da1d98e"
   },
   "outputs": [],
   "source": [
    "#Пример использования requests.get:\n",
    "import requests\n",
    "\n",
    "#response = requests.get('https://www.example.com')\n",
    "response = requests.get('https://e-disclosure.ru/portal/company.aspx?id=29792')\n",
    "\n",
    "print(response.status_code)  # Выводит статус-код ответа\n",
    "print(response.headers)  # Выводит заголовки ответа\n",
    "print(response.text)  # Выводит тело ответа в виде текста, если вы хотите получить содержимое веб-страницы, вы можете использовать \n",
    "\n",
    "\n",
    "#В этом примере мы отправляем GET-запрос на https://www.example.com и сохраняем ответ в переменную response. Затем мы выводим статус-код ответа, заголовки и тело ответа."
   ]
  },
  {
   "cell_type": "code",
   "execution_count": null,
   "metadata": {
    "colab": {
     "base_uri": "https://localhost:8080/"
    },
    "id": "rWDyWohJCKeJ",
    "outputId": "ba2bec7f-6845-4bfe-ab1e-ede7b2b5dcc2"
   },
   "outputs": [],
   "source": [
    "# Делаем GET запрос к сайту\n",
    "response = requests.get('https://www.google.com')\n",
    "print(response.status_code)  # Выводит статус-код ответа\n",
    "print(response.headers)  # Выводит заголовки ответа\n",
    "print(response.text)  # Выводит тело ответа в виде текста"
   ]
  },
  {
   "cell_type": "code",
   "execution_count": 29,
   "metadata": {
    "colab": {
     "base_uri": "https://localhost:8080/",
     "height": 1000,
     "referenced_widgets": [
      "90a88a1d42034a47a991fea3d904581e",
      "d5e22d81df7d420c8eaa91d782689899",
      "733a42b8e9a442f9b825db6ec01cc11c",
      "df5624cb60d149028c78fefa03953002",
      "2f8c784c0f6d4b878e126e516c2b0023"
     ]
    },
    "id": "ajjaOh2DEZ6V",
    "outputId": "e7ad484e-cc71-4fe5-b2ad-1186f8cc46ca"
   },
   "outputs": [
    {
     "data": {
      "application/vnd.jupyter.widget-view+json": {
       "model_id": "c23860f7922e41bcb2b4ac9d26d057a7",
       "version_major": 2,
       "version_minor": 0
      },
      "text/plain": [
       "Button(description='Click Me!', style=ButtonStyle())"
      ]
     },
     "metadata": {},
     "output_type": "display_data"
    },
    {
     "data": {
      "application/vnd.jupyter.widget-view+json": {
       "model_id": "31d4cb394e47412a96d641108dd25ebb",
       "version_major": 2,
       "version_minor": 0
      },
      "text/plain": [
       "Output()"
      ]
     },
     "metadata": {},
     "output_type": "display_data"
    }
   ],
   "source": [
    "#Tkinter не поддерживается нативно в Google Colab, так как Colab предоставляет только интерфейс командной строки. Однако вы можете использовать библиотеку IPython для создания простых графических интерфейсов в Colab.\n",
    "\n",
    "#Вот пример использования IPython для создания простого графического интерфейса в Colab:\n",
    "\n",
    "#!pip install ipywidgets\n",
    "\n",
    "import ipywidgets as widgets\n",
    "from IPython.display import display\n",
    "\n",
    "button = widgets.Button(description=\"Click Me!\")\n",
    "output = widgets.Output()\n",
    "\n",
    "def on_button_click(b):\n",
    "    with output:\n",
    "        print(\"Button clicked!\")\n",
    "\n",
    "button.on_click(on_button_click)\n",
    "\n",
    "display(button, output)\n",
    "\n",
    "\n",
    "#Этот код создает кнопку \"Click Me!\" и выводит сообщение \"Button clicked!\" в ячейке вывода при нажатии на кнопку.\n",
    "#Вы можете изменить код, чтобы создать более сложные интерфейсы с другими виджетами, такими как текстовые поля, выпадающие списки и т. д.\n",
    "\n",
    "#Обратите внимание, что это не полноценная замена Tkinter и не поддерживает все функции Tkinter.\n",
    "#Однако, если вам нужно создать простой графический интерфейс для взаимодействия с вашим кодом в Colab, IPython и ipywidgets могут быть полезными инструментами."
   ]
  },
  {
   "cell_type": "code",
   "execution_count": 31,
   "metadata": {
    "colab": {
     "base_uri": "https://localhost:8080/"
    },
    "id": "xAQi0_vnJ0K-",
    "outputId": "dbb1c12d-2d09-4ee2-bb06-7c43fcc8294e"
   },
   "outputs": [
    {
     "name": "stdout",
     "output_type": "stream",
     "text": [
      "Текущая версия API: https://api.github.com/user\n"
     ]
    }
   ],
   "source": [
    "import requests\n",
    "\n",
    "# Получение и обработка JSON-ответа от API\n",
    "response = requests.get('https://api.github.com')\n",
    "\n",
    "if response.status_code == 200:\n",
    "    json_response = response.json()\n",
    "\n",
    "    print(f\"Текущая версия API: {json_response.get('current_user_url')}\")\n",
    "else:\n",
    "    print(\"Не удалось получить ответ от API.\")"
   ]
  },
  {
   "cell_type": "code",
   "execution_count": 33,
   "metadata": {
    "colab": {
     "base_uri": "https://localhost:8080/"
    },
    "id": "hqOyy_9PJ0QO",
    "outputId": "80ccba43-1f6d-48b7-bbc2-71682f83516d"
   },
   "outputs": [
    {
     "name": "stdout",
     "output_type": "stream",
     "text": [
      "Площадь круга с радиусом 1.5 равна 7.0683750000000005\n"
     ]
    }
   ],
   "source": [
    "def area_of_circle(radius):\n",
    "    # Функция для вычисления площади круга\n",
    "    area = 3.1415 * (radius ** 2)\n",
    "    return area\n",
    "\n",
    "r = 1.5\n",
    "print(f\"Площадь круга с радиусом {r} равна {area_of_circle(r)}\")"
   ]
  },
  {
   "cell_type": "code",
   "execution_count": 35,
   "metadata": {
    "colab": {
     "base_uri": "https://localhost:8080/"
    },
    "id": "Ht4biuUiJswk",
    "outputId": "ffc9946e-a79d-42b4-d4fd-f83cf7617bf5"
   },
   "outputs": [
    {
     "name": "stdout",
     "output_type": "stream",
     "text": [
      "Перевернутая строка: !dlroW ,olleH\n"
     ]
    }
   ],
   "source": [
    "def reverse_string(input_string):\n",
    "    # Функция для переворачивания строки\n",
    "    return input_string[::-1]\n",
    "\n",
    "s = \"Hello, World!\"\n",
    "print(f\"Перевернутая строка: {reverse_string(s)}\")"
   ]
  },
  {
   "cell_type": "code",
   "execution_count": 2,
   "metadata": {
    "colab": {
     "base_uri": "https://localhost:8080/"
    },
    "id": "M3vnNNsBIdBa",
    "outputId": "aaab2251-7b11-4506-f37c-5cad28b474fa"
   },
   "outputs": [
    {
     "name": "stdout",
     "output_type": "stream",
     "text": [
      "Число 730000737000037 является простым\n"
     ]
    }
   ],
   "source": [
    "def is_prime(n):\n",
    "    # Функция для проверки, является ли число простым\n",
    "    if n < 2:\n",
    "        return False\n",
    "    for i in range(2, int(n**0.5) + 1):\n",
    "        if n % i == 0:\n",
    "            return False\n",
    "    return True\n",
    "\n",
    "num = 730_000_737_000_037\n",
    "if is_prime(num):\n",
    "    print(f\"Число {num} является простым\")\n",
    "else:\n",
    "    print(f\"Число {num} не является простым\")"
   ]
  },
  {
   "cell_type": "code",
   "execution_count": 25,
   "metadata": {
    "colab": {
     "base_uri": "https://localhost:8080/"
    },
    "id": "AoYOAlqJKAIy",
    "outputId": "b19ea53d-dab5-4464-97f0-09fde70cc81a"
   },
   "outputs": [
    {
     "name": "stdout",
     "output_type": "stream",
     "text": [
      "Максимальное значение в списке: 112\n"
     ]
    }
   ],
   "source": [
    "def find_max(input_list):\n",
    "    # Функция для нахождения максимального элемента в списке\n",
    "    return max(input_list)\n",
    "\n",
    "lst = [5, 3, 2, 9, 7, 100, 12, 112 ]\n",
    "print(f\"Максимальное значение в списке: {find_max(lst)}\")"
   ]
  },
  {
   "cell_type": "code",
   "execution_count": 55,
   "metadata": {
    "colab": {
     "base_uri": "https://localhost:8080/"
    },
    "id": "X3RvrkGZKAL4",
    "outputId": "2871d78d-b3c8-4ee7-f685-36bddabca75c"
   },
   "outputs": [
    {
     "name": "stdout",
     "output_type": "stream",
     "text": [
      "Факториал числа 73 равен 4470115461512684340891257138125051110076800700282905015819080092370422104067183317016903680000000000000000\n"
     ]
    }
   ],
   "source": [
    "def factorial(n):\n",
    "    # Функция для вычисления факториала числа\n",
    "    if n == 0:\n",
    "        return 1\n",
    "    else:\n",
    "        return n * factorial(n-1)\n",
    "\n",
    "num = 73\n",
    "print(f\"Факториал числа {num} равен {factorial(num)}\")"
   ]
  },
  {
   "cell_type": "code",
   "execution_count": 57,
   "metadata": {
    "colab": {
     "base_uri": "https://localhost:8080/"
    },
    "id": "7gTlm4SnKARr",
    "outputId": "cd557f90-fdea-4664-90f7-7adbe8a13fd1"
   },
   "outputs": [
    {
     "name": "stdout",
     "output_type": "stream",
     "text": [
      "Первые 23 чисел последовательности Фибоначчи: [0, 1, 1, 2, 3, 5, 8, 13, 21, 34, 55, 89, 144, 233, 377, 610, 987, 1597, 2584, 4181, 6765, 10946, 17711]\n"
     ]
    }
   ],
   "source": [
    "def fibonacci(n):\n",
    "    # Функция для генерации первых n чисел последовательности Фибоначчи\n",
    "    sequence = [0, 1]\n",
    "    while len(sequence) < n:\n",
    "        sequence.append(sequence[-1] + sequence[-2])\n",
    "    return sequence\n",
    "\n",
    "num = 23\n",
    "print(f\"Первые {num} чисел последовательности Фибоначчи: {fibonacci(num)}\")"
   ]
  },
  {
   "cell_type": "code",
   "execution_count": 59,
   "metadata": {
    "colab": {
     "base_uri": "https://localhost:8080/"
    },
    "id": "Jqozr2PeKFtx",
    "outputId": "c16b3a13-ff4d-4363-d1c0-ba5d30f48bbb"
   },
   "outputs": [
    {
     "name": "stdout",
     "output_type": "stream",
     "text": [
      "Отсортированный список: [11, 12, 13, 22, 25, 34, 64, 90, 97]\n"
     ]
    }
   ],
   "source": [
    "def bubble_sort(lst):\n",
    "    # Функция для сортировки списка чисел с помощью алгоритма сортировки пузырьком\n",
    "    for i in range(len(lst)):\n",
    "        for j in range(len(lst) - 1):\n",
    "            if lst[j] > lst[j + 1]:\n",
    "                lst[j], lst[j + 1] = lst[j + 1], lst[j]\n",
    "    return lst\n",
    "\n",
    "numbers = [13, 97, 64, 34, 25, 12, 22, 11, 90]\n",
    "print(f\"Отсортированный список: {bubble_sort(numbers)}\")"
   ]
  },
  {
   "cell_type": "code",
   "execution_count": 35,
   "metadata": {
    "colab": {
     "base_uri": "https://localhost:8080/"
    },
    "id": "6jw0zwjbKFwj",
    "outputId": "7c69b22b-2781-4f04-e912-0873366e7f1f"
   },
   "outputs": [
    {
     "name": "stdout",
     "output_type": "stream",
     "text": [
      "Фраза \"A man, a plan, a canal: Panama\" является палиндромом\n"
     ]
    }
   ],
   "source": [
    "def is_palindrome(s):\n",
    "    # Функция для проверки, является ли данное слово или фраза палиндромом\n",
    "    s = ''.join(filter(str.isalnum, s)).lower()  # Удаляем пробелы, пунктуацию и приводим к нижнему регистру\n",
    "    return s == s[::-1]\n",
    "\n",
    "phrase = \"A man, a plan, a canal: Panama\"\n",
    "if is_palindrome(phrase):\n",
    "    print(f\"Фраза \\\"{phrase}\\\" является палиндромом\")\n",
    "else:\n",
    "    print(f\"Фраза \\\"{phrase}\\\" не является палиндромом\")"
   ]
  },
  {
   "cell_type": "code",
   "execution_count": 30,
   "metadata": {
    "colab": {
     "base_uri": "https://localhost:8080/"
    },
    "id": "P03r8mCtKAXB",
    "outputId": "429f5d53-52b7-487b-ad6e-22d2c4a28e0b"
   },
   "outputs": [
    {
     "name": "stdout",
     "output_type": "stream",
     "text": [
      "Все перестановки строки \"Anton\": ['Anton', 'Antno', 'Anotn', 'Anont', 'Annto', 'Annot', 'Atnon', 'Atnno', 'Atonn', 'Atonn', 'Atnno', 'Atnon', 'Aontn', 'Aonnt', 'Aotnn', 'Aotnn', 'Aonnt', 'Aontn', 'Annto', 'Annot', 'Antno', 'Anton', 'Anont', 'Anotn', 'nAton', 'nAtno', 'nAotn', 'nAont', 'nAnto', 'nAnot', 'ntAon', 'ntAno', 'ntoAn', 'ntonA', 'ntnAo', 'ntnoA', 'noAtn', 'noAnt', 'notAn', 'notnA', 'nonAt', 'nontA', 'nnAto', 'nnAot', 'nntAo', 'nntoA', 'nnoAt', 'nnotA', 'tAnon', 'tAnno', 'tAonn', 'tAonn', 'tAnno', 'tAnon', 'tnAon', 'tnAno', 'tnoAn', 'tnonA', 'tnnAo', 'tnnoA', 'toAnn', 'toAnn', 'tonAn', 'tonnA', 'tonAn', 'tonnA', 'tnAno', 'tnAon', 'tnnAo', 'tnnoA', 'tnoAn', 'tnonA', 'oAntn', 'oAnnt', 'oAtnn', 'oAtnn', 'oAnnt', 'oAntn', 'onAtn', 'onAnt', 'ontAn', 'ontnA', 'onnAt', 'onntA', 'otAnn', 'otAnn', 'otnAn', 'otnnA', 'otnAn', 'otnnA', 'onAnt', 'onAtn', 'onnAt', 'onntA', 'ontAn', 'ontnA', 'nAnto', 'nAnot', 'nAtno', 'nAton', 'nAont', 'nAotn', 'nnAto', 'nnAot', 'nntAo', 'nntoA', 'nnoAt', 'nnotA', 'ntAno', 'ntAon', 'ntnAo', 'ntnoA', 'ntoAn', 'ntonA', 'noAnt', 'noAtn', 'nonAt', 'nontA', 'notAn', 'notnA']\n"
     ]
    }
   ],
   "source": [
    "from itertools import permutations\n",
    "\n",
    "def string_permutations(s):\n",
    "    # Функция для генерации всех перестановок данной строки\n",
    "    perms = [''.join(p) for p in permutations(s)]\n",
    "    return perms\n",
    "\n",
    "strng = \"Anton\"\n",
    "print(f\"Все перестановки строки \\\"{strng}\\\": {string_permutations(strng)}\")"
   ]
  },
  {
   "cell_type": "code",
   "execution_count": 34,
   "metadata": {
    "colab": {
     "base_uri": "https://localhost:8080/"
    },
    "id": "9XhhrQbZRr1j",
    "outputId": "649f1a41-eed5-4e41-c569-e1917e0a7159",
    "scrolled": true
   },
   "outputs": [
    {
     "name": "stdout",
     "output_type": "stream",
     "text": [
      "1 {'a': 1}\n",
      "2 {'a': 2}\n",
      "3 {'a': 2, 'c': 1}\n",
      "3 {'c': 1, 'i': 1}\n",
      "3\n"
     ]
    }
   ],
   "source": [
    "#Задача: Для заданной строки найдите длину самой длинной подстроки в ней, содержащей не более K различных символов.\n",
    "\n",
    "def longest_substring_with_k_distinct(str1, k):\n",
    "\n",
    "  window_start = 0\n",
    "  max_length = 0\n",
    "  char_frequency = {}\n",
    "\n",
    "  # в следующем цикле мы попробуем расширить диапазон [window_start, window_end]\n",
    "  for window_end in range(len(str1)):\n",
    "    right_char = str1[window_end]\n",
    "    if right_char not in char_frequency:\n",
    "      char_frequency[right_char] = 0\n",
    "    char_frequency[right_char] += 1\n",
    "\n",
    "    # сжимаем скользящее окно до тех пор, пока не останется \"k\" различных символов в char_frequency\n",
    "    while len(char_frequency) > k:\n",
    "      left_char = str1[window_start]\n",
    "      char_frequency[left_char] -= 1\n",
    "      if char_frequency[left_char] == 0:\n",
    "        del char_frequency[left_char]\n",
    "      window_start += 1  # сжимаем скользящее окно\n",
    "    # запомнить максимальную длину до сих пор\n",
    "\n",
    "    max_length = max(max_length, window_end-window_start + 1)\n",
    "    print(max_length, char_frequency)\n",
    "  return max_length\n",
    "\n",
    "s = 'aaci'\n",
    "\n",
    "print(longest_substring_with_k_distinct(s,k=2))"
   ]
  },
  {
   "cell_type": "code",
   "execution_count": 36,
   "metadata": {
    "colab": {
     "base_uri": "https://localhost:8080/"
    },
    "id": "8oTKUWdsRsAn",
    "outputId": "0c78d604-92ae-40a5-ccd5-738e921a309c"
   },
   "outputs": [
    {
     "name": "stdout",
     "output_type": "stream",
     "text": [
      "['I', 'need', 'to', 'work', 'very', 'hard', 'to', 'learn', 'more', 'about', 'algorithms', 'in', 'Python']\n",
      "[1, 4, 2, 4, 4, 4, 2, 5, 4, 5, 10, 2, 6]\n",
      "53 13\n"
     ]
    },
    {
     "data": {
      "text/plain": [
       "4.08"
      ]
     },
     "execution_count": 36,
     "metadata": {},
     "output_type": "execute_result"
    }
   ],
   "source": [
    "# Задача: Для заданного предложения вернуть среднюю длину слова.\n",
    "# Примечание: не забудьте сначала удалить знаки препинания.\n",
    "\n",
    "sentence1 = \"Hi all, my name is Tom...I am originally from Australia.\"\n",
    "sentence2 = \"I need to work very hard to learn more about algorithms in Python!\"\n",
    "\n",
    "def solution(sentence):\n",
    "    for p in \"!?',;.\":\n",
    "        sentence = sentence.replace(p, '')\n",
    "\n",
    "    words = sentence.split()\n",
    "    print(words)\n",
    "    print([len(word) for word in words])\n",
    "    print(sum([len(word) for word in words]),len(words))\n",
    "    return round(sum(len(word) for word in words)/len(words),2)\n",
    "\n",
    "solution(sentence2)"
   ]
  },
  {
   "cell_type": "code",
   "execution_count": 146,
   "metadata": {
    "colab": {
     "base_uri": "https://localhost:8080/"
    },
    "id": "XPlEUOZ1RsDp",
    "outputId": "74c4eb3b-a48b-4f00-8ebd-49be45eeef35"
   },
   "outputs": [
    {
     "data": {
      "text/plain": [
       "-4321"
      ]
     },
     "execution_count": 146,
     "metadata": {},
     "output_type": "execute_result"
    }
   ],
   "source": [
    "# Задача: Получив целое число, вернуть целое число с перевернутыми цифрами.\n",
    "# Примечание. Целое число может быть как положительным, так и отрицательным.\n",
    "\n",
    "\n",
    "def solution(x):\n",
    "    string = str(x)\n",
    "\n",
    "    if string[0] == '-':\n",
    "        return int('-'+string[:0:-1])\n",
    "    else:\n",
    "        return int(string[::-1])\n",
    "\n",
    "solution(-1234)"
   ]
  },
  {
   "cell_type": "code",
   "execution_count": 40,
   "metadata": {
    "colab": {
     "base_uri": "https://localhost:8080/"
    },
    "id": "MC3O99R6STtt",
    "outputId": "56b3cbbe-c825-4828-cd0b-6c550ba28e91"
   },
   "outputs": [
    {
     "name": "stdout",
     "output_type": "stream",
     "text": [
      "0\n"
     ]
    }
   ],
   "source": [
    "# Задача: По заданной строке найти в ней первый неповторяющийся символ и вернуть его индекс.\n",
    "# Если не существует, вернуть -1.\n",
    "# Примечание: все входные строки уже в нижнем регистре.\n",
    "\n",
    "\n",
    "def solution(s):\n",
    "    frequency = {}\n",
    "    for i in s:\n",
    "        if i not in frequency:\n",
    "            frequency[i] = 1\n",
    "        else:\n",
    "            frequency[i] +=1\n",
    "    for i in range(len(s)):\n",
    "        if frequency[s[i]] == 1:\n",
    "            return i\n",
    "    return -1\n",
    "\n",
    "s = 'abbcdderr'\n",
    "\n",
    "print(solution(s))"
   ]
  },
  {
   "cell_type": "markdown",
   "metadata": {
    "id": "exNVhGTmKVrP"
   },
   "source": [
    "**Сценарий**: Предположим, вы сотрудник, который входит в команду организаторов университетского мероприятия. Вы управляете системой регистрации мероприятия, и вам нужно управлять именами участников, проверять, что зарегистрированный студент из вашего университета, и отслеживать общее количество регистраций.\n",
    "\n",
    "Python действительно может эффективно решить эту проблему, создав набор определенных функций для каждой задачи.\n",
    "\n",
    "Вот простая реализация этого сценария:"
   ]
  },
  {
   "cell_type": "code",
   "execution_count": 67,
   "metadata": {
    "colab": {
     "base_uri": "https://localhost:8080/"
    },
    "id": "sVd40dn7KVOs",
    "outputId": "b3f2c11d-2b65-4498-fd68-0244ca663903"
   },
   "outputs": [
    {
     "name": "stdout",
     "output_type": "stream",
     "text": [
      "Студент John Doe успешно зарегистрирован.\n",
      "Студент Jane Smith не может быть зарегистрирован, так как он не из нашего университета.\n",
      "Общее количество регистраций: 1\n"
     ]
    }
   ],
   "source": [
    "# Лист для хранения имен зарегистрированных участников\n",
    "registrations = []\n",
    "\n",
    "def register_student(name, university):\n",
    "    \"\"\"\n",
    "    Функция для регистрации студента.\n",
    "    Она проверяет, принадлежит ли студент вашему университету, прежде чем зарегистрировать его.\n",
    "    \"\"\"\n",
    "    if verify_university(university):\n",
    "        registrations.append(name)\n",
    "        print(f\"Студент {name} успешно зарегистрирован.\")\n",
    "    else:\n",
    "        print(f\"Студент {name} не может быть зарегистрирован, так как он не из нашего университета.\")\n",
    "\n",
    "def verify_university(university):\n",
    "    \"\"\"\n",
    "    Функция для проверки, принадлежит ли студент вашему университету.\n",
    "    Здесь 'Innopol' - это название вашего университета.\n",
    "    \"\"\"\n",
    "    return university.lower() == 'innopol' #True False\n",
    "\n",
    "def total_registrations():\n",
    "    \"\"\"Функция для подсчета общего числа регистраций.\"\"\"\n",
    "    return len(registrations)\n",
    "\n",
    "# Пример использования этих функций:\n",
    "\n",
    "register_student('John Doe', 'Innopol')\n",
    "register_student('Jane Smith', 'Another University')\n",
    "\n",
    "print(f\"Общее количество регистраций: {total_registrations()}\")"
   ]
  },
  {
   "cell_type": "markdown",
   "metadata": {
    "id": "L3f8yjzEKqR6"
   },
   "source": [
    "**Расширенный сценарий**. Теперь представьте, что на вашем мероприятии присутствуют разные типы участников: студенты, сотрудники и гости. Всем им необходимо зарегистрироваться для участия в мероприятии, но требования к регистрации различаются для каждого типа участников. Кроме того, каждый тип участников имеет ограничение на количество регистраций.\n",
    "\n",
    "В этом случае вам нужно будет расширить свой предыдущий код, чтобы он соответствовал этим дополнительным требованиям.\n",
    "\n",
    "Вот как это сделать:"
   ]
  },
  {
   "cell_type": "code",
   "execution_count": 69,
   "metadata": {
    "colab": {
     "base_uri": "https://localhost:8080/"
    },
    "id": "XwJ4aqx6KVR0",
    "outputId": "9515afc5-bd96-4359-d54f-f7f6b863a6a5"
   },
   "outputs": [
    {
     "name": "stdout",
     "output_type": "stream",
     "text": [
      "Студент John Doe успешно зарегистрирован.\n",
      "Студент Jane Smith не может быть зарегистрирован, так как он не из нашего университета.\n",
      "Сотрудник Mary Johnson успешно зарегистрирован.\n",
      "Гость James Brown успешно зарегистрирован.\n",
      "Общее количество регистраций: [1, 1, 1]\n",
      "Количество зарегистрированных студентов: 1\n",
      "Количество зарегистрированных сотрудников: 1\n",
      "Количество зарегистрированных гостей: 1\n"
     ]
    }
   ],
   "source": [
    "# Словарь для хранения зарегистрированных участников каждого типа\n",
    "registrations = {\"students\": [], \"staff\": [], \"guests\": []}\n",
    "\n",
    "# Максимальное количество регистраций для каждого типа участника\n",
    "max_registrations = {\"students\": 200, \"staff\": 50, \"guests\": 100}\n",
    "\n",
    "def register_participant(name, participant_type, university=None):\n",
    "    \"\"\"\n",
    "    Функция для регистрации участника.\n",
    "    Она проверяет тип участника и применяет соответствующие правила регистрации.\n",
    "    \"\"\"\n",
    "    if len(registrations[participant_type]) < max_registrations[participant_type]:\n",
    "        if participant_type == \"students\":\n",
    "            register_student(name, university)\n",
    "        elif participant_type == \"staff\":\n",
    "            register_staff(name)\n",
    "        else:\n",
    "            register_guest(name)\n",
    "    else:\n",
    "        print(f\"Регистрация для {participant_type} закрыта.\")\n",
    "\n",
    "def register_student(name, university):\n",
    "    \"\"\"Функция для регистрации студента. Проверяет, принадлежит ли студент нашему университету.\"\"\"\n",
    "    if verify_university(university):\n",
    "        registrations[\"students\"].append(name)\n",
    "        print(f\"Студент {name} успешно зарегистрирован.\")\n",
    "    else:\n",
    "        print(f\"Студент {name} не может быть зарегистрирован, так как он не из нашего университета.\")\n",
    "\n",
    "def register_staff(name):\n",
    "    \"\"\"Функция для регистрации сотрудника.\"\"\"\n",
    "    registrations[\"staff\"].append(name)\n",
    "    print(f\"Сотрудник {name} успешно зарегистрирован.\")\n",
    "\n",
    "def register_guest(name):\n",
    "    \"\"\"Функция для регистрации гостя.\"\"\"\n",
    "    registrations[\"guests\"].append(name)\n",
    "    print(f\"Гость {name} успешно зарегистрирован.\")\n",
    "\n",
    "def verify_university(university):\n",
    "    \"\"\"Функция для проверки, принадлежит ли студент нашему университету.\"\"\"\n",
    "    return university.lower() == 'my university'\n",
    "\n",
    "def total_registrations():\n",
    "    \"\"\"Функция для подсчета общего числа регистраций.\"\"\"\n",
    "    total = [len(v) for v in registrations.values() if v is not None]\n",
    "    return total\n",
    "\n",
    "# Пример использования этих функций:\n",
    "\n",
    "register_participant('John Doe', 'students', 'My University')\n",
    "register_participant('Jane Smith', 'students', 'Another University')\n",
    "register_participant('Mary Johnson', 'staff')\n",
    "register_participant('James Brown', 'guests')\n",
    "\n",
    "\n",
    "print(f\"Общее количество регистраций: {total_registrations()}\")\n",
    "print(f\"Количество зарегистрированных студентов: {len(registrations['students'])}\")\n",
    "print(f\"Количество зарегистрированных сотрудников: {len(registrations['staff'])}\")\n",
    "print(f\"Количество зарегистрированных гостей: {len(registrations['guests'])}\")"
   ]
  },
  {
   "cell_type": "code",
   "execution_count": 71,
   "metadata": {
    "colab": {
     "base_uri": "https://localhost:8080/"
    },
    "id": "ee0bJxIKPQvK",
    "outputId": "59ceb6a6-b109-4c3d-ab58-87b6b1413c3a"
   },
   "outputs": [
    {
     "name": "stdout",
     "output_type": "stream",
     "text": [
      "Opened database successfully\n",
      "Table created successfully\n"
     ]
    }
   ],
   "source": [
    "#создаем базу данных и таблицу\n",
    "import sqlite3\n",
    "\n",
    "conn = sqlite3.connect('test.db')\n",
    "print(\"Opened database successfully\");\n",
    "\n",
    "conn.execute('''\n",
    "CREATE TABLE IF NOT EXISTS team_data(\n",
    "                      team text, \n",
    "                      country text, \n",
    "                      season integer, \n",
    "                      total_goals integer);''')\n",
    "\n",
    "conn.commit()\n",
    "\n",
    "print(\"Table created successfully\");\n",
    "\n",
    "#conn.close()"
   ]
  },
  {
   "cell_type": "code",
   "execution_count": 73,
   "metadata": {
    "colab": {
     "base_uri": "https://localhost:8080/",
     "height": 92
    },
    "id": "a5-4ih-ea37Z",
    "outputId": "6a830fae-3547-4c79-a112-e02844d3ff61"
   },
   "outputs": [],
   "source": [
    "conn = sqlite3.connect('test.db')\n",
    "\n",
    "conn.execute('''\n",
    "CREATE TABLE IF NOT EXISTS team_players(\n",
    "                      team text, \n",
    "                      country text, \n",
    "                      player text, \n",
    "                      goals integer);''')\n",
    "\n",
    "conn.commit()"
   ]
  },
  {
   "cell_type": "code",
   "execution_count": 75,
   "metadata": {
    "colab": {
     "base_uri": "https://localhost:8080/",
     "height": 92
    },
    "id": "0FmFgfaTbZO6",
    "outputId": "73fe1d71-822d-4456-cb75-9acb93f345cf"
   },
   "outputs": [],
   "source": [
    "# Добавляем значения\n",
    "\n",
    "conn.execute(\"INSERT INTO team_data VALUES('Real Madrid', 'Spain', 2019, 53);\")\n",
    "conn.execute(\"INSERT INTO team_data VALUES('Barcelona', 'Spain', 2019, 47);\")\n",
    "conn.execute(\"INSERT INTO team_data VALUES('Arsenal', 'UK', 2019, 52);\")\n",
    "conn.execute(\"INSERT INTO team_data VALUES('Real Madrid', 'Spain', 2018, 49);\")\n",
    "conn.execute(\"INSERT INTO team_data VALUES('Barcelona', 'Spain', 2018, 45);\")\n",
    "conn.execute(\"INSERT INTO team_data VALUES('Arsenal', 'UK', 2018, 50 );\")\n",
    "\n",
    "\n",
    "conn.execute(\"INSERT INTO team_players VALUES('Real Madrid', 'Spain', 'Huan', 10);\")\n",
    "conn.execute(\"INSERT INTO team_players VALUES('Barcelona', 'Spain', 'Honsales', 10);\")\n",
    "conn.execute(\"INSERT INTO team_players VALUES('Arsenal', 'UK', 'Bernd Leno', 5);\")\n",
    "conn.execute(\"INSERT INTO team_players VALUES('Real Madrid', 'Eder Militan', 2018, 4);\")\n",
    "conn.execute(\"INSERT INTO team_players VALUES('Barcelona', 'Spain', 'Nelsen Semedu', 4);\")\n",
    "conn.execute(\"INSERT INTO team_players VALUES('Arsenal', 'UK', 'Rob Holding', 5 );\")\n",
    "\n",
    "conn.commit()"
   ]
  },
  {
   "cell_type": "code",
   "execution_count": 77,
   "metadata": {
    "colab": {
     "base_uri": "https://localhost:8080/"
    },
    "id": "SbRfVF-IPa7y",
    "outputId": "830048e5-58a0-4759-a90c-59ac3ccba4de"
   },
   "outputs": [
    {
     "data": {
      "text/plain": [
       "[('Real Madrid', 'Spain', 'Huan', 10),\n",
       " ('Barcelona', 'Spain', 'Honsales', 10),\n",
       " ('Arsenal', 'UK', 'Bernd Leno', 5),\n",
       " ('Real Madrid', 'Eder Militan', '2018', 4),\n",
       " ('Barcelona', 'Spain', 'Nelsen Semedu', 4),\n",
       " ('Arsenal', 'UK', 'Rob Holding', 5),\n",
       " ('Real Madrid', 'Spain', 'Huan', 10),\n",
       " ('Barcelona', 'Spain', 'Honsales', 10),\n",
       " ('Arsenal', 'UK', 'Bernd Leno', 5),\n",
       " ('Real Madrid', 'Eder Militan', '2018', 4),\n",
       " ('Barcelona', 'Spain', 'Nelsen Semedu', 4),\n",
       " ('Arsenal', 'UK', 'Rob Holding', 5)]"
      ]
     },
     "execution_count": 77,
     "metadata": {},
     "output_type": "execute_result"
    }
   ],
   "source": [
    "#Представления\n",
    "\n",
    "cur = conn.execute(\"SELECT * FROM team_players;\")\n",
    "\n",
    "cur.fetchall()\n"
   ]
  },
  {
   "cell_type": "code",
   "execution_count": 79,
   "metadata": {
    "colab": {
     "base_uri": "https://localhost:8080/",
     "height": 93
    },
    "id": "raslfjbEPa6h",
    "outputId": "c7bb8ec7-cc08-4b67-cf56-32b90b7bd69a"
   },
   "outputs": [
    {
     "data": {
      "text/plain": [
       "[(53, 'Real Madrid'),\n",
       " (47, 'Barcelona'),\n",
       " (52, 'Arsenal'),\n",
       " (49, 'Real Madrid'),\n",
       " (45, 'Barcelona'),\n",
       " (53, 'Real Madrid'),\n",
       " (47, 'Barcelona'),\n",
       " (52, 'Arsenal'),\n",
       " (49, 'Real Madrid'),\n",
       " (45, 'Barcelona')]"
      ]
     },
     "execution_count": 79,
     "metadata": {},
     "output_type": "execute_result"
    }
   ],
   "source": [
    "#Выборки\n",
    "\n",
    "cur = conn.execute(\"SELECT total_goals, team FROM team_data WHERE country != 'UK' OR total_goals> 50 ;\")\n",
    "\n",
    "cur.fetchall()"
   ]
  },
  {
   "cell_type": "code",
   "execution_count": 81,
   "metadata": {
    "id": "JPaERJYrdmL_"
   },
   "outputs": [
    {
     "name": "stdout",
     "output_type": "stream",
     "text": [
      "('Arsenal', 'UK', 51.0)\n",
      "('Barcelona', 'Spain', 46.0)\n",
      "('Real Madrid', 'Spain', 51.0)\n"
     ]
    }
   ],
   "source": [
    "# Вычисляем среднее\n",
    "\n",
    "conn = sqlite3.connect('test.db')\n",
    "\n",
    "cursor = conn.execute(''' SELECT team,country,\n",
    "                            AVG(total_goals) AS avg_goals\n",
    "                          FROM team_data\n",
    "                          GROUP BY team;''')\n",
    "\n",
    "for row in cursor:\n",
    "  print(row)\n",
    "conn.close()"
   ]
  },
  {
   "cell_type": "code",
   "execution_count": 83,
   "metadata": {},
   "outputs": [
    {
     "name": "stdout",
     "output_type": "stream",
     "text": [
      "('Arsenal', 51.0)\n",
      "('Real Madrid', 51.0)\n"
     ]
    }
   ],
   "source": [
    "# Неправильный запрос\n",
    "\n",
    "conn = sqlite3.connect('test.db')\n",
    "\n",
    "cursor = conn.execute(''' SELECT team AS team_name ,\n",
    "                            AVG(total_goals) AS avg_goals\n",
    "                          FROM team_data                          \n",
    "                          GROUP BY team\n",
    "                          HAVING avg_goals > 50;''')\n",
    "\n",
    "for row in cursor:\n",
    "  print(row)\n",
    "conn.close()"
   ]
  },
  {
   "cell_type": "code",
   "execution_count": 85,
   "metadata": {},
   "outputs": [
    {
     "name": "stdout",
     "output_type": "stream",
     "text": [
      "('Arsenal', 51.0)\n",
      "('Real Madrid', 51.0)\n"
     ]
    }
   ],
   "source": [
    "# Правильный запрос\n",
    "\n",
    "conn = sqlite3.connect('test.db')\n",
    "\n",
    "cursor = conn.execute(''' SELECT team_name, avg_goals\n",
    "                          FROM (\n",
    "\n",
    "                          -- Here we make our sub-query:\n",
    "                            SELECT team AS team_name,\n",
    "                            AVG(total_goals) AS avg_goals\n",
    "                            FROM team_data\n",
    "                            GROUP BY team) tp\n",
    "                          -- End of the sub-query\n",
    "                          \n",
    "                          WHERE avg_goals > 50;''')\n",
    "\n",
    "for row in cursor:\n",
    "  print(row)\n",
    "conn.close()"
   ]
  },
  {
   "cell_type": "code",
   "execution_count": 87,
   "metadata": {},
   "outputs": [
    {
     "data": {
      "text/plain": [
       "[('Real Madrid', 'Spain', '2018', 53, 4),\n",
       " ('Real Madrid', 'Spain', '2018', 53, 4),\n",
       " ('Real Madrid', 'Spain', 'Huan', 53, 10),\n",
       " ('Real Madrid', 'Spain', 'Huan', 53, 10),\n",
       " ('Barcelona', 'Spain', 'Honsales', 47, 10),\n",
       " ('Barcelona', 'Spain', 'Honsales', 47, 10),\n",
       " ('Barcelona', 'Spain', 'Nelsen Semedu', 47, 4),\n",
       " ('Barcelona', 'Spain', 'Nelsen Semedu', 47, 4),\n",
       " ('Arsenal', 'UK', 'Bernd Leno', 52, 5),\n",
       " ('Arsenal', 'UK', 'Bernd Leno', 52, 5),\n",
       " ('Arsenal', 'UK', 'Rob Holding', 52, 5),\n",
       " ('Arsenal', 'UK', 'Rob Holding', 52, 5),\n",
       " ('Real Madrid', 'Spain', '2018', 49, 4),\n",
       " ('Real Madrid', 'Spain', '2018', 49, 4),\n",
       " ('Real Madrid', 'Spain', 'Huan', 49, 10),\n",
       " ('Real Madrid', 'Spain', 'Huan', 49, 10),\n",
       " ('Barcelona', 'Spain', 'Honsales', 45, 10),\n",
       " ('Barcelona', 'Spain', 'Honsales', 45, 10),\n",
       " ('Barcelona', 'Spain', 'Nelsen Semedu', 45, 4),\n",
       " ('Barcelona', 'Spain', 'Nelsen Semedu', 45, 4),\n",
       " ('Arsenal', 'UK', 'Bernd Leno', 50, 5),\n",
       " ('Arsenal', 'UK', 'Bernd Leno', 50, 5),\n",
       " ('Arsenal', 'UK', 'Rob Holding', 50, 5),\n",
       " ('Arsenal', 'UK', 'Rob Holding', 50, 5),\n",
       " ('Real Madrid', 'Spain', '2018', 53, 4),\n",
       " ('Real Madrid', 'Spain', '2018', 53, 4),\n",
       " ('Real Madrid', 'Spain', 'Huan', 53, 10),\n",
       " ('Real Madrid', 'Spain', 'Huan', 53, 10),\n",
       " ('Barcelona', 'Spain', 'Honsales', 47, 10),\n",
       " ('Barcelona', 'Spain', 'Honsales', 47, 10),\n",
       " ('Barcelona', 'Spain', 'Nelsen Semedu', 47, 4),\n",
       " ('Barcelona', 'Spain', 'Nelsen Semedu', 47, 4),\n",
       " ('Arsenal', 'UK', 'Bernd Leno', 52, 5),\n",
       " ('Arsenal', 'UK', 'Bernd Leno', 52, 5),\n",
       " ('Arsenal', 'UK', 'Rob Holding', 52, 5),\n",
       " ('Arsenal', 'UK', 'Rob Holding', 52, 5),\n",
       " ('Real Madrid', 'Spain', '2018', 49, 4),\n",
       " ('Real Madrid', 'Spain', '2018', 49, 4),\n",
       " ('Real Madrid', 'Spain', 'Huan', 49, 10),\n",
       " ('Real Madrid', 'Spain', 'Huan', 49, 10),\n",
       " ('Barcelona', 'Spain', 'Honsales', 45, 10),\n",
       " ('Barcelona', 'Spain', 'Honsales', 45, 10),\n",
       " ('Barcelona', 'Spain', 'Nelsen Semedu', 45, 4),\n",
       " ('Barcelona', 'Spain', 'Nelsen Semedu', 45, 4),\n",
       " ('Arsenal', 'UK', 'Bernd Leno', 50, 5),\n",
       " ('Arsenal', 'UK', 'Bernd Leno', 50, 5),\n",
       " ('Arsenal', 'UK', 'Rob Holding', 50, 5),\n",
       " ('Arsenal', 'UK', 'Rob Holding', 50, 5)]"
      ]
     },
     "execution_count": 87,
     "metadata": {},
     "output_type": "execute_result"
    }
   ],
   "source": [
    "#Joins\n",
    "\n",
    "conn = sqlite3.connect('test.db')\n",
    "\n",
    "cursor = conn.execute(''' SELECT team_data.team,team_data.country,player,total_goals, goals\n",
    "                          \n",
    "                          FROM team_data\n",
    "                          INNER JOIN team_players on team_data.team = team_players.team;''')\n",
    "\n",
    "cursor.fetchall()"
   ]
  },
  {
   "cell_type": "code",
   "execution_count": 89,
   "metadata": {},
   "outputs": [],
   "source": [
    "# Закрытие соединения\n",
    "conn.close()"
   ]
  },
  {
   "cell_type": "markdown",
   "metadata": {
    "id": "g8HxWLhZj3Xg"
   },
   "source": [
    "## Чтение данных из таблицы с помощью Pandas"
   ]
  },
  {
   "cell_type": "code",
   "execution_count": 92,
   "metadata": {
    "colab": {
     "base_uri": "https://localhost:8080/",
     "height": 442
    },
    "id": "aY1LSUFgj1h6",
    "outputId": "7d64c05d-f5b7-4fa4-e149-79066afba074"
   },
   "outputs": [
    {
     "name": "stdout",
     "output_type": "stream",
     "text": [
      "          team country    player  goals\n",
      "0  Real Madrid   Spain      Huan     10\n",
      "1    Barcelona   Spain  Honsales     10\n",
      "2  Real Madrid   Spain      Huan     10\n",
      "3    Barcelona   Spain  Honsales     10\n"
     ]
    }
   ],
   "source": [
    "import pandas as pd\n",
    "import sqlite3\n",
    "\n",
    "# Подключение к базе данных\n",
    "con = sqlite3.connect(\"test.db\")\n",
    "\n",
    "# Чтение данных из таблицы с помощью Pandas\n",
    "df = pd.read_sql_query(\"SELECT * from team_players WHERE goals > 5\", con)\n",
    "\n",
    "# Вывод данных\n",
    "print(df)\n",
    "\n",
    "# Закрытие соединения\n",
    "\n",
    "\n",
    "con.close()"
   ]
  },
  {
   "cell_type": "code",
   "execution_count": 94,
   "metadata": {
    "colab": {
     "base_uri": "https://localhost:8080/",
     "height": 112
    },
    "id": "UY4ENrqfj1zM",
    "outputId": "cb615ac3-4694-4fb5-809d-9fec1c30319d",
    "scrolled": true
   },
   "outputs": [
    {
     "data": {
      "text/html": [
       "<div>\n",
       "<style scoped>\n",
       "    .dataframe tbody tr th:only-of-type {\n",
       "        vertical-align: middle;\n",
       "    }\n",
       "\n",
       "    .dataframe tbody tr th {\n",
       "        vertical-align: top;\n",
       "    }\n",
       "\n",
       "    .dataframe thead th {\n",
       "        text-align: right;\n",
       "    }\n",
       "</style>\n",
       "<table border=\"1\" class=\"dataframe\">\n",
       "  <thead>\n",
       "    <tr style=\"text-align: right;\">\n",
       "      <th></th>\n",
       "      <th>team</th>\n",
       "      <th>country</th>\n",
       "      <th>player</th>\n",
       "      <th>goals</th>\n",
       "    </tr>\n",
       "  </thead>\n",
       "  <tbody>\n",
       "    <tr>\n",
       "      <th>0</th>\n",
       "      <td>Real Madrid</td>\n",
       "      <td>Spain</td>\n",
       "      <td>Huan</td>\n",
       "      <td>10</td>\n",
       "    </tr>\n",
       "    <tr>\n",
       "      <th>1</th>\n",
       "      <td>Barcelona</td>\n",
       "      <td>Spain</td>\n",
       "      <td>Honsales</td>\n",
       "      <td>10</td>\n",
       "    </tr>\n",
       "    <tr>\n",
       "      <th>2</th>\n",
       "      <td>Real Madrid</td>\n",
       "      <td>Spain</td>\n",
       "      <td>Huan</td>\n",
       "      <td>10</td>\n",
       "    </tr>\n",
       "    <tr>\n",
       "      <th>3</th>\n",
       "      <td>Barcelona</td>\n",
       "      <td>Spain</td>\n",
       "      <td>Honsales</td>\n",
       "      <td>10</td>\n",
       "    </tr>\n",
       "  </tbody>\n",
       "</table>\n",
       "</div>"
      ],
      "text/plain": [
       "          team country    player  goals\n",
       "0  Real Madrid   Spain      Huan     10\n",
       "1    Barcelona   Spain  Honsales     10\n",
       "2  Real Madrid   Spain      Huan     10\n",
       "3    Barcelona   Spain  Honsales     10"
      ]
     },
     "execution_count": 94,
     "metadata": {},
     "output_type": "execute_result"
    }
   ],
   "source": [
    "df.head()"
   ]
  },
  {
   "cell_type": "code",
   "execution_count": null,
   "metadata": {},
   "outputs": [],
   "source": []
  }
 ],
 "metadata": {
  "colab": {
   "provenance": []
  },
  "kernelspec": {
   "display_name": "Python [conda env:base] *",
   "language": "python",
   "name": "conda-base-py"
  },
  "language_info": {
   "codemirror_mode": {
    "name": "ipython",
    "version": 3
   },
   "file_extension": ".py",
   "mimetype": "text/x-python",
   "name": "python",
   "nbconvert_exporter": "python",
   "pygments_lexer": "ipython3",
   "version": "3.12.7"
  },
  "widgets": {
   "application/vnd.jupyter.widget-state+json": {
    "2f8c784c0f6d4b878e126e516c2b0023": {
     "model_module": "@jupyter-widgets/base",
     "model_module_version": "1.2.0",
     "model_name": "LayoutModel",
     "state": {
      "_model_module": "@jupyter-widgets/base",
      "_model_module_version": "1.2.0",
      "_model_name": "LayoutModel",
      "_view_count": null,
      "_view_module": "@jupyter-widgets/base",
      "_view_module_version": "1.2.0",
      "_view_name": "LayoutView",
      "align_content": null,
      "align_items": null,
      "align_self": null,
      "border": null,
      "bottom": null,
      "display": null,
      "flex": null,
      "flex_flow": null,
      "grid_area": null,
      "grid_auto_columns": null,
      "grid_auto_flow": null,
      "grid_auto_rows": null,
      "grid_column": null,
      "grid_gap": null,
      "grid_row": null,
      "grid_template_areas": null,
      "grid_template_columns": null,
      "grid_template_rows": null,
      "height": null,
      "justify_content": null,
      "justify_items": null,
      "left": null,
      "margin": null,
      "max_height": null,
      "max_width": null,
      "min_height": null,
      "min_width": null,
      "object_fit": null,
      "object_position": null,
      "order": null,
      "overflow": null,
      "overflow_x": null,
      "overflow_y": null,
      "padding": null,
      "right": null,
      "top": null,
      "visibility": null,
      "width": null
     }
    },
    "733a42b8e9a442f9b825db6ec01cc11c": {
     "model_module": "@jupyter-widgets/controls",
     "model_module_version": "1.5.0",
     "model_name": "ButtonStyleModel",
     "state": {
      "_model_module": "@jupyter-widgets/controls",
      "_model_module_version": "1.5.0",
      "_model_name": "ButtonStyleModel",
      "_view_count": null,
      "_view_module": "@jupyter-widgets/base",
      "_view_module_version": "1.2.0",
      "_view_name": "StyleView",
      "button_color": null,
      "font_weight": ""
     }
    },
    "90a88a1d42034a47a991fea3d904581e": {
     "model_module": "@jupyter-widgets/controls",
     "model_module_version": "1.5.0",
     "model_name": "ButtonModel",
     "state": {
      "_dom_classes": [],
      "_model_module": "@jupyter-widgets/controls",
      "_model_module_version": "1.5.0",
      "_model_name": "ButtonModel",
      "_view_count": null,
      "_view_module": "@jupyter-widgets/controls",
      "_view_module_version": "1.5.0",
      "_view_name": "ButtonView",
      "button_style": "",
      "description": "Click Me!",
      "disabled": false,
      "icon": "",
      "layout": "IPY_MODEL_d5e22d81df7d420c8eaa91d782689899",
      "style": "IPY_MODEL_733a42b8e9a442f9b825db6ec01cc11c",
      "tooltip": ""
     }
    },
    "d5e22d81df7d420c8eaa91d782689899": {
     "model_module": "@jupyter-widgets/base",
     "model_module_version": "1.2.0",
     "model_name": "LayoutModel",
     "state": {
      "_model_module": "@jupyter-widgets/base",
      "_model_module_version": "1.2.0",
      "_model_name": "LayoutModel",
      "_view_count": null,
      "_view_module": "@jupyter-widgets/base",
      "_view_module_version": "1.2.0",
      "_view_name": "LayoutView",
      "align_content": null,
      "align_items": null,
      "align_self": null,
      "border": null,
      "bottom": null,
      "display": null,
      "flex": null,
      "flex_flow": null,
      "grid_area": null,
      "grid_auto_columns": null,
      "grid_auto_flow": null,
      "grid_auto_rows": null,
      "grid_column": null,
      "grid_gap": null,
      "grid_row": null,
      "grid_template_areas": null,
      "grid_template_columns": null,
      "grid_template_rows": null,
      "height": null,
      "justify_content": null,
      "justify_items": null,
      "left": null,
      "margin": null,
      "max_height": null,
      "max_width": null,
      "min_height": null,
      "min_width": null,
      "object_fit": null,
      "object_position": null,
      "order": null,
      "overflow": null,
      "overflow_x": null,
      "overflow_y": null,
      "padding": null,
      "right": null,
      "top": null,
      "visibility": null,
      "width": null
     }
    },
    "df5624cb60d149028c78fefa03953002": {
     "model_module": "@jupyter-widgets/output",
     "model_module_version": "1.0.0",
     "model_name": "OutputModel",
     "state": {
      "_dom_classes": [],
      "_model_module": "@jupyter-widgets/output",
      "_model_module_version": "1.0.0",
      "_model_name": "OutputModel",
      "_view_count": null,
      "_view_module": "@jupyter-widgets/output",
      "_view_module_version": "1.0.0",
      "_view_name": "OutputView",
      "layout": "IPY_MODEL_2f8c784c0f6d4b878e126e516c2b0023",
      "msg_id": "",
      "outputs": [
       {
        "name": "stdout",
        "output_type": "stream",
        "text": [
         "Button clicked!\n"
        ]
       }
      ]
     }
    }
   }
  }
 },
 "nbformat": 4,
 "nbformat_minor": 4
}
