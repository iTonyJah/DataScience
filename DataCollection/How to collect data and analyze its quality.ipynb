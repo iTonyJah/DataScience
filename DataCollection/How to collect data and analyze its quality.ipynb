{
 "cells": [
  {
   "cell_type": "markdown",
   "metadata": {},
   "source": [
    "# Примеров использования базовых функции print в Jupyter Notebook:"
   ]
  },
  {
   "cell_type": "code",
   "execution_count": 70,
   "metadata": {
    "colab": {
     "base_uri": "https://localhost:8080/"
    },
    "id": "7s9RBWb7IcMV",
    "outputId": "c1635ad9-724f-482b-96dc-253476112b49"
   },
   "outputs": [
    {
     "name": "stdout",
     "output_type": "stream",
     "text": [
      "abc\n"
     ]
    }
   ],
   "source": [
    "print(\"abc\")\n",
    "\n",
    "def greet(name):\n",
    "    name = name.lower()\n",
    "    name = name[0].upper() + name[1:]\n",
    "    return \"Hello, \" + name + \"!\"\n",
    "\n",
    "sum_ = 2+1"
   ]
  },
  {
   "cell_type": "code",
   "execution_count": 71,
   "metadata": {
    "colab": {
     "base_uri": "https://localhost:8080/",
     "height": 35
    },
    "id": "inot9pOKTSTv",
    "outputId": "ae8b32dc-36d7-4c77-9bf7-a0c52485017d"
   },
   "outputs": [
    {
     "data": {
      "text/plain": [
       "'Hello, Natali!'"
      ]
     },
     "execution_count": 71,
     "metadata": {},
     "output_type": "execute_result"
    }
   ],
   "source": [
    "greet(\"naTALi\")"
   ]
  },
  {
   "cell_type": "code",
   "execution_count": 72,
   "metadata": {
    "colab": {
     "base_uri": "https://localhost:8080/"
    },
    "id": "5XueWin9H3O9",
    "outputId": "5fcd9243-82ac-43d3-8383-b895764baea6"
   },
   "outputs": [
    {
     "name": "stdout",
     "output_type": "stream",
     "text": [
      "Hello, World!\n"
     ]
    }
   ],
   "source": [
    "\n",
    "#1. Простой вывод текста:\n",
    "print(\"Hello, World!\")"
   ]
  },
  {
   "cell_type": "code",
   "execution_count": 73,
   "metadata": {
    "colab": {
     "base_uri": "https://localhost:8080/"
    },
    "id": "WYH3xA8cH8t0",
    "outputId": "caccce90-95d6-4869-ae34-72c459965245"
   },
   "outputs": [
    {
     "name": "stdout",
     "output_type": "stream",
     "text": [
      "11\n"
     ]
    }
   ],
   "source": [
    "#2. Вывод значения переменной:\n",
    "x = 11\n",
    "print(x)\n"
   ]
  },
  {
   "cell_type": "code",
   "execution_count": 74,
   "metadata": {
    "colab": {
     "base_uri": "https://localhost:8080/"
    },
    "id": "cHTln5PMIGv0",
    "outputId": "2489f4bc-a6be-474b-c105-b748318b3b9f"
   },
   "outputs": [
    {
     "name": "stdout",
     "output_type": "stream",
     "text": [
      "Name: John Age: 25\n"
     ]
    }
   ],
   "source": [
    "#3. Вывод нескольких значений:\n",
    "\n",
    "name = \"John\"\n",
    "age = 25\n",
    "print(\"Name:\", name, \"Age:\", age)\n"
   ]
  },
  {
   "cell_type": "code",
   "execution_count": 76,
   "metadata": {
    "colab": {
     "base_uri": "https://localhost:8080/"
    },
    "id": "CVZz5c48IL88",
    "outputId": "692ae003-5c73-4de0-8e21-a7fb10af7491"
   },
   "outputs": [
    {
     "name": "stdout",
     "output_type": "stream",
     "text": [
      "The value of x is 5 and the value of y is 10\n"
     ]
    }
   ],
   "source": [
    "\n",
    "#4. Форматированный вывод:\n",
    "x = 5\n",
    "y = 10\n",
    "print(\"The value of x is {} and the value of y is {}\".format(x, y))"
   ]
  },
  {
   "cell_type": "code",
   "execution_count": 77,
   "metadata": {
    "colab": {
     "base_uri": "https://localhost:8080/"
    },
    "id": "zmKdoueAIVxc",
    "outputId": "a34eb009-5f51-4193-8d94-99b59b2654df"
   },
   "outputs": [
    {
     "name": "stdout",
     "output_type": "stream",
     "text": [
      "John, Jane, Alice\n"
     ]
    }
   ],
   "source": [
    "#5. Использование разделителя:\n",
    "names = [\"John\", \"Jane\", \"Alice\"]\n",
    "print(*names, sep=\", \")\n"
   ]
  },
  {
   "cell_type": "code",
   "execution_count": 78,
   "metadata": {
    "colab": {
     "base_uri": "https://localhost:8080/"
    },
    "id": "hSfi_YMLId7m",
    "outputId": "5a8e947c-c125-4283-81e7-9cfae5e97a7b"
   },
   "outputs": [
    {
     "name": "stdout",
     "output_type": "stream",
     "text": [
      "Hello\n",
      "World\n"
     ]
    }
   ],
   "source": [
    "#6. Вывод на новой строке:\n",
    "print(\"Hello\")\n",
    "print(\"World\")"
   ]
  },
  {
   "cell_type": "code",
   "execution_count": 79,
   "metadata": {
    "colab": {
     "base_uri": "https://localhost:8080/"
    },
    "id": "qMnRGwSIImOM",
    "outputId": "4ed5e6b1-1cdf-40a6-9a1c-ff7b3d840d9d"
   },
   "outputs": [
    {
     "name": "stdout",
     "output_type": "stream",
     "text": [
      "The value of pi is 3.14\n"
     ]
    }
   ],
   "source": [
    "#7. Вывод чисел с определенным количеством знаков после запятой:\n",
    "\n",
    "pi = 3.14159265358979323846\n",
    "print(\"The value of pi is {:.2f}\".format(pi))"
   ]
  },
  {
   "cell_type": "code",
   "execution_count": 80,
   "metadata": {
    "id": "rdMyIX9IHx4e"
   },
   "outputs": [],
   "source": [
    "\n",
    "#8. Вывод в файл:\n",
    "\n",
    "with open(\"output.txt\", \"w\") as file:\n",
    "    print(\"Hello, World!\", file=file)\n",
    "\n",
    "\n",
    "#Это только некоторые примеры использования функции print в Jupyter Notebook. \n",
    "#Функция print может быть использована для вывода различных типов данных и форматирования вывода в соответствии с вашими потребностями."
   ]
  },
  {
   "cell_type": "markdown",
   "metadata": {
    "id": "hDdJ5kF8LQ3p"
   },
   "source": [
    "# Почему удобнее использовать библиотеки"
   ]
  },
  {
   "cell_type": "code",
   "execution_count": 4,
   "metadata": {},
   "outputs": [
    {
     "name": "stdout",
     "output_type": "stream",
     "text": [
      "5.0\n",
      "3.141592653589793\n"
     ]
    }
   ],
   "source": [
    "#Пример использования библиотеки math:\n",
    "\n",
    "import math\n",
    "\n",
    "# Использование функции из библиотеки math\n",
    "x = math.sqrt(25)\n",
    "print(x)\n",
    "\n",
    "# Использование константы из библиотеки math\n",
    "y = math.pi\n",
    "print(y)\n",
    "\n",
    "\n",
    "#В этом примере мы импортируем библиотеку math и используем функцию sqrt() для вычисления квадратного корня числа 25. \n",
    "#Мы также используем константу pi для вывода значения числа π.\n"
   ]
  },
  {
   "cell_type": "code",
   "execution_count": 82,
   "metadata": {},
   "outputs": [
    {
     "name": "stdout",
     "output_type": "stream",
     "text": [
      "5.0\n",
      "3.14159\n"
     ]
    }
   ],
   "source": [
    "#Пример использования без использования библиотеки в python\n",
    "# Вычисление квадратного корня без использования библиотеки\n",
    "x = 25 ** 0.5\n",
    "print(x)\n",
    "\n",
    "# Задание значения числа π без использования библиотеки\n",
    "y = 3.14159\n",
    "print(y)\n",
    "\n",
    "\n",
    "#В этом примере мы вычисляем квадратный корень числа 25 путем возведения его в степень 0.5. \n",
    "#Мы также задаем значение числа π вручную."
   ]
  },
  {
   "cell_type": "code",
   "execution_count": 1,
   "metadata": {
    "scrolled": true
   },
   "outputs": [
    {
     "name": "stdout",
     "output_type": "stream",
     "text": [
      "     Имя  Возраст            Город\n",
      "0   Анна       25           Москва\n",
      "1   Петр       30  Санкт-Петербург\n",
      "2  Мария       35           Казань\n",
      "Средний возраст: 30.0\n"
     ]
    }
   ],
   "source": [
    "#Пример использования библиотеки pandas:\n",
    "\n",
    "import pandas as pd\n",
    "\n",
    "# Создание DataFrame с помощью библиотеки pandas\n",
    "data = {'Имя': ['Анна', 'Петр', 'Мария'],\n",
    "        'Возраст': [25, 30, 35],\n",
    "        'Город': ['Москва', 'Санкт-Петербург', 'Казань']}\n",
    "df = pd.DataFrame(data)\n",
    "print(df)\n",
    "\n",
    "# Использование функций из библиотеки pandas\n",
    "mean_age = df['Возраст'].mean()\n",
    "print(\"Средний возраст:\", mean_age)\n",
    "\n",
    "\n",
    "#В этом примере мы импортируем библиотеку pandas и используем ее для создания DataFrame,\n",
    "#который представляет собой таблицу с данными. Мы также используем функцию mean() для вычисления среднего значения возраста из столбца \"Возраст\" в DataFrame."
   ]
  },
  {
   "cell_type": "code",
   "execution_count": 5,
   "metadata": {},
   "outputs": [
    {
     "name": "stdout",
     "output_type": "stream",
     "text": [
      "['Анна', 25, 'Москва']\n",
      "['Петр', 30, 'Санкт-Петербург']\n",
      "['Мария', 35, 'Казань']\n",
      "Средний возраст: 30.0\n"
     ]
    }
   ],
   "source": [
    "#Пример использования без использования библиотеки python\n",
    "# Создание списка списков для представления данных\n",
    "data = [['Анна', 25, 'Москва'],\n",
    "        ['Петр', 30, 'Санкт-Петербург'],\n",
    "        ['Мария', 35, 'Казань']]\n",
    "\n",
    "# Вывод данных в виде таблицы\n",
    "for row in data:\n",
    "    print(row)\n",
    "\n",
    "# Вычисление среднего значения возраста\n",
    "total_age = 0\n",
    "for row in data:\n",
    "    total_age += row[1]\n",
    "mean_age = total_age / len(data)\n",
    "print(\"Средний возраст:\", mean_age)\n",
    "\n",
    "\n",
    "#В этом примере мы создаем список списков, чтобы представить данные в виде таблицы. \n",
    "#Затем мы используем циклы для вывода данных в виде таблицы и вычисления среднего значения возраста путем суммирования всех возрастов и деления на количество записей в таблице."
   ]
  },
  {
   "cell_type": "markdown",
   "metadata": {
    "id": "SQACTgrwIzQ7"
   },
   "source": [
    "**Кейс**: ДВы работаете над задачей по обработке данных. Вам нужно выполнить несколько сложных математических операций, а также отфильтровать, агрегировать и визуализировать данные. Вместо того, чтобы писать все эти функции самостоятельно, вы можете использовать пакет Python, такой как **math** или **numpy**. Эти пакеты содержат готовые математические функции.  Они предоставляют функции для выполнения математических операций, таких как сложение, вычитание, умножение и деление, а также функции для работы с массивами чисел\n",
    "\n",
    "Вот пример использования функции из пакета:"
   ]
  },
  {
   "cell_type": "code",
   "execution_count": 2,
   "metadata": {
    "colab": {
     "base_uri": "https://localhost:8080/"
    },
    "id": "dBwJvkL7Ic3W",
    "outputId": "993894b0-f725-4a03-8f5e-a41e34ac408f"
   },
   "outputs": [
    {
     "name": "stdout",
     "output_type": "stream",
     "text": [
      "11.180339887498949\n"
     ]
    }
   ],
   "source": [
    "#Функция math.sqrt() возвращает квадратный корень числа. \n",
    "#Например, если мы хотим найти квадратный корень числа 125, мы можем использовать следующий код:\n",
    "\n",
    "import math\n",
    "\n",
    "result = math.sqrt(125)\n",
    "print(result) #Вывод будет равен 11,2 так как квадратный корень числа 125 равен 11.2"
   ]
  },
  {
   "cell_type": "code",
   "execution_count": 7,
   "metadata": {
    "colab": {
     "base_uri": "https://localhost:8080/"
    },
    "id": "w5Y-qvmKIc62",
    "outputId": "e48e2555-e462-4305-f5b4-474798af22e2"
   },
   "outputs": [
    {
     "name": "stdout",
     "output_type": "stream",
     "text": [
      "4.0\n"
     ]
    }
   ],
   "source": [
    "import math\n",
    "\n",
    "# Вычисляем квадратный корень числа\n",
    "sqrt_result = math.sqrt(16)\n",
    "print(sqrt_result)  # вывод: 4.0"
   ]
  },
  {
   "cell_type": "code",
   "execution_count": 8,
   "metadata": {
    "colab": {
     "base_uri": "https://localhost:8080/"
    },
    "id": "-bd_OX2-Ic9N",
    "outputId": "a1670477-5d36-4270-8505-844221e0369c"
   },
   "outputs": [
    {
     "name": "stdout",
     "output_type": "stream",
     "text": [
      "2025-05-26 21:22:43.820624\n"
     ]
    }
   ],
   "source": [
    "import datetime\n",
    "\n",
    "# Получаем текущую дату и время\n",
    "current_datetime = datetime.datetime.now()\n",
    "print(current_datetime)"
   ]
  },
  {
   "cell_type": "code",
   "execution_count": 87,
   "metadata": {},
   "outputs": [
    {
     "name": "stdout",
     "output_type": "stream",
     "text": [
      "Количество дней между 2023-01-01 и 2023-12-31 равно 364\n"
     ]
    }
   ],
   "source": [
    "import datetime\n",
    "\n",
    "# Вычисление количества дней между двумя датами\n",
    "date1 = datetime.date(2023, 1, 1) # 01-01-2023\n",
    "date2 = datetime.date(2023, 12, 31) #31-12-2023\n",
    "\n",
    "diff = date2 - date1\n",
    "print(f\"Количество дней между {date1} и {date2} равно {diff.days}\")"
   ]
  },
  {
   "cell_type": "code",
   "execution_count": 9,
   "metadata": {
    "colab": {
     "base_uri": "https://localhost:8080/"
    },
    "id": "xTq5ChIFJOd3",
    "outputId": "e64577be-3881-457b-cdc6-dd257a2a262c"
   },
   "outputs": [
    {
     "name": "stdout",
     "output_type": "stream",
     "text": [
      "3\n"
     ]
    }
   ],
   "source": [
    "import random\n",
    "\n",
    "# random.randint() - это функция из модуля random, которая возвращает случайное целое число в заданном диапазоне. Например, если мы хотим получить случайное целое число от 10 до 100, мы можем использовать следующий код/\n",
    "#Генерируем случайное число от 1 до 10\n",
    "random_number = random.randint(1, 5)\n",
    "print(random_number)"
   ]
  },
  {
   "cell_type": "code",
   "execution_count": 11,
   "metadata": {},
   "outputs": [
    {
     "name": "stdout",
     "output_type": "stream",
     "text": [
      "Случайное имя из списка: Сергей\n"
     ]
    }
   ],
   "source": [
    "import random\n",
    "\n",
    "# Выбор случайного элемента из списка\n",
    "names = [\"Алекс\", \"Борис\", \"Сергей\", \"Дмитрий\", \"Анна\"]\n",
    "random_choice = random.choice(names)\n",
    "\n",
    "print(f\"Случайное имя из списка: {random_choice}\")"
   ]
  },
  {
   "cell_type": "code",
   "execution_count": 3,
   "metadata": {
    "colab": {
     "base_uri": "https://localhost:8080/"
    },
    "id": "VV_5kKQFJOhn",
    "outputId": "7a5b57b8-bc2e-4fa2-cf4a-ef53d72002cf"
   },
   "outputs": [
    {
     "name": "stdout",
     "output_type": "stream",
     "text": [
      "[0 1 2 3 4]\n"
     ]
    }
   ],
   "source": [
    "import numpy as np\n",
    "#np.arange() - это функция из модуля numpy, которая создает одномерный массив, содержащий числа в заданном диапазоне.\n",
    "# Создаем одномерный массив с числами от 0 до 4\n",
    "array = np.arange(5)\n",
    "print(array)  # вывод: [0 1 2 3 4]"
   ]
  },
  {
   "cell_type": "code",
   "execution_count": 14,
   "metadata": {
    "scrolled": true
   },
   "outputs": [
    {
     "name": "stdout",
     "output_type": "stream",
     "text": [
      "Результат умножения двух матриц:\n",
      "[[19 22]\n",
      " [43 50]]\n"
     ]
    }
   ],
   "source": [
    "import numpy as np\n",
    "\n",
    "# Умножение двух матриц\n",
    "# [1, 2\n",
    "#  3, 4]\n",
    "\n",
    "# [5, 6\n",
    "#  7, 8]\n",
    "matrix1 = np.array([[1, 2], [3, 4]])\n",
    "matrix2 = np.array([[5, 6], [7, 8]])\n",
    "\n",
    "result = np.dot(matrix1, matrix2)\n",
    "print(f\"Результат умножения двух матриц:\\n{result}\")"
   ]
  },
  {
   "cell_type": "code",
   "execution_count": 4,
   "metadata": {
    "colab": {
     "base_uri": "https://localhost:8080/",
     "height": 143
    },
    "id": "Ghf2tyhXJOkP",
    "outputId": "6fa8b801-d571-46ac-cfbd-76f62cdade96"
   },
   "outputs": [
    {
     "data": {
      "application/vnd.microsoft.datawrangler.viewer.v0+json": {
       "columns": [
        {
         "name": "index",
         "rawType": "int64",
         "type": "integer"
        },
        {
         "name": "Имя",
         "rawType": "object",
         "type": "string"
        },
        {
         "name": "Возраст",
         "rawType": "int64",
         "type": "integer"
        }
       ],
       "ref": "13d0adcf-4d50-4864-9f10-68b133a1c8fd",
       "rows": [
        [
         "0",
         "Алекс",
         "25"
        ],
        [
         "1",
         "Борис",
         "30"
        ],
        [
         "2",
         "Сергей",
         "35"
        ]
       ],
       "shape": {
        "columns": 2,
        "rows": 3
       }
      },
      "text/html": [
       "<div>\n",
       "<style scoped>\n",
       "    .dataframe tbody tr th:only-of-type {\n",
       "        vertical-align: middle;\n",
       "    }\n",
       "\n",
       "    .dataframe tbody tr th {\n",
       "        vertical-align: top;\n",
       "    }\n",
       "\n",
       "    .dataframe thead th {\n",
       "        text-align: right;\n",
       "    }\n",
       "</style>\n",
       "<table border=\"1\" class=\"dataframe\">\n",
       "  <thead>\n",
       "    <tr style=\"text-align: right;\">\n",
       "      <th></th>\n",
       "      <th>Имя</th>\n",
       "      <th>Возраст</th>\n",
       "    </tr>\n",
       "  </thead>\n",
       "  <tbody>\n",
       "    <tr>\n",
       "      <th>0</th>\n",
       "      <td>Алекс</td>\n",
       "      <td>25</td>\n",
       "    </tr>\n",
       "    <tr>\n",
       "      <th>1</th>\n",
       "      <td>Борис</td>\n",
       "      <td>30</td>\n",
       "    </tr>\n",
       "    <tr>\n",
       "      <th>2</th>\n",
       "      <td>Сергей</td>\n",
       "      <td>35</td>\n",
       "    </tr>\n",
       "  </tbody>\n",
       "</table>\n",
       "</div>"
      ],
      "text/plain": [
       "      Имя  Возраст\n",
       "0   Алекс       25\n",
       "1   Борис       30\n",
       "2  Сергей       35"
      ]
     },
     "execution_count": 4,
     "metadata": {},
     "output_type": "execute_result"
    }
   ],
   "source": [
    "import pandas as pd\n",
    "#pd.DataFrame - это функция из модуля pandas, которая создает двумерную таблицу данных, называемую DataFrame.\n",
    "#DataFrame представляет собой структуру данных, которая состоит из строк и столбцов, и позволяет хранить и обрабатывать данные в табличной форме.\n",
    "# Создаем DataFrame состоящий из двух столбцов - имя и возраст\n",
    "data = {\n",
    "    'Имя': ['Алекс', 'Борис', 'Сергей'],\n",
    "    'Возраст': [25, 30, 35]\n",
    "}\n",
    "df = pd.DataFrame(data)\n",
    "\n",
    "df"
   ]
  },
  {
   "cell_type": "code",
   "execution_count": 5,
   "metadata": {
    "colab": {
     "base_uri": "https://localhost:8080/",
     "height": 3854
    },
    "id": "PJ5TU53h8UXE",
    "outputId": "cff7e2fd-6ae3-4ee9-fc46-638a767c49b2"
   },
   "outputs": [
    {
     "data": {
      "application/vnd.microsoft.datawrangler.viewer.v0+json": {
       "columns": [
        {
         "name": "index",
         "rawType": "int64",
         "type": "integer"
        },
        {
         "name": "Имя",
         "rawType": "object",
         "type": "string"
        },
        {
         "name": "Возраст",
         "rawType": "int64",
         "type": "integer"
        },
        {
         "name": "Средний балл",
         "rawType": "int64",
         "type": "integer"
        }
       ],
       "ref": "7334f2ab-f988-42a9-839c-3e72043020c6",
       "rows": [
        [
         "0",
         "ООО Ромашка",
         "20",
         "10000"
        ],
        [
         "1",
         "ООО АВТО",
         "22",
         "15000"
        ],
        [
         "2",
         "ООО Грифон",
         "21",
         "40000"
        ]
       ],
       "shape": {
        "columns": 3,
        "rows": 3
       }
      },
      "text/html": [
       "<div>\n",
       "<style scoped>\n",
       "    .dataframe tbody tr th:only-of-type {\n",
       "        vertical-align: middle;\n",
       "    }\n",
       "\n",
       "    .dataframe tbody tr th {\n",
       "        vertical-align: top;\n",
       "    }\n",
       "\n",
       "    .dataframe thead th {\n",
       "        text-align: right;\n",
       "    }\n",
       "</style>\n",
       "<table border=\"1\" class=\"dataframe\">\n",
       "  <thead>\n",
       "    <tr style=\"text-align: right;\">\n",
       "      <th></th>\n",
       "      <th>Имя</th>\n",
       "      <th>Возраст</th>\n",
       "      <th>Средний балл</th>\n",
       "    </tr>\n",
       "  </thead>\n",
       "  <tbody>\n",
       "    <tr>\n",
       "      <th>0</th>\n",
       "      <td>ООО Ромашка</td>\n",
       "      <td>20</td>\n",
       "      <td>10000</td>\n",
       "    </tr>\n",
       "    <tr>\n",
       "      <th>1</th>\n",
       "      <td>ООО АВТО</td>\n",
       "      <td>22</td>\n",
       "      <td>15000</td>\n",
       "    </tr>\n",
       "    <tr>\n",
       "      <th>2</th>\n",
       "      <td>ООО Грифон</td>\n",
       "      <td>21</td>\n",
       "      <td>40000</td>\n",
       "    </tr>\n",
       "  </tbody>\n",
       "</table>\n",
       "</div>"
      ],
      "text/plain": [
       "           Имя  Возраст  Средний балл\n",
       "0  ООО Ромашка       20         10000\n",
       "1     ООО АВТО       22         15000\n",
       "2   ООО Грифон       21         40000"
      ]
     },
     "execution_count": 5,
     "metadata": {},
     "output_type": "execute_result"
    }
   ],
   "source": [
    "#Например, если у нас есть данные о клиентах комании, включающие их название компании, количество и сумму продаж, мы можем использовать pd.DataFrame для создания таблицы:\n",
    "\n",
    "import pandas as pd\n",
    "\n",
    "data = {'Имя': ['ООО Ромашка', 'ООО АВТО', 'ООО Грифон'],\n",
    "        'Возраст': [20, 22, 21],\n",
    "        'Средний балл': [10000, 15000, 40000]}\n",
    "\n",
    "df = pd.DataFrame(data)\n",
    "df\n"
   ]
  },
  {
   "cell_type": "code",
   "execution_count": 6,
   "metadata": {},
   "outputs": [
    {
     "data": {
      "application/vnd.microsoft.datawrangler.viewer.v0+json": {
       "columns": [
        {
         "name": "Город",
         "rawType": "object",
         "type": "string"
        },
        {
         "name": "Температура",
         "rawType": "float64",
         "type": "float"
        },
        {
         "name": "Влажность",
         "rawType": "float64",
         "type": "float"
        }
       ],
       "ref": "331c8718-ee31-4c0f-a627-de8b1a0eb198",
       "rows": [
        [
         "Москва",
         "20.333333333333332",
         "32.666666666666664"
        ],
        [
         "Санкт-Петербург",
         "19.0",
         "37.666666666666664"
        ]
       ],
       "shape": {
        "columns": 2,
        "rows": 2
       }
      },
      "text/html": [
       "<div>\n",
       "<style scoped>\n",
       "    .dataframe tbody tr th:only-of-type {\n",
       "        vertical-align: middle;\n",
       "    }\n",
       "\n",
       "    .dataframe tbody tr th {\n",
       "        vertical-align: top;\n",
       "    }\n",
       "\n",
       "    .dataframe thead th {\n",
       "        text-align: right;\n",
       "    }\n",
       "</style>\n",
       "<table border=\"1\" class=\"dataframe\">\n",
       "  <thead>\n",
       "    <tr style=\"text-align: right;\">\n",
       "      <th></th>\n",
       "      <th>Температура</th>\n",
       "      <th>Влажность</th>\n",
       "    </tr>\n",
       "    <tr>\n",
       "      <th>Город</th>\n",
       "      <th></th>\n",
       "      <th></th>\n",
       "    </tr>\n",
       "  </thead>\n",
       "  <tbody>\n",
       "    <tr>\n",
       "      <th>Москва</th>\n",
       "      <td>20.333333</td>\n",
       "      <td>32.666667</td>\n",
       "    </tr>\n",
       "    <tr>\n",
       "      <th>Санкт-Петербург</th>\n",
       "      <td>19.000000</td>\n",
       "      <td>37.666667</td>\n",
       "    </tr>\n",
       "  </tbody>\n",
       "</table>\n",
       "</div>"
      ],
      "text/plain": [
       "                 Температура  Влажность\n",
       "Город                                  \n",
       "Москва             20.333333  32.666667\n",
       "Санкт-Петербург    19.000000  37.666667"
      ]
     },
     "execution_count": 6,
     "metadata": {},
     "output_type": "execute_result"
    }
   ],
   "source": [
    "import pandas as pd\n",
    "\n",
    "# Группировка данных в DataFrame\n",
    "data = {\n",
    "    'Город': ['Москва', 'Москва', 'Санкт-Петербург', 'Москва', 'Санкт-Петербург', 'Санкт-Петербург'],\n",
    "    'Температура': [19, 22, 17, 20, 19, 21], # 19, 22,  20\n",
    "    'Влажность': [30, 35, 40, 33, 38, 35]\n",
    "}\n",
    "\n",
    "df = pd.DataFrame(data)\n",
    "\n",
    "# Средняя температура и влажность по городам\n",
    "mean_values = df.groupby('Город').mean()\n",
    "\n",
    "mean_values"
   ]
  },
  {
   "cell_type": "code",
   "execution_count": 7,
   "metadata": {},
   "outputs": [
    {
     "data": {
      "application/vnd.microsoft.datawrangler.viewer.v0+json": {
       "columns": [
        {
         "name": "index",
         "rawType": "int64",
         "type": "integer"
        },
        {
         "name": "Город",
         "rawType": "object",
         "type": "string"
        },
        {
         "name": "Температура",
         "rawType": "int64",
         "type": "integer"
        },
        {
         "name": "Влажность",
         "rawType": "int64",
         "type": "integer"
        }
       ],
       "ref": "7f1607ac-01af-49da-aec8-da409d57c0d7",
       "rows": [
        [
         "0",
         "Москва",
         "19",
         "30"
        ],
        [
         "1",
         "Москва",
         "22",
         "35"
        ],
        [
         "2",
         "Санкт-Петербург",
         "17",
         "40"
        ],
        [
         "3",
         "Москва",
         "20",
         "33"
        ],
        [
         "4",
         "Санкт-Петербург",
         "19",
         "38"
        ],
        [
         "5",
         "Санкт-Петербург",
         "21",
         "35"
        ]
       ],
       "shape": {
        "columns": 3,
        "rows": 6
       }
      },
      "text/html": [
       "<div>\n",
       "<style scoped>\n",
       "    .dataframe tbody tr th:only-of-type {\n",
       "        vertical-align: middle;\n",
       "    }\n",
       "\n",
       "    .dataframe tbody tr th {\n",
       "        vertical-align: top;\n",
       "    }\n",
       "\n",
       "    .dataframe thead th {\n",
       "        text-align: right;\n",
       "    }\n",
       "</style>\n",
       "<table border=\"1\" class=\"dataframe\">\n",
       "  <thead>\n",
       "    <tr style=\"text-align: right;\">\n",
       "      <th></th>\n",
       "      <th>Город</th>\n",
       "      <th>Температура</th>\n",
       "      <th>Влажность</th>\n",
       "    </tr>\n",
       "  </thead>\n",
       "  <tbody>\n",
       "    <tr>\n",
       "      <th>0</th>\n",
       "      <td>Москва</td>\n",
       "      <td>19</td>\n",
       "      <td>30</td>\n",
       "    </tr>\n",
       "    <tr>\n",
       "      <th>1</th>\n",
       "      <td>Москва</td>\n",
       "      <td>22</td>\n",
       "      <td>35</td>\n",
       "    </tr>\n",
       "    <tr>\n",
       "      <th>2</th>\n",
       "      <td>Санкт-Петербург</td>\n",
       "      <td>17</td>\n",
       "      <td>40</td>\n",
       "    </tr>\n",
       "    <tr>\n",
       "      <th>3</th>\n",
       "      <td>Москва</td>\n",
       "      <td>20</td>\n",
       "      <td>33</td>\n",
       "    </tr>\n",
       "    <tr>\n",
       "      <th>4</th>\n",
       "      <td>Санкт-Петербург</td>\n",
       "      <td>19</td>\n",
       "      <td>38</td>\n",
       "    </tr>\n",
       "    <tr>\n",
       "      <th>5</th>\n",
       "      <td>Санкт-Петербург</td>\n",
       "      <td>21</td>\n",
       "      <td>35</td>\n",
       "    </tr>\n",
       "  </tbody>\n",
       "</table>\n",
       "</div>"
      ],
      "text/plain": [
       "             Город  Температура  Влажность\n",
       "0           Москва           19         30\n",
       "1           Москва           22         35\n",
       "2  Санкт-Петербург           17         40\n",
       "3           Москва           20         33\n",
       "4  Санкт-Петербург           19         38\n",
       "5  Санкт-Петербург           21         35"
      ]
     },
     "execution_count": 7,
     "metadata": {},
     "output_type": "execute_result"
    }
   ],
   "source": [
    "df"
   ]
  },
  {
   "cell_type": "code",
   "execution_count": 8,
   "metadata": {
    "colab": {
     "base_uri": "https://localhost:8080/",
     "height": 430
    },
    "id": "aS51HBL6JZkP",
    "outputId": "597ba670-c4ba-4e70-9487-86e277ad1516"
   },
   "outputs": [
    {
     "data": {
      "image/png": "[encoded data removed]",
      "text/plain": [
       "<Figure size 640x480 with 1 Axes>"
      ]
     },
     "metadata": {},
     "output_type": "display_data"
    }
   ],
   "source": [
    "import matplotlib.pyplot as plt\n",
    "#matplotlib.pyplot - это модуль из библиотеки matplotlib, который предоставляет функции для создания графиков и визуализации данных. Он обычно используется вместе с pandas для визуализации данных из DataFrame.\n",
    "\n",
    "# Создаем простую линейную диаграмму\n",
    "x = [1, 2, 3, 4, 5]\n",
    "y = [1, 4, 9, 16, 25]\n",
    "\n",
    "plt.plot(x, y)\n",
    "plt.show()  # показываем диаграмму"
   ]
  },
  {
   "cell_type": "code",
   "execution_count": 2,
   "metadata": {
    "scrolled": true
   },
   "outputs": [
    {
     "data": {
      "image/png": "[encoded data removed]",
      "text/plain": [
       "<Figure size 640x480 with 1 Axes>"
      ]
     },
     "metadata": {},
     "output_type": "display_data"
    }
   ],
   "source": [
    "import matplotlib.pyplot as plt\n",
    "import numpy as np\n",
    "\n",
    "# Создание графика функции синуса\n",
    "x = np.linspace(0, 10, 100)\n",
    "y = np.sin(x)\n",
    "\n",
    "plt.plot(x, y)\n",
    "plt.xlabel('X')\n",
    "plt.ylabel('sin(x)')\n",
    "plt.title('График функции sin(x)')\n",
    "plt.grid(True)\n",
    "plt.show()\n",
    "\n"
   ]
  },
  {
   "cell_type": "code",
   "execution_count": 3,
   "metadata": {},
   "outputs": [
    {
     "data": {
      "image/png": "[encoded data removed]",
      "text/plain": [
       "<Figure size 640x480 with 1 Axes>"
      ]
     },
     "metadata": {},
     "output_type": "display_data"
    }
   ],
   "source": [
    "plt.plot(x, y)\n",
    "#plt.xlabel('X')\n",
    "#plt.ylabel('sin(x)')\n",
    "#plt.title('График функции sin(x)')\n",
    "plt.grid(True)\n",
    "plt.show()\n"
   ]
  },
  {
   "cell_type": "code",
   "execution_count": 9,
   "metadata": {
    "colab": {
     "base_uri": "https://localhost:8080/",
     "height": 472
    },
    "id": "-x1lYHM39eiS",
    "outputId": "80f5311d-7741-4e7c-fc3c-f3f4cceba773"
   },
   "outputs": [
    {
     "data": {
      "image/png": "[encoded data removed]",
      "text/plain": [
       "<Figure size 640x480 with 1 Axes>"
      ]
     },
     "metadata": {},
     "output_type": "display_data"
    }
   ],
   "source": [
    "#Вы можете использовать matplotlib.pyplot, чтобы создать график среднего чека покупателей:\n",
    "\n",
    "import pandas as pd\n",
    "import matplotlib.pyplot as plt\n",
    "\n",
    "data = {'Имя': ['Анна', 'Петр', 'Мария'],\n",
    "        'Возраст': [20, 22, 21],\n",
    "        'Средний чек': [4500, 4200, 4800]}\n",
    "\n",
    "df = pd.DataFrame(data)\n",
    "\n",
    "plt.plot(df['Имя'], df['Средний чек'])\n",
    "plt.xlabel('Имя')\n",
    "plt.ylabel('Средний чек')\n",
    "plt.title('Средний чек покупателей')\n",
    "plt.show()\n",
    "\n",
    "#Этот код создаст график среднего балла студентов, где по оси X будут имена студентов, а по оси Y - их средний балл.\n"
   ]
  },
  {
   "cell_type": "code",
   "execution_count": 6,
   "metadata": {},
   "outputs": [
    {
     "data": {
      "application/vnd.microsoft.datawrangler.viewer.v0+json": {
       "columns": [
        {
         "name": "index",
         "rawType": "int64",
         "type": "integer"
        },
        {
         "name": "Имя",
         "rawType": "object",
         "type": "string"
        },
        {
         "name": "Возраст",
         "rawType": "int64",
         "type": "integer"
        },
        {
         "name": "Средний чек",
         "rawType": "int64",
         "type": "integer"
        }
       ],
       "ref": "dfac4e53-fb3e-449c-8d22-ef9e54bb66db",
       "rows": [
        [
         "0",
         "Анна",
         "20",
         "4500"
        ],
        [
         "1",
         "Петр",
         "22",
         "4200"
        ],
        [
         "2",
         "Мария",
         "21",
         "4800"
        ]
       ],
       "shape": {
        "columns": 3,
        "rows": 3
       }
      },
      "text/html": [
       "<div>\n",
       "<style scoped>\n",
       "    .dataframe tbody tr th:only-of-type {\n",
       "        vertical-align: middle;\n",
       "    }\n",
       "\n",
       "    .dataframe tbody tr th {\n",
       "        vertical-align: top;\n",
       "    }\n",
       "\n",
       "    .dataframe thead th {\n",
       "        text-align: right;\n",
       "    }\n",
       "</style>\n",
       "<table border=\"1\" class=\"dataframe\">\n",
       "  <thead>\n",
       "    <tr style=\"text-align: right;\">\n",
       "      <th></th>\n",
       "      <th>Имя</th>\n",
       "      <th>Возраст</th>\n",
       "      <th>Средний чек</th>\n",
       "    </tr>\n",
       "  </thead>\n",
       "  <tbody>\n",
       "    <tr>\n",
       "      <th>0</th>\n",
       "      <td>Анна</td>\n",
       "      <td>20</td>\n",
       "      <td>4500</td>\n",
       "    </tr>\n",
       "    <tr>\n",
       "      <th>1</th>\n",
       "      <td>Петр</td>\n",
       "      <td>22</td>\n",
       "      <td>4200</td>\n",
       "    </tr>\n",
       "    <tr>\n",
       "      <th>2</th>\n",
       "      <td>Мария</td>\n",
       "      <td>21</td>\n",
       "      <td>4800</td>\n",
       "    </tr>\n",
       "  </tbody>\n",
       "</table>\n",
       "</div>"
      ],
      "text/plain": [
       "     Имя  Возраст  Средний чек\n",
       "0   Анна       20         4500\n",
       "1   Петр       22         4200\n",
       "2  Мария       21         4800"
      ]
     },
     "execution_count": 6,
     "metadata": {},
     "output_type": "execute_result"
    }
   ],
   "source": [
    "df"
   ]
  },
  {
   "cell_type": "code",
   "execution_count": 7,
   "metadata": {
    "colab": {
     "base_uri": "https://localhost:8080/",
     "height": 1000
    },
    "id": "4yLrsCXk-gmR",
    "outputId": "b82ddddc-1743-48d0-9ded-71e26cd5ddf9"
   },
   "outputs": [
    {
     "data": {
      "image/png": "[encoded data removed]",
      "text/plain": [
       "<Figure size 640x480 with 1 Axes>"
      ]
     },
     "metadata": {},
     "output_type": "display_data"
    },
    {
     "data": {
      "image/png": "[encoded data removed]",
      "text/plain": [
       "<Figure size 640x480 with 1 Axes>"
      ]
     },
     "metadata": {},
     "output_type": "display_data"
    },
    {
     "data": {
      "image/png": "[encoded data removed]",
      "text/plain": [
       "<Figure size 640x480 with 1 Axes>"
      ]
     },
     "metadata": {},
     "output_type": "display_data"
    }
   ],
   "source": [
    "# Пример 1: График распределения возраста покупателей\n",
    "data = {'Имя': ['Анна', 'Петр', 'Мария'],\n",
    "        'Возраст': [20, 22, 21],\n",
    "        'Средний чек': [4500, 4200, 4800]}\n",
    "\n",
    "df = pd.DataFrame(data)\n",
    "\n",
    "plt.bar(df['Имя'], df['Возраст'])\n",
    "plt.xlabel('Имя')\n",
    "plt.ylabel('Возраст')\n",
    "plt.title('Распределение возраста покупателей')\n",
    "plt.show()\n",
    "\n",
    "# Пример 2: График сравнения среднего чек покупателей\n",
    "plt.bar(df['Имя'], df['Средний чек'])\n",
    "plt.xlabel('Имя')\n",
    "plt.ylabel('Средний чек')\n",
    "plt.title('Сравнение среднего чек покупателей')\n",
    "plt.show()\n",
    "\n",
    "# Пример 3: График среднего чека покупателей с разными цветами для каждого студента\n",
    "colors = ['blue', 'green', 'red']\n",
    "plt.bar(df['Имя'], df['Средний чек'], color=colors)\n",
    "plt.xlabel('Имя')\n",
    "plt.ylabel('Средний чек')\n",
    "plt.title('Средний чек покупателей')\n",
    "plt.show()"
   ]
  },
  {
   "cell_type": "code",
   "execution_count": 8,
   "metadata": {
    "colab": {
     "base_uri": "https://localhost:8080/",
     "height": 1000
    },
    "id": "TUxMilID-RBk",
    "outputId": "80057f08-00bb-44bd-b5da-c7616c499067"
   },
   "outputs": [
    {
     "data": {
      "image/png": "[encoded data removed]",
      "text/plain": [
       "<Figure size 640x480 with 1 Axes>"
      ]
     },
     "metadata": {},
     "output_type": "display_data"
    },
    {
     "data": {
      "image/png": "[encoded data removed]",
      "text/plain": [
       "<Figure size 640x480 with 1 Axes>"
      ]
     },
     "metadata": {},
     "output_type": "display_data"
    },
    {
     "data": {
      "image/png": "[encoded data removed]",
      "text/plain": [
       "<Figure size 640x480 with 1 Axes>"
      ]
     },
     "metadata": {},
     "output_type": "display_data"
    }
   ],
   "source": [
    "#пример визуализации данных о продажах с использованием библиотеки matplotlib.pyplot:\n",
    "\n",
    "import pandas as pd\n",
    "import matplotlib.pyplot as plt\n",
    "\n",
    "# Создание DataFrame с данными о продажах\n",
    "data = {'Месяц': ['Январь', 'Февраль', 'Март', 'Апрель', 'Май'],\n",
    "        'Продажи': [10000, 15000, 12000, 18000, 20000]}\n",
    "\n",
    "df = pd.DataFrame(data)\n",
    "\n",
    "# График продаж по месяцам\n",
    "plt.plot(df['Месяц'], df['Продажи'])\n",
    "plt.xlabel('Месяц')\n",
    "plt.ylabel('Продажи')\n",
    "plt.title('Динамика продаж')\n",
    "plt.show()\n",
    "\n",
    "# График столбцов суммарных продаж по месяцам\n",
    "plt.bar(df['Месяц'], df['Продажи'])\n",
    "plt.xlabel('Месяц')\n",
    "plt.ylabel('Продажи')\n",
    "plt.title('Суммарные продажи по месяцам')\n",
    "plt.show()\n",
    "\n",
    "# Круговая диаграмма доли продаж каждого месяца\n",
    "plt.pie(df['Продажи'], labels=df['Месяц'], autopct='%1.1f%%')\n",
    "plt.title('Доля продаж по месяцам')\n",
    "plt.show()\n",
    "\n",
    "#Это всего лишь несколько примеров того, как можно визуализировать данные о продажах с помощью библиотеки matplotlib.pyplot.\n",
    "#Вы можете настроить графики по своему усмотрению, добавлять дополнительные элементы и изменять цвета, чтобы адаптировать их под ваши нужды."
   ]
  },
  {
   "cell_type": "code",
   "execution_count": 9,
   "metadata": {
    "scrolled": true
   },
   "outputs": [
    {
     "data": {
      "image/png": "[encoded data removed]",
      "text/plain": [
       "<Figure size 640x480 with 2 Axes>"
      ]
     },
     "metadata": {},
     "output_type": "display_data"
    }
   ],
   "source": [
    "#Пример использования библиотеки matplotlib для создания сложных графиков в Python:\n",
    "\n",
    "import matplotlib.pyplot as plt\n",
    "import numpy as np\n",
    "\n",
    "# Создание данных для графика\n",
    "x = np.linspace(0, 10, 100)\n",
    "y1 = np.sin(x)\n",
    "y2 = np.cos(x)\n",
    "\n",
    "# Создание сложного графика с несколькими подграфиками\n",
    "fig, (ax1, ax2) = plt.subplots(2, 1, sharex=True)\n",
    "\n",
    "# Настройка первого подграфика\n",
    "ax1.plot(x, y1, 'r-', label='sin(x)')\n",
    "ax1.set_ylabel('Значение')\n",
    "ax1.legend()\n",
    "\n",
    "# Настройка второго подграфика\n",
    "ax2.plot(x, y2, 'b-', label='cos(x)')\n",
    "ax2.set_xlabel('x')\n",
    "ax2.set_ylabel('Значение')\n",
    "ax2.legend()\n",
    "\n",
    "# Отображение графика\n",
    "plt.show()\n",
    "\n",
    "\n",
    "#В этом примере мы используем библиотеку matplotlib для создания двух подграфиков на одном графике. \n",
    "#Мы создаем данные для графика с помощью функции linspace() из библиотеки numpy. Затем мы создаем объект Figure и два объекта Axes, представляющих каждый подграфик.\n",
    "#Мы настраиваем каждый подграфик с помощью функций plot(), set_xlabel(), set_ylabel() и legend(). \n",
    "#Наконец, мы отображаем график с помощью функции show()."
   ]
  },
  {
   "cell_type": "markdown",
   "metadata": {},
   "source": [
    "# Исследование данных"
   ]
  },
  {
   "cell_type": "code",
   "execution_count": 10,
   "metadata": {
    "colab": {
     "base_uri": "https://localhost:8080/",
     "height": 1000
    },
    "id": "zcJkTHS-AQPa",
    "outputId": "2161bf14-7dc1-42be-d979-8f5595dcbf5a"
   },
   "outputs": [
    {
     "data": {
      "image/png": "[encoded data removed]",
      "text/plain": [
       "<Figure size 1000x1000 with 1 Axes>"
      ]
     },
     "metadata": {},
     "output_type": "display_data"
    }
   ],
   "source": [
    "\n",
    "#1. Линейный график продаж по месяцам с разделением по категориям:\n",
    "\n",
    "# Создание данных для графика\n",
    "categories = ['Category 1', 'Category 2', 'Category 3']\n",
    "months = ['January', 'February', 'March', 'April']\n",
    "sales = [[100, 150, 200, 250], [50, 100, 150, 200], [200, 250, 300, 350]]\n",
    "\n",
    "# Построение графика\n",
    "plt.figure(figsize=(10, 10))\n",
    "for i in range(len(categories)):\n",
    "    plt.plot(months, sales[i], label=categories[i])\n",
    "\n",
    "plt.xlabel('Month')\n",
    "plt.ylabel('Sales')\n",
    "plt.title('Sales by Month and Category')\n",
    "plt.legend()\n",
    "plt.show()\n",
    "\n"
   ]
  },
  {
   "cell_type": "code",
   "execution_count": 11,
   "metadata": {},
   "outputs": [
    {
     "data": {
      "image/png": "[encoded data removed]",
      "text/plain": [
       "<Figure size 1000x600 with 1 Axes>"
      ]
     },
     "metadata": {},
     "output_type": "display_data"
    }
   ],
   "source": [
    "#2. Гистограмма распределения продаж по ценам:\n",
    "\n",
    "\n",
    "# Создание данных для гистограммы\n",
    "prices = [10, 15, 20, 25, 30, 35, 40, 45, 50, 55, 60]\n",
    "sales = [5, 10, 15, 20, 25, 20, 15, 10, 5, 2, 1]\n",
    "\n",
    "# Построение гистограммы\n",
    "plt.figure(figsize=(10, 6))\n",
    "plt.bar(prices, sales)\n",
    "\n",
    "plt.xlabel('Price')\n",
    "plt.ylabel('Number of Sales')\n",
    "plt.title('Sales Distribution by Price')\n",
    "plt.show()\n"
   ]
  },
  {
   "cell_type": "code",
   "execution_count": 12,
   "metadata": {},
   "outputs": [
    {
     "data": {
      "text/plain": [
       "<function matplotlib.pyplot.show(close=None, block=None)>"
      ]
     },
     "execution_count": 12,
     "metadata": {},
     "output_type": "execute_result"
    },
    {
     "data": {
      "image/png": "[encoded data removed]",
      "text/plain": [
       "<Figure size 1000x600 with 1 Axes>"
      ]
     },
     "metadata": {},
     "output_type": "display_data"
    }
   ],
   "source": [
    "#3. Диаграмма рассеяния продаж по ценам и количеству:\n",
    "\n",
    "\n",
    "# Создание данных для диаграммы рассеяния\n",
    "prices = [10, 15, 20, 25, 30, 35, 40, 45, 50, 55, 60]\n",
    "quantities = [5, 10, 15, 20, 25, 20, 15, 10, 5, 2, 1]\n",
    "\n",
    "# Построение диаграммы рассеяния\n",
    "plt.figure(figsize=(10, 6))\n",
    "plt.scatter(prices, quantities)\n",
    "\n",
    "plt.xlabel('Price')\n",
    "plt.ylabel('Quantity Sold')\n",
    "plt.title('Sales Scatter Plot')\n",
    "plt.show"
   ]
  },
  {
   "cell_type": "code",
   "execution_count": 13,
   "metadata": {},
   "outputs": [
    {
     "data": {
      "image/png": "[encoded data removed]",
      "text/plain": [
       "<Figure size 1000x600 with 1 Axes>"
      ]
     },
     "metadata": {},
     "output_type": "display_data"
    },
    {
     "data": {
      "image/png": "[encoded data removed]",
      "text/plain": [
       "<Figure size 1000x600 with 2 Axes>"
      ]
     },
     "metadata": {},
     "output_type": "display_data"
    }
   ],
   "source": [
    "\n",
    "\n",
    "\n",
    "#4. Столбчатая диаграмма сравнения продаж разных категорий по месяцам:\n",
    "\n",
    "# Создание данных для столбчатой диаграммы\n",
    "categories = ['Category 1', 'Category 2', 'Category 3']\n",
    "months = ['January', 'February', 'March', 'April']\n",
    "sales = np.array([[100, 150, 200, 250], [50, 100, 150, 200], [200, 250, 300, 350]])\n",
    "\n",
    "# Построение столбчатой диаграммы\n",
    "plt.figure(figsize=(10, 6))\n",
    "bar_width = 0.2\n",
    "for i in range(len(categories)):\n",
    "    plt.bar(np.arange(len(months)) + i * bar_width, sales[i], width=bar_width, label=categories[i])\n",
    "\n",
    "plt.xlabel('Month')\n",
    "plt.ylabel('Sales')\n",
    "plt.title('Sales Comparison by Month and Category')\n",
    "plt.xticks(np.arange(len(months)) + bar_width * (len(categories) - 1) / 2, months)\n",
    "plt.legend()\n",
    "plt.show()\n",
    "\n",
    "\n",
    "\n",
    "#5. Тепловая карта продаж по категориям и месяцам:\n",
    "\n",
    "\n",
    "# Создание данных для тепловой карты\n",
    "categories = ['Category 1', 'Category 2', 'Category 3']\n",
    "months = ['January', 'February', 'March', 'April']\n",
    "sales = np.array([[100, 150, 200, 250], [50, 100, 150, 200], [200, 250, 300, 350]])\n",
    "\n",
    "# Построение тепловой карты\n",
    "plt.figure(figsize=(10, 6))\n",
    "plt.imshow(sales, cmap='hot')\n",
    "\n",
    "plt.xlabel('Month')\n",
    "plt.ylabel('Category')\n",
    "plt.title('Sales Heatmap by Month and Category')\n",
    "plt.xticks(np.arange(len(months)), months)\n",
    "plt.yticks(np.arange(len(categories)), categories)\n",
    "plt.colorbar(label='Sales')\n",
    "plt.show()\n"
   ]
  },
  {
   "cell_type": "code",
   "execution_count": 11,
   "metadata": {
    "colab": {
     "base_uri": "https://localhost:8080/"
    },
    "id": "ZEobhKUhBID_",
    "outputId": "a3bf6a1f-5beb-4a91-9247-0a9f0da1d98e"
   },
   "outputs": [
    {
     "name": "stdout",
     "output_type": "stream",
     "text": [
      "403\n",
      "{'Server': 'nginx', 'Date': 'Mon, 26 May 2025 19:54:52 GMT', 'Transfer-Encoding': 'chunked', 'Connection': 'keep-alive', 'access-control-allow-origin': '*', 'content-type': 'text/html'}\n",
      "<!DOCTYPE html>\n",
      "<html>\n",
      "<head>\n",
      "  <meta http-equiv=\"Content-Type\" content=\"text/html; charset=UTF-8\">\n",
      "</head>\n",
      "<body>\n",
      "  <div style=\"text-align: center;\">\n",
      "    <h1>Forbidden</h1>\n",
      "    <p id=\"REQUEST-DATE\">Datetime: 2025-05-26 19:54:52 +0000</p>\n",
      "    <p id=\"REQUEST-IP\">IP: 46.188.15.134</p>\n",
      "    <p id=\"REQUEST-ID\">ID: qsnVkWdaAiE1</p>\n",
      "    <p id=\"ORIGIN-ID\"></p>\n",
      "    <p>If you are not a bot, please copy the report and send it to our support team.</p>\n",
      "    <p><button onclick=\"copy()\">Copy</button></p>\n",
      "  </div>\n",
      "\n",
      "  <script>\n",
      "    function copy() {\n",
      "        document.oncopy = function (e) {\n",
      "            const t = {\n",
      "                report: {\n",
      "                    datetime: document.getElementById(\"REQUEST-DATE\").innerHTML,\n",
      "                    ip: document.getElementById(\"REQUEST-IP\").innerHTML,\n",
      "                    id: document.getElementById(\"REQUEST-ID\").innerHTML\n",
      "                }\n",
      "            };\n",
      "            e.clipboardData.setData(\"text\", JSON.stringify(t));\n",
      "            e.preventDefault();\n",
      "        };\n",
      "        document.execCommand(\"copy\");\n",
      "    }\n",
      "\n",
      "    document.addEventListener(\"DOMContentLoaded\", function() {\n",
      "        const origin = window.location.protocol + \"//\" + window.location.host;\n",
      "        document.getElementById('ORIGIN-ID').innerHTML = \"Origin: \" + origin;\n",
      "    });\n",
      "  </script>\n",
      "</body>\n",
      "</html>\n",
      "\n"
     ]
    }
   ],
   "source": [
    "#Пример использования requests.get:\n",
    "import requests\n",
    "\n",
    "#response = requests.get('https://www.example.com')\n",
    "response = requests.get('https://e-disclosure.ru/portal/company.aspx?id=29792')\n",
    "\n",
    "print(response.status_code)  # Выводит статус-код ответа\n",
    "print(response.headers)  # Выводит заголовки ответа\n",
    "print(response.text)  # Выводит тело ответа в виде текста, если вы хотите получить содержимое веб-страницы, вы можете использовать \n",
    "\n",
    "\n",
    "#В этом примере мы отправляем GET-запрос на https://www.example.com и сохраняем ответ в переменную response. Затем мы выводим статус-код ответа, заголовки и тело ответа."
   ]
  },
  {
   "cell_type": "code",
   "execution_count": 12,
   "metadata": {
    "colab": {
     "base_uri": "https://localhost:8080/"
    },
    "id": "rWDyWohJCKeJ",
    "outputId": "ba2bec7f-6845-4bfe-ab1e-ede7b2b5dcc2"
   },
   "outputs": [
    {
     "name": "stdout",
     "output_type": "stream",
     "text": [
      "200\n",
      "{'Date': 'Mon, 26 May 2025 19:54:57 GMT', 'Expires': '-1', 'Cache-Control': 'private, max-age=0', 'Content-Type': 'text/html; charset=ISO-8859-1', 'Content-Security-Policy-Report-Only': \"object-src 'none';base-uri 'self';script-src 'nonce-uL9wfwEzJ-XTYrvKMsesOQ' 'strict-dynamic' 'report-sample' 'unsafe-eval' 'unsafe-inline' https: http:;report-uri https://csp.withgoogle.com/csp/gws/other-hp\", 'Accept-CH': 'Sec-CH-Prefers-Color-Scheme', 'P3P': 'CP=\"This is not a P3P policy! See g.co/p3phelp for more info.\"', 'Content-Encoding': 'gzip', 'Server': 'gws', 'X-XSS-Protection': '0', 'X-Frame-Options': 'SAMEORIGIN', 'Set-Cookie': 'AEC=AVh_V2hy3EPd-8IJHhogF9IDVSyBRwjoZccxyPHyI_tGxir7FqS0jvYig9c; expires=Sat, 22-Nov-2025 19:54:57 GMT; path=/; domain=.google.com; Secure; HttpOnly; SameSite=lax, NID=524=tI-ea6-I3lvvILybualOM_v8b7BuwduaXKO1JRKGL9xkpEJUYJcXlrJMPZuDQ_d2RO0ScyXuNUiPopq0qpU6b5aPnrYfsLx96TpORYqVRwe1QZrc5pJoA3FgpaXwYiE_-5ufqS48ncrBPxVdH9Jv_TFhqxzQ2_uFQ7tgTgmaiJsYZRqZAAB2jqTdM8iwiKN9y61A_MylaSCe59eWGA; expires=Tue, 25-Nov-2025 19:54:57 GMT; path=/; domain=.google.com; HttpOnly', 'Alt-Svc': 'h3=\":443\"; ma=2592000,h3-29=\":443\"; ma=2592000', 'Transfer-Encoding': 'chunked'}\n",
      "<!doctype html><html itemscope=\"\" itemtype=\"http://schema.org/WebPage\" lang=\"ru\"><head><meta content=\"&#1055;&#1086;&#1080;&#1089;&#1082; &#1080;&#1085;&#1092;&#1086;&#1088;&#1084;&#1072;&#1094;&#1080;&#1080; &#1074; &#1080;&#1085;&#1090;&#1077;&#1088;&#1085;&#1077;&#1090;&#1077;: &#1074;&#1077;&#1073; &#1089;&#1090;&#1088;&#1072;&#1085;&#1080;&#1094;&#1099;, &#1082;&#1072;&#1088;&#1090;&#1080;&#1085;&#1082;&#1080;, &#1074;&#1080;&#1076;&#1077;&#1086; &#1080; &#1084;&#1085;&#1086;&#1075;&#1086;&#1077; &#1076;&#1088;&#1091;&#1075;&#1086;&#1077;.\" name=\"description\"><meta content=\"noodp, \" name=\"robots\"><meta content=\"text/html; charset=UTF-8\" http-equiv=\"Content-Type\"><meta content=\"/images/branding/googleg/1x/googleg_standard_color_128dp.png\" itemprop=\"image\"><title>Google</title><script nonce=\"uL9wfwEzJ-XTYrvKMsesOQ\">(function(){var _g={kEI:'Ecc0aMO-GcewwPAPnp3vqAY',kEXPI:'0,202791,48,12,2,609863,154,2887462,107,510,435,316223,222438,48791,46127,78219,266577,247320,42724,5241682,36812642,25228681,138268,71241,8038,6756,23879,9138,4600,328,6225,50576,13589,15048,15635,30376,28341,45977,4122,2848,1257,353,18880,69,7709,1189,4617,5773,4311,20639,2662,16524,3261,1082,3096,9,3,2255,10276,2230,977,570,3596,593,7349,658,5025,3604,8523,4000,2,622,4625,3580,985,9,1,3,454,4130,2739,827,5,101,3469,2,1,2,2,2,3,49,2268,648,3735,490,3,2047,1507,1247,322,1611,485,1,4424,936,251,1162,1189,1469,391,560,67,1,255,497,2526,185,2,1458,1059,537,4,1042,88,7,1735,198,912,158,655,924,4376,475,846,254,1763,49,3,231,1100,769,1297,436,1376,168,508,949,644,230,1857,5,2,4,1,352,6,436,728,69,558,135,140,694,1,644,358,980,330,223,159,50,95,46,91,6,34,57,18,630,376,555,670,7,121,33,529,2,1189,814,11,42,9,182,488,341,197,181,29,92,276,172,586,44,278,1023,773,181,291,481,139,826,3,2,2,2,17,3,125,1186,218,39,3,80,2,17,292,219,176,550,164,445,277,66,4,104,802,1257,60,1,124,16,4,464,159,541,600,281,416,223,162,226,29,26,1329,6,147,1720,3,70,26,1067,642,3,940,993,3804,21271575,243,4,2397,5,2992,4,2960,3,3918,3,412,15,711,110,1508,206,1608,2,1068,454,212,422,16,298,509,335,17,3632992,4864737,138911,40950',kBL:'xBXG',kOPI:89978449};(function(){var a;((a=window.google)==null?0:a.stvsc)?google.kEI=_g.kEI:window.google=_g;}).call(this);})();(function(){google.sn='webhp';google.kHL='ru';})();(function(){\n",
      "var g=this||self;function k(){return window.google&&window.google.kOPI||null};var l,m=[];function n(a){for(var b;a&&(!a.getAttribute||!(b=a.getAttribute(\"eid\")));)a=a.parentNode;return b||l}function p(a){for(var b=null;a&&(!a.getAttribute||!(b=a.getAttribute(\"leid\")));)a=a.parentNode;return b}function q(a){/^http:/i.test(a)&&window.location.protocol===\"https:\"&&(google.ml&&google.ml(Error(\"a\"),!1,{src:a,glmm:1}),a=\"\");return a}\n",
      "function r(a,b,d,c,h){var e=\"\";b.search(\"&ei=\")===-1&&(e=\"&ei=\"+n(c),b.search(\"&lei=\")===-1&&(c=p(c))&&(e+=\"&lei=\"+c));var f=b.search(\"&cshid=\")===-1&&a!==\"slh\";c=\"&zx=\"+Date.now().toString();g._cshid&&f&&(c+=\"&cshid=\"+g._cshid);(d=d())&&(c+=\"&opi=\"+d);return\"/\"+(h||\"gen_204\")+\"?atyp=i&ct=\"+String(a)+\"&cad=\"+(b+e+c)};l=google.kEI;google.getEI=n;google.getLEI=p;google.ml=function(){return null};google.log=function(a,b,d,c,h,e){e=e===void 0?k:e;d||(d=r(a,b,e,c,h));if(d=q(d)){a=new Image;var f=m.length;m[f]=a;a.onerror=a.onload=a.onabort=function(){delete m[f]};a.src=d}};google.logUrl=function(a,b){b=b===void 0?k:b;return r(\"\",a,b)};}).call(this);(function(){google.y={};google.sy=[];var d;(d=google).x||(d.x=function(a,b){if(a)var c=a.id;else{do c=Math.random();while(google.y[c])}google.y[c]=[a,b];return!1});var e;(e=google).sx||(e.sx=function(a){google.sy.push(a)});google.lm=[];var f;(f=google).plm||(f.plm=function(a){google.lm.push.apply(google.lm,a)});google.lq=[];var g;(g=google).load||(g.load=function(a,b,c){google.lq.push([[a],b,c])});var h;(h=google).loadAll||(h.loadAll=function(a,b){google.lq.push([a,b])});google.bx=!1;var k;(k=google).lx||(k.lx=function(){});var l=[],m;(m=google).fce||(m.fce=function(a,b,c,n){l.push([a,b,c,n])});google.qce=l;}).call(this);google.f={};(function(){\n",
      "document.documentElement.addEventListener(\"submit\",function(b){var a;if(a=b.target){var c=a.getAttribute(\"data-submitfalse\");a=c===\"1\"||c===\"q\"&&!a.elements.q.value?!0:!1}else a=!1;a&&(b.preventDefault(),b.stopPropagation())},!0);document.documentElement.addEventListener(\"click\",function(b){var a;a:{for(a=b.target;a&&a!==document.documentElement;a=a.parentElement)if(a.tagName===\"A\"){a=a.getAttribute(\"data-nohref\")===\"1\";break a}a=!1}a&&b.preventDefault()},!0);}).call(this);</script><style>#gbar,#guser{font-size:13px;padding-top:1px !important;}#gbar{height:22px}#guser{padding-bottom:7px !important;text-align:right}.gbh,.gbd{border-top:1px solid #c9d7f1;font-size:1px}.gbh{height:0;position:absolute;top:24px;width:100%}@media all{.gb1{height:22px;margin-right:.5em;vertical-align:top}#gbar{float:left}}a.gb1,a.gb4{text-decoration:underline !important}a.gb1,a.gb4{color:#00c !important}.gbi .gb4{color:#dd8e27 !important}.gbf .gb4{color:#900 !important}\n",
      "</style><style>body,td,a,p,.h{font-family:sans-serif}body{margin:0;overflow-y:scroll}#gog{padding:3px 8px 0}td{line-height:.8em}.gac_m td{line-height:17px}form{margin-bottom:20px}.h{color:#1967d2}em{font-weight:bold;font-style:normal}.lst{height:25px;width:496px}.gsfi,.lst{font:18px sans-serif}.gsfs{font:17px sans-serif}.ds{display:inline-box;display:inline-block;margin:3px 0 4px;margin-left:4px}input{font-family:inherit}body{background:#fff;color:#000}a{color:#681da8;text-decoration:none}a:hover,a:active{text-decoration:underline}.fl a{color:#1967d2}a:visited{color:#681da8}.sblc{padding-top:5px}.sblc a{display:block;margin:2px 0;margin-left:13px;font-size:11px}.lsbb{background:#f8f9fa;border:solid 1px;border-color:#dadce0 #70757a #70757a #dadce0;height:30px}.lsbb{display:block}#WqQANb a{display:inline-block;margin:0 12px}.lsb{background:url(/images/nav_logo229.png) 0 -261px repeat-x;color:#000;border:none;cursor:pointer;height:30px;margin:0;outline:0;font:15px sans-serif;vertical-align:top}.lsb:active{background:#dadce0}.lst:focus{outline:none}.Ucigb{width:458px}</style><script nonce=\"uL9wfwEzJ-XTYrvKMsesOQ\">(function(){window.google.erd={jsr:1,bv:2226,de:true,dpf:'m7ldP7JxVBgm5O-enu2LQGVg1yP-vT2z7hEUS9LtuDk'};\n",
      "var g=this||self;var k,l=(k=g.mei)!=null?k:1,m,p=(m=g.diel)!=null?m:0,q,r=(q=g.sdo)!=null?q:!0,t=0,u,w=google.erd,x=w.jsr;google.ml=function(a,b,d,n,e){e=e===void 0?2:e;b&&(u=a&&a.message);d===void 0&&(d={});d.cad=\"ple_\"+google.ple+\".aple_\"+google.aple;if(google.dl)return google.dl(a,e,d,!0),null;b=d;if(x<0){window.console&&console.error(a,b);if(x===-2)throw a;b=!1}else b=!a||!a.message||a.message===\"Error loading script\"||t>=l&&!n?!1:!0;if(!b)return null;t++;d=d||{};b=encodeURIComponent;var c=\"/gen_204?atyp=i&ei=\"+b(google.kEI);google.kEXPI&&(c+=\"&jexpid=\"+b(google.kEXPI));c+=\"&srcpg=\"+b(google.sn)+\"&jsr=\"+b(w.jsr)+\n",
      "\"&bver=\"+b(w.bv);w.dpf&&(c+=\"&dpf=\"+b(w.dpf));var f=a.lineNumber;f!==void 0&&(c+=\"&line=\"+f);var h=a.fileName;h&&(h.indexOf(\"-extension:/\")>0&&(e=3),c+=\"&script=\"+b(h),f&&h===window.location.href&&(f=document.documentElement.outerHTML.split(\"\\n\")[f],c+=\"&cad=\"+b(f?f.substring(0,300):\"No script found.\")));google.ple&&google.ple===1&&(e=2);c+=\"&jsel=\"+e;for(var v in d)c+=\"&\",c+=b(v),c+=\"=\",c+=b(d[v]);c=c+\"&emsg=\"+b(a.name+\": \"+a.message);c=c+\"&jsst=\"+b(a.stack||\"N/A\");c.length>=12288&&(c=c.substr(0,12288));a=c;n||google.log(0,\"\",a);return a};window.onerror=function(a,b,d,n,e){u!==a&&(a=e instanceof Error?e:Error(a),d===void 0||\"lineNumber\"in a||(a.lineNumber=d),b===void 0||\"fileName\"in a||(a.fileName=b),google.ml(a,!1,void 0,!1,a.name===\"SyntaxError\"||a.message.substring(0,11)===\"SyntaxError\"||a.message.indexOf(\"Script error\")!==-1?3:p));u=null;r&&t>=l&&(window.onerror=null)};})();</script></head><body bgcolor=\"#fff\"><script nonce=\"uL9wfwEzJ-XTYrvKMsesOQ\">(function(){var src='/images/nav_logo229.png';var iesg=false;document.body.onload = function(){window.n && window.n();if (document.images){new Image().src=src;}\n",
      "if (!iesg){document.f&&document.f.q.focus();document.gbqf&&document.gbqf.q.focus();}\n",
      "}\n",
      "})();</script><div id=\"mngb\"><div id=gbar><nobr><b class=gb1>&#1055;&#1086;&#1080;&#1089;&#1082;</b> <a class=gb1 href=\"https://www.google.com/imghp?hl=ru&tab=wi\">&#1050;&#1072;&#1088;&#1090;&#1080;&#1085;&#1082;&#1080;</a> <a class=gb1 href=\"https://maps.google.ru/maps?hl=ru&tab=wl\">&#1050;&#1072;&#1088;&#1090;&#1099;</a> <a class=gb1 href=\"https://play.google.com/?hl=ru&tab=w8\">Play</a> <a class=gb1 href=\"https://www.youtube.com/?tab=w1\">YouTube</a> <a class=gb1 href=\"https://news.google.com/?tab=wn\">&#1053;&#1086;&#1074;&#1086;&#1089;&#1090;&#1080;</a> <a class=gb1 href=\"https://mail.google.com/mail/?tab=wm\">&#1055;&#1086;&#1095;&#1090;&#1072;</a> <a class=gb1 href=\"https://drive.google.com/?tab=wo\">&#1044;&#1080;&#1089;&#1082;</a> <a class=gb1 style=\"text-decoration:none\" href=\"https://www.google.ru/intl/ru/about/products?tab=wh\"><u>&#1045;&#1097;&#1105;</u> &raquo;</a></nobr></div><div id=guser width=100%><nobr><span id=gbn class=gbi></span><span id=gbf class=gbf></span><span id=gbe></span><a href=\"http://www.google.ru/history/optout?hl=ru\" class=gb4>&#1048;&#1089;&#1090;&#1086;&#1088;&#1080;&#1103; &#1074;&#1077;&#1073;-&#1087;&#1086;&#1080;&#1089;&#1082;&#1072;</a> | <a  href=\"/preferences?hl=ru\" class=gb4>&#1053;&#1072;&#1089;&#1090;&#1088;&#1086;&#1081;&#1082;&#1080;</a> | <a target=_top id=gb_70 href=\"https://accounts.google.com/ServiceLogin?hl=ru&passive=true&continue=https://www.google.com/&ec=GAZAAQ\" class=gb4>&#1042;&#1086;&#1081;&#1090;&#1080;</a></nobr></div><div class=gbh style=left:0></div><div class=gbh style=right:0></div></div><center><br clear=\"all\" id=\"lgpd\"><div id=\"XjhHGf\"><img alt=\"Google\" height=\"92\" src=\"/images/branding/googlelogo/1x/googlelogo_white_background_color_272x92dp.png\" style=\"padding:28px 0 14px\" width=\"272\" id=\"hplogo\"><br><br></div><form action=\"/search\" name=\"f\"><table cellpadding=\"0\" cellspacing=\"0\"><tr valign=\"top\"><td width=\"25%\">&nbsp;</td><td align=\"center\" nowrap=\"\"><input name=\"ie\" value=\"ISO-8859-1\" type=\"hidden\"><input value=\"ru\" name=\"hl\" type=\"hidden\"><input name=\"source\" type=\"hidden\" value=\"hp\"><input name=\"biw\" type=\"hidden\"><input name=\"bih\" type=\"hidden\"><div class=\"ds\" style=\"height:32px;margin:4px 0\"><div style=\"position:relative;zoom:1\"><input class=\"lst Ucigb\" style=\"margin:0;padding:5px 8px 0 6px;vertical-align:top;color:#000;padding-right:38px\" autocomplete=\"off\" value=\"\" title=\"&#1055;&#1086;&#1080;&#1089;&#1082; &#1074; Google\" maxlength=\"2048\" name=\"q\" size=\"57\"><img src=\"/textinputassistant/tia.png\" style=\"position:absolute;cursor:pointer;right:5px;top:4px;z-index:300\" data-script-url=\"/textinputassistant/13/ru_tia.js\" id=\"tsuid_Ecc0aMO-GcewwPAPnp3vqAY_1\" alt=\"\" height=\"23\" width=\"27\"><script nonce=\"uL9wfwEzJ-XTYrvKMsesOQ\">(function(){var id='tsuid_Ecc0aMO-GcewwPAPnp3vqAY_1';document.getElementById(id).onclick = function(){var s = document.createElement('script');s.src = this.getAttribute('data-script-url');document.body.appendChild(s);};})();</script></div></div><br style=\"line-height:0\"><span class=\"ds\"><span class=\"lsbb\"><input class=\"lsb\" value=\"&#1055;&#1086;&#1080;&#1089;&#1082; &#1074; Google\" name=\"btnG\" type=\"submit\"></span></span><span class=\"ds\"><span class=\"lsbb\"><input class=\"lsb\" id=\"tsuid_Ecc0aMO-GcewwPAPnp3vqAY_2\" value=\"&#1052;&#1085;&#1077; &#1087;&#1086;&#1074;&#1077;&#1079;&#1105;&#1090;!\" name=\"btnI\" type=\"submit\"><script nonce=\"uL9wfwEzJ-XTYrvKMsesOQ\">(function(){var id='tsuid_Ecc0aMO-GcewwPAPnp3vqAY_2';document.getElementById(id).onclick = function(){if (this.form.q.value){this.checked = 1;if (this.form.iflsig)this.form.iflsig.disabled = false;}\n",
      "else top.location='/doodles/';};})();</script><input value=\"AOw8s4IAAAAAaDTVIWtpfxS_s3CsF5l9ChIyKI_skVVT\" name=\"iflsig\" type=\"hidden\"></span></span></td><td class=\"fl sblc\" align=\"left\" nowrap=\"\" width=\"25%\"><a href=\"/advanced_search?hl=ru&amp;authuser=0\">&#1056;&#1072;&#1089;&#1096;&#1080;&#1088;&#1077;&#1085;&#1085;&#1099;&#1081; &#1087;&#1086;&#1080;&#1089;&#1082;</a></td></tr></table><input id=\"gbv\" name=\"gbv\" type=\"hidden\" value=\"1\"><script nonce=\"uL9wfwEzJ-XTYrvKMsesOQ\">(function(){var a,b=\"1\";if(document&&document.getElementById)if(typeof XMLHttpRequest!=\"undefined\")b=\"2\";else if(typeof ActiveXObject!=\"undefined\"){var c,d,e=[\"MSXML2.XMLHTTP.6.0\",\"MSXML2.XMLHTTP.3.0\",\"MSXML2.XMLHTTP\",\"Microsoft.XMLHTTP\"];for(c=0;d=e[c++];)try{new ActiveXObject(d),b=\"2\"}catch(h){}}a=b;if(a==\"2\"&&location.search.indexOf(\"&gbv=2\")==-1){var f=google.gbvu,g=document.getElementById(\"gbv\");g&&(g.value=a);f&&window.setTimeout(function(){location.href=f},0)};}).call(this);</script></form><div style=\"font-size:83%;min-height:3.5em\"><br></div><span id=\"footer\"><div style=\"font-size:10pt\"><div style=\"margin:19px auto;text-align:center\" id=\"WqQANb\"><a href=\"/intl/ru/ads/\">&#1056;&#1077;&#1082;&#1083;&#1072;&#1084;&#1072;</a><a href=\"http://www.google.ru/intl/ru/services/\">&#1056;&#1077;&#1096;&#1077;&#1085;&#1080;&#1103; &#1076;&#1083;&#1103; &#1073;&#1080;&#1079;&#1085;&#1077;&#1089;&#1072;</a><a href=\"/intl/ru/about.html\">&#1042;&#1089;&#1105; &#1086; Google</a><a href=\"https://www.google.com/setprefdomain?prefdom=RU&amp;prev=https://www.google.ru/&amp;sig=K_ZpibOw0Ez8hxVMstAHUCyQLHFTE%3D\">Google.ru</a></div></div><p style=\"font-size:8pt;color:#5e5e5e\">&copy; 2025 - <a href=\"/intl/ru/policies/privacy/\">&#1050;&#1086;&#1085;&#1092;&#1080;&#1076;&#1077;&#1085;&#1094;&#1080;&#1072;&#1083;&#1100;&#1085;&#1086;&#1089;&#1090;&#1100;</a> - <a href=\"/intl/ru/policies/terms/\">&#1059;&#1089;&#1083;&#1086;&#1074;&#1080;&#1103;</a></p></span></center><script nonce=\"uL9wfwEzJ-XTYrvKMsesOQ\">(function(){window.google.cdo={height:757,width:1440};(function(){var a=window.innerWidth,b=window.innerHeight;if(!a||!b){var c=window.document,d=c.compatMode==\"CSS1Compat\"?c.documentElement:c.body;a=d.clientWidth;b=d.clientHeight}if(a&&b&&(a!=google.cdo.width||b!=google.cdo.height)){var e=google,f=e.log,g=\"/client_204?&atyp=i&biw=\"+a+\"&bih=\"+b+\"&ei=\"+google.kEI,h=\"\",k=window.google&&window.google.kOPI||null;k&&(h+=\"&opi=\"+k);f.call(e,\"\",\"\",g+h)};}).call(this);})();(function(){google.xjs={basecomb:'/xjs/_/js/k\\x3dxjs.hp.en.8TaJkayy2q0.es5.O/ck\\x3dxjs.hp.Bgng2IOHX70.L.X.O/am\\x3dAAAAAAAQAAAAAAAAAAAAAAAAAAAAAAAAAAAAAJSAQRAAAAAIgAEAAAAAAAFABACIAAAIAAAAACURAMCBAADQAgCQIABygJIDAAACgAAAAAAAIAAAAAgIAIAAAACAAAAAAAyA8DggAAAAEBALAAIAAACIRw/d\\x3d1/ed\\x3d1/dg\\x3d0/ujg\\x3d1/rs\\x3dACT90oGAa3E7z8BYgq6dGtlUKwNXywpnvQ?cb\\x3d72947179',basecss:'/xjs/_/ss/k\\x3dxjs.hp.Bgng2IOHX70.L.X.O/am\\x3dAAAAAAAQAAAAAAAAAAAAAAAAAAAAAAAAAAAAAJSAARAAAAAIAAAAAAAAAAEABACAAAAIAAAAACUBAAAAAADQAgCQIABygJIDAAACgAAAAAAAIAAAAAgIAIAAAACAAAAAAAAAAAgAAAAAABA/rs\\x3dACT90oH8uQkvij5pFop_RCTkn5RSBdTQVQ?cb\\x3d72947179',basejs:'/xjs/_/js/k\\x3dxjs.hp.en.8TaJkayy2q0.es5.O/am\\x3dAAAAAAAAAAAAAAAAAAAAAAAAAAAAAAAAAAAAAAAAQAAAAAAAgAEAAAAAAABABACIAAAAAAAAAAAQAMCBAACQAgAAAABwAAAAAAAAgAAAAAAAAAAAAAAAAAAAAAAAAAAAAAyA8DggAAAAEBALAAIAAACIRw/dg\\x3d0/rs\\x3dACT90oHuHOry6w4qdrxYMtdlG8ZpMaTFjg?cb\\x3d72947179',excm:[]};})();(function(){var u='/xjs/_/js/k\\x3dxjs.hp.en.8TaJkayy2q0.es5.O/am\\x3dAAAAAAAAAAAAAAAAAAAAAAAAAAAAAAAAAAAAAAAAQAAAAAAAgAEAAAAAAABABACIAAAAAAAAAAAQAMCBAACQAgAAAABwAAAAAAAAgAAAAAAAAAAAAAAAAAAAAAAAAAAAAAyA8DggAAAAEBALAAIAAACIRw/d\\x3d1/ed\\x3d1/dg\\x3d3/rs\\x3dACT90oHuHOry6w4qdrxYMtdlG8ZpMaTFjg/m\\x3dsb_he,d?cb\\x3d72947179';var st=1;var amd=1000;var mmd=0;var pod=true;var pop=true;var povp=false;var fp='';\n",
      "var e=this||self;function f(){var b,a,d;if(a=b=(a=window.google)==null?void 0:(d=a.ia)==null?void 0:d.r.B2Jtyd)a=b.m,a=a===1||a===5;return a&&b.cbfd!=null&&b.cbvi!=null?b:void 0};function g(){var b=[u];if(!google.dp){for(var a=0;a<b.length;a++){var d=b[a],c=document.createElement(\"link\");c.as=\"script\";c.href=d;c.rel=\"preload\";document.body.appendChild(c)}google.dp=!0}};google.ps===void 0&&(google.ps=[]);function h(){var b=u,a=function(){};google.lx=google.stvsc?a:function(){k(b);google.lx=a};google.bx||google.lx()}function l(b,a){a&&(b.src=a);fp&&(b.fetchPriority=fp);var d=b.onload;b.onload=function(c){d&&d(c);google.ps=google.ps.filter(function(G){return b!==G})};google.ps.push(b);document.body.appendChild(b)}google.as=l;function k(b){google.timers&&google.timers.load&&google.tick&&google.tick(\"load\",\"xjsls\");var a=document.createElement(\"script\");a.onerror=function(){google.ple=1};a.onload=function(){google.ple=0};google.xjsus=void 0;l(a,b);google.aple=-1;google.dp=!0};function m(b){var a=b.getAttribute(\"jscontroller\");return(a===\"UBXHI\"||a===\"R3fhkb\"||a===\"TSZEqd\")&&b.hasAttribute(\"data-src\")}function n(){for(var b=document.getElementsByTagName(\"img\"),a=0,d=b.length;a<d;a++){var c=b[a];if(c.hasAttribute(\"data-lzy_\")&&Number(c.getAttribute(\"data-atf\"))&1&&!m(c))return!0}return!1}for(var p=document.getElementsByTagName(\"img\"),q=0,r=p.length;q<r;++q){var t=p[q];Number(t.getAttribute(\"data-atf\"))&1&&m(t)&&(t.src=t.getAttribute(\"data-src\"))};var w,x,y,z,A,B,C,D,E,F;function H(){google.xjsu=u;e._F_jsUrl=u;A=function(){h()};w=!1;x=(st===1||st===3)&&!!google.caft&&!n();y=f();z=(st===2||st===3)&&!!y&&!n();B=pod;C=pop;D=povp;E=pop&&document.prerendering||povp&&document.hidden;F=D?\"visibilitychange\":\"prerenderingchange\"}function I(){w||x||z||E||(A(),w=!0)}\n",
      "setTimeout(function(){google&&google.tick&&google.timers&&google.timers.load&&google.tick(\"load\",\"xjspls\");H();if(x||z||E){if(x){var b=function(){x=!1;I()};google.caft(b);window.setTimeout(b,amd)}z&&(b=function(){z=!1;I()},y.cbvi.push(b),window.setTimeout(b,mmd));if(E){var a=function(){(D?document.hidden:document.prerendering)||(E=!1,I(),document.removeEventListener(F,a))};document.addEventListener(F,a,{passive:!0})}if(B||C||D)w||g()}else A()},0);})();window._ = window._ || {};window._DumpException = _._DumpException = function(e){throw e;};window._s = window._s || {};_s._DumpException = _._DumpException;window._qs = window._qs || {};_qs._DumpException = _._DumpException;(function(){var t=[0,16384,0,0,0,0,128,539295744,4161,100671488,20971520,268451840,8912901,680699392,441450502,544276484,49283081,8537088,971507488,142606336,132,8388608,8388608,2097154,8454144,805306368,59705344,8,727056,8,292992];window._F_toggles = window._xjs_toggles = t;})();window._F_installCss = window._F_installCss || function(css){};(function(){google.jl={bfl:0,dw:false,eli:false,ine:false,ubm:false,uwp:true,vs:false};})();(function(){var pmc='{\\x22d\\x22:{},\\x22sb_he\\x22:{\\x22client\\x22:\\x22heirloom-hp\\x22,\\x22dh\\x22:true,\\x22ds\\x22:\\x22\\x22,\\x22host\\x22:\\x22google.com\\x22,\\x22jsonp\\x22:true,\\x22msgs\\x22:{\\x22cibl\\x22:\\x22\\\\u0423\\\\u0434\\\\u0430\\\\u043b\\\\u0438\\\\u0442\\\\u044c \\\\u043f\\\\u043e\\\\u0438\\\\u0441\\\\u043a\\\\u043e\\\\u0432\\\\u044b\\\\u0439 \\\\u0437\\\\u0430\\\\u043f\\\\u0440\\\\u043e\\\\u0441\\x22,\\x22dym\\x22:\\x22\\\\u0412\\\\u043e\\\\u0437\\\\u043c\\\\u043e\\\\u0436\\\\u043d\\\\u043e, \\\\u0432\\\\u044b \\\\u0438\\\\u043c\\\\u0435\\\\u043b\\\\u0438 \\\\u0432 \\\\u0432\\\\u0438\\\\u0434\\\\u0443:\\x22,\\x22lcky\\x22:\\x22\\\\u041c\\\\u043d\\\\u0435 \\\\u043f\\\\u043e\\\\u0432\\\\u0435\\\\u0437\\\\u0451\\\\u0442!\\x22,\\x22lml\\x22:\\x22\\\\u041f\\\\u043e\\\\u0434\\\\u0440\\\\u043e\\\\u0431\\\\u043d\\\\u0435\\\\u0435...\\x22,\\x22psrc\\x22:\\x22\\\\u042d\\\\u0442\\\\u043e\\\\u0442 \\\\u0437\\\\u0430\\\\u043f\\\\u0440\\\\u043e\\\\u0441 \\\\u0431\\\\u044b\\\\u043b \\\\u0443\\\\u0434\\\\u0430\\\\u043b\\\\u0435\\\\u043d \\\\u0438\\\\u0437 \\\\u0432\\\\u0430\\\\u0448\\\\u0435\\\\u0439 \\\\u003Ca href\\x3d\\\\\\x22/history\\\\\\x22\\\\u003E\\\\u0438\\\\u0441\\\\u0442\\\\u043e\\\\u0440\\\\u0438\\\\u0438 \\\\u0432\\\\u0435\\\\u0431-\\\\u043f\\\\u043e\\\\u0438\\\\u0441\\\\u043a\\\\u0430\\\\u003C/a\\\\u003E\\x22,\\x22psrl\\x22:\\x22\\\\u0423\\\\u0434\\\\u0430\\\\u043b\\\\u0438\\\\u0442\\\\u044c\\x22,\\x22sbit\\x22:\\x22\\\\u041f\\\\u043e\\\\u0438\\\\u0441\\\\u043a \\\\u043f\\\\u043e \\\\u043a\\\\u0430\\\\u0440\\\\u0442\\\\u0438\\\\u043d\\\\u043a\\\\u0435\\x22,\\x22srch\\x22:\\x22\\\\u041f\\\\u043e\\\\u0438\\\\u0441\\\\u043a \\\\u0432 Google\\x22},\\x22ovr\\x22:{},\\x22pq\\x22:\\x22\\x22,\\x22rfs\\x22:[],\\x22stok\\x22:\\x22BII_FE-3D-_kuHSG62cLfA40GrY\\x22}}';google.pmc=JSON.parse(pmc);})();</script></body></html>\n"
     ]
    }
   ],
   "source": [
    "# Делаем GET запрос к сайту\n",
    "response = requests.get('https://www.google.com')\n",
    "print(response.status_code)  # Выводит статус-код ответа\n",
    "print(response.headers)  # Выводит заголовки ответа\n",
    "print(response.text)  # Выводит тело ответа в виде текста"
   ]
  },
  {
   "cell_type": "code",
   "execution_count": 13,
   "metadata": {
    "colab": {
     "base_uri": "https://localhost:8080/",
     "height": 1000,
     "referenced_widgets": [
      "90a88a1d42034a47a991fea3d904581e",
      "d5e22d81df7d420c8eaa91d782689899",
      "733a42b8e9a442f9b825db6ec01cc11c",
      "df5624cb60d149028c78fefa03953002",
      "2f8c784c0f6d4b878e126e516c2b0023"
     ]
    },
    "id": "ajjaOh2DEZ6V",
    "outputId": "e7ad484e-cc71-4fe5-b2ad-1186f8cc46ca"
   },
   "outputs": [
    {
     "data": {
      "application/vnd.jupyter.widget-view+json": {
       "model_id": "094ce308671b47e49663d0efcc4dc466",
       "version_major": 2,
       "version_minor": 0
      },
      "text/plain": [
       "Button(description='Click Me!', style=ButtonStyle())"
      ]
     },
     "metadata": {},
     "output_type": "display_data"
    },
    {
     "data": {
      "application/vnd.jupyter.widget-view+json": {
       "model_id": "28976f0fe4274f8eb19c92879c9f2a56",
       "version_major": 2,
       "version_minor": 0
      },
      "text/plain": [
       "Output()"
      ]
     },
     "metadata": {},
     "output_type": "display_data"
    }
   ],
   "source": [
    "#Tkinter не поддерживается нативно в Google Colab, так как Colab предоставляет только интерфейс командной строки. Однако вы можете использовать библиотеку IPython для создания простых графических интерфейсов в Colab.\n",
    "\n",
    "#Вот пример использования IPython для создания простого графического интерфейса в Colab:\n",
    "\n",
    "#!pip install ipywidgets\n",
    "\n",
    "import ipywidgets as widgets\n",
    "from IPython.display import display\n",
    "\n",
    "button = widgets.Button(description=\"Click Me!\")\n",
    "output = widgets.Output()\n",
    "\n",
    "def on_button_click(b):\n",
    "    with output:\n",
    "        print(\"Button clicked!\")\n",
    "\n",
    "button.on_click(on_button_click)\n",
    "\n",
    "display(button, output)\n",
    "\n",
    "\n",
    "#Этот код создает кнопку \"Click Me!\" и выводит сообщение \"Button clicked!\" в ячейке вывода при нажатии на кнопку.\n",
    "#Вы можете изменить код, чтобы создать более сложные интерфейсы с другими виджетами, такими как текстовые поля, выпадающие списки и т. д.\n",
    "\n",
    "#Обратите внимание, что это не полноценная замена Tkinter и не поддерживает все функции Tkinter.\n",
    "#Однако, если вам нужно создать простой графический интерфейс для взаимодействия с вашим кодом в Colab, IPython и ipywidgets могут быть полезными инструментами."
   ]
  },
  {
   "cell_type": "code",
   "execution_count": 14,
   "metadata": {
    "colab": {
     "base_uri": "https://localhost:8080/"
    },
    "id": "xAQi0_vnJ0K-",
    "outputId": "dbb1c12d-2d09-4ee2-bb06-7c43fcc8294e"
   },
   "outputs": [
    {
     "name": "stdout",
     "output_type": "stream",
     "text": [
      "Текущая версия API: https://api.github.com/user\n"
     ]
    }
   ],
   "source": [
    "import requests\n",
    "\n",
    "# Получение и обработка JSON-ответа от API\n",
    "response = requests.get('https://api.github.com')\n",
    "\n",
    "if response.status_code == 200:\n",
    "    json_response = response.json()\n",
    "\n",
    "    print(f\"Текущая версия API: {json_response.get('current_user_url')}\")\n",
    "else:\n",
    "    print(\"Не удалось получить ответ от API.\")"
   ]
  },
  {
   "cell_type": "code",
   "execution_count": 15,
   "metadata": {
    "colab": {
     "base_uri": "https://localhost:8080/"
    },
    "id": "hqOyy_9PJ0QO",
    "outputId": "80ccba43-1f6d-48b7-bbc2-71682f83516d"
   },
   "outputs": [
    {
     "name": "stdout",
     "output_type": "stream",
     "text": [
      "Площадь круга с радиусом 1.5 равна 7.0683750000000005\n"
     ]
    }
   ],
   "source": [
    "def area_of_circle(radius):\n",
    "    # Функция для вычисления площади круга\n",
    "    area = 3.1415 * (radius ** 2)\n",
    "    return area\n",
    "\n",
    "r = 1.5\n",
    "print(f\"Площадь круга с радиусом {r} равна {area_of_circle(r)}\")"
   ]
  },
  {
   "cell_type": "code",
   "execution_count": 16,
   "metadata": {
    "colab": {
     "base_uri": "https://localhost:8080/"
    },
    "id": "Ht4biuUiJswk",
    "outputId": "ffc9946e-a79d-42b4-d4fd-f83cf7617bf5"
   },
   "outputs": [
    {
     "name": "stdout",
     "output_type": "stream",
     "text": [
      "Перевернутая строка: !dlroW ,olleH\n"
     ]
    }
   ],
   "source": [
    "def reverse_string(input_string):\n",
    "    # Функция для переворачивания строки\n",
    "    return input_string[::-1]\n",
    "\n",
    "s = \"Hello, World!\"\n",
    "print(f\"Перевернутая строка: {reverse_string(s)}\")"
   ]
  },
  {
   "cell_type": "code",
   "execution_count": 24,
   "metadata": {
    "colab": {
     "base_uri": "https://localhost:8080/"
    },
    "id": "M3vnNNsBIdBa",
    "outputId": "aaab2251-7b11-4506-f37c-5cad28b474fa"
   },
   "outputs": [
    {
     "name": "stdout",
     "output_type": "stream",
     "text": [
      "Число 730000737000037 является простым\n"
     ]
    }
   ],
   "source": [
    "def is_prime(n):\n",
    "    # Функция для проверки, является ли число простым\n",
    "    if n < 2:\n",
    "        return False\n",
    "    for i in range(2, int(n**0.5) + 1):\n",
    "        if n % i == 0:\n",
    "            return False\n",
    "    return True\n",
    "\n",
    "num = 730_000_737_000_037\n",
    "if is_prime(num):\n",
    "    print(f\"Число {num} является простым\")\n",
    "else:\n",
    "    print(f\"Число {num} не является простым\")"
   ]
  },
  {
   "cell_type": "code",
   "execution_count": 25,
   "metadata": {
    "colab": {
     "base_uri": "https://localhost:8080/"
    },
    "id": "AoYOAlqJKAIy",
    "outputId": "b19ea53d-dab5-4464-97f0-09fde70cc81a"
   },
   "outputs": [
    {
     "name": "stdout",
     "output_type": "stream",
     "text": [
      "Максимальное значение в списке: 112\n"
     ]
    }
   ],
   "source": [
    "def find_max(input_list):\n",
    "    # Функция для нахождения максимального элемента в списке\n",
    "    return max(input_list)\n",
    "\n",
    "lst = [5, 3, 2, 9, 7, 100, 12, 112 ]\n",
    "print(f\"Максимальное значение в списке: {find_max(lst)}\")"
   ]
  },
  {
   "cell_type": "code",
   "execution_count": 31,
   "metadata": {
    "colab": {
     "base_uri": "https://localhost:8080/"
    },
    "id": "X3RvrkGZKAL4",
    "outputId": "2871d78d-b3c8-4ee7-f685-36bddabca75c"
   },
   "outputs": [
    {
     "name": "stdout",
     "output_type": "stream",
     "text": [
      "Факториал числа 53 равен 4274883284060025564298013753389399649690343788366813724672000000000000\n"
     ]
    }
   ],
   "source": [
    "def factorial(n):\n",
    "    # Функция для вычисления факториала числа\n",
    "    if n == 0:\n",
    "        return 1\n",
    "    else:\n",
    "        return n * factorial(n-1)\n",
    "\n",
    "num = 53\n",
    "print(f\"Факториал числа {num} равен {factorial(num)}\")"
   ]
  },
  {
   "cell_type": "code",
   "execution_count": 32,
   "metadata": {
    "colab": {
     "base_uri": "https://localhost:8080/"
    },
    "id": "7gTlm4SnKARr",
    "outputId": "cd557f90-fdea-4664-90f7-7adbe8a13fd1"
   },
   "outputs": [
    {
     "name": "stdout",
     "output_type": "stream",
     "text": [
      "Первые 13 чисел последовательности Фибоначчи: [0, 1, 1, 2, 3, 5, 8, 13, 21, 34, 55, 89, 144]\n"
     ]
    }
   ],
   "source": [
    "def fibonacci(n):\n",
    "    # Функция для генерации первых n чисел последовательности Фибоначчи\n",
    "    sequence = [0, 1]\n",
    "    while len(sequence) < n:\n",
    "        sequence.append(sequence[-1] + sequence[-2])\n",
    "    return sequence\n",
    "\n",
    "num = 13\n",
    "print(f\"Первые {num} чисел последовательности Фибоначчи: {fibonacci(num)}\")"
   ]
  },
  {
   "cell_type": "code",
   "execution_count": 34,
   "metadata": {
    "colab": {
     "base_uri": "https://localhost:8080/"
    },
    "id": "Jqozr2PeKFtx",
    "outputId": "c16b3a13-ff4d-4363-d1c0-ba5d30f48bbb"
   },
   "outputs": [
    {
     "name": "stdout",
     "output_type": "stream",
     "text": [
      "Отсортированный список: [11, 12, 13, 22, 25, 34, 64, 90, 97]\n"
     ]
    }
   ],
   "source": [
    "def bubble_sort(lst):\n",
    "    # Функция для сортировки списка чисел с помощью алгоритма сортировки пузырьком\n",
    "    for i in range(len(lst)):\n",
    "        for j in range(len(lst) - 1):\n",
    "            if lst[j] > lst[j + 1]:\n",
    "                lst[j], lst[j + 1] = lst[j + 1], lst[j]\n",
    "    return lst\n",
    "\n",
    "numbers = [13, 97, 64, 34, 25, 12, 22, 11, 90]\n",
    "print(f\"Отсортированный список: {bubble_sort(numbers)}\")"
   ]
  },
  {
   "cell_type": "code",
   "execution_count": 35,
   "metadata": {
    "colab": {
     "base_uri": "https://localhost:8080/"
    },
    "id": "6jw0zwjbKFwj",
    "outputId": "7c69b22b-2781-4f04-e912-0873366e7f1f"
   },
   "outputs": [
    {
     "name": "stdout",
     "output_type": "stream",
     "text": [
      "Фраза \"A man, a plan, a canal: Panama\" является палиндромом\n"
     ]
    }
   ],
   "source": [
    "def is_palindrome(s):\n",
    "    # Функция для проверки, является ли данное слово или фраза палиндромом\n",
    "    s = ''.join(filter(str.isalnum, s)).lower()  # Удаляем пробелы, пунктуацию и приводим к нижнему регистру\n",
    "    return s == s[::-1]\n",
    "\n",
    "phrase = \"A man, a plan, a canal: Panama\"\n",
    "if is_palindrome(phrase):\n",
    "    print(f\"Фраза \\\"{phrase}\\\" является палиндромом\")\n",
    "else:\n",
    "    print(f\"Фраза \\\"{phrase}\\\" не является палиндромом\")"
   ]
  },
  {
   "cell_type": "code",
   "execution_count": 36,
   "metadata": {
    "colab": {
     "base_uri": "https://localhost:8080/"
    },
    "id": "P03r8mCtKAXB",
    "outputId": "429f5d53-52b7-487b-ad6e-22d2c4a28e0b"
   },
   "outputs": [
    {
     "name": "stdout",
     "output_type": "stream",
     "text": [
      "Все перестановки строки \"Gerard\": ['Gerard', 'Geradr', 'Gerrad', 'Gerrda', 'Gerdar', 'Gerdra', 'Gearrd', 'Geardr', 'Gearrd', 'Geardr', 'Geadrr', 'Geadrr', 'Gerrad', 'Gerrda', 'Gerard', 'Geradr', 'Gerdra', 'Gerdar', 'Gedrar', 'Gedrra', 'Gedarr', 'Gedarr', 'Gedrra', 'Gedrar', 'Greard', 'Greadr', 'Grerad', 'Grerda', 'Gredar', 'Gredra', 'Graerd', 'Graedr', 'Grared', 'Grarde', 'Grader', 'Gradre', 'Grread', 'Grreda', 'Grraed', 'Grrade', 'Grrdea', 'Grrdae', 'Grdear', 'Grdera', 'Grdaer', 'Grdare', 'Grdrea', 'Grdrae', 'Gaerrd', 'Gaerdr', 'Gaerrd', 'Gaerdr', 'Gaedrr', 'Gaedrr', 'Garerd', 'Garedr', 'Garred', 'Garrde', 'Garder', 'Gardre', 'Garerd', 'Garedr', 'Garred', 'Garrde', 'Garder', 'Gardre', 'Gaderr', 'Gaderr', 'Gadrer', 'Gadrre', 'Gadrer', 'Gadrre', 'Grerad', 'Grerda', 'Greard', 'Greadr', 'Gredra', 'Gredar', 'Grread', 'Grreda', 'Grraed', 'Grrade', 'Grrdea', 'Grrdae', 'Graerd', 'Graedr', 'Grared', 'Grarde', 'Grader', 'Gradre', 'Grdera', 'Grdear', 'Grdrea', 'Grdrae', 'Grdaer', 'Grdare', 'Gderar', 'Gderra', 'Gdearr', 'Gdearr', 'Gderra', 'Gderar', 'Gdrear', 'Gdrera', 'Gdraer', 'Gdrare', 'Gdrrea', 'Gdrrae', 'Gdaerr', 'Gdaerr', 'Gdarer', 'Gdarre', 'Gdarer', 'Gdarre', 'Gdrera', 'Gdrear', 'Gdrrea', 'Gdrrae', 'Gdraer', 'Gdrare', 'eGrard', 'eGradr', 'eGrrad', 'eGrrda', 'eGrdar', 'eGrdra', 'eGarrd', 'eGardr', 'eGarrd', 'eGardr', 'eGadrr', 'eGadrr', 'eGrrad', 'eGrrda', 'eGrard', 'eGradr', 'eGrdra', 'eGrdar', 'eGdrar', 'eGdrra', 'eGdarr', 'eGdarr', 'eGdrra', 'eGdrar', 'erGard', 'erGadr', 'erGrad', 'erGrda', 'erGdar', 'erGdra', 'eraGrd', 'eraGdr', 'erarGd', 'erardG', 'eradGr', 'eradrG', 'errGad', 'errGda', 'erraGd', 'erradG', 'errdGa', 'errdaG', 'erdGar', 'erdGra', 'erdaGr', 'erdarG', 'erdrGa', 'erdraG', 'eaGrrd', 'eaGrdr', 'eaGrrd', 'eaGrdr', 'eaGdrr', 'eaGdrr', 'earGrd', 'earGdr', 'earrGd', 'earrdG', 'eardGr', 'eardrG', 'earGrd', 'earGdr', 'earrGd', 'earrdG', 'eardGr', 'eardrG', 'eadGrr', 'eadGrr', 'eadrGr', 'eadrrG', 'eadrGr', 'eadrrG', 'erGrad', 'erGrda', 'erGard', 'erGadr', 'erGdra', 'erGdar', 'errGad', 'errGda', 'erraGd', 'erradG', 'errdGa', 'errdaG', 'eraGrd', 'eraGdr', 'erarGd', 'erardG', 'eradGr', 'eradrG', 'erdGra', 'erdGar', 'erdrGa', 'erdraG', 'erdaGr', 'erdarG', 'edGrar', 'edGrra', 'edGarr', 'edGarr', 'edGrra', 'edGrar', 'edrGar', 'edrGra', 'edraGr', 'edrarG', 'edrrGa', 'edrraG', 'edaGrr', 'edaGrr', 'edarGr', 'edarrG', 'edarGr', 'edarrG', 'edrGra', 'edrGar', 'edrrGa', 'edrraG', 'edraGr', 'edrarG', 'rGeard', 'rGeadr', 'rGerad', 'rGerda', 'rGedar', 'rGedra', 'rGaerd', 'rGaedr', 'rGared', 'rGarde', 'rGader', 'rGadre', 'rGread', 'rGreda', 'rGraed', 'rGrade', 'rGrdea', 'rGrdae', 'rGdear', 'rGdera', 'rGdaer', 'rGdare', 'rGdrea', 'rGdrae', 'reGard', 'reGadr', 'reGrad', 'reGrda', 'reGdar', 'reGdra', 'reaGrd', 'reaGdr', 'rearGd', 'reardG', 'readGr', 'readrG', 'rerGad', 'rerGda', 'reraGd', 'reradG', 'rerdGa', 'rerdaG', 'redGar', 'redGra', 'redaGr', 'redarG', 'redrGa', 'redraG', 'raGerd', 'raGedr', 'raGred', 'raGrde', 'raGder', 'raGdre', 'raeGrd', 'raeGdr', 'raerGd', 'raerdG', 'raedGr', 'raedrG', 'rarGed', 'rarGde', 'rareGd', 'raredG', 'rardGe', 'rardeG', 'radGer', 'radGre', 'radeGr', 'raderG', 'radrGe', 'radreG', 'rrGead', 'rrGeda', 'rrGaed', 'rrGade', 'rrGdea', 'rrGdae', 'rreGad', 'rreGda', 'rreaGd', 'rreadG', 'rredGa', 'rredaG', 'rraGed', 'rraGde', 'rraeGd', 'rraedG', 'rradGe', 'rradeG', 'rrdGea', 'rrdGae', 'rrdeGa', 'rrdeaG', 'rrdaGe', 'rrdaeG', 'rdGear', 'rdGera', 'rdGaer', 'rdGare', 'rdGrea', 'rdGrae', 'rdeGar', 'rdeGra', 'rdeaGr', 'rdearG', 'rderGa', 'rderaG', 'rdaGer', 'rdaGre', 'rdaeGr', 'rdaerG', 'rdarGe', 'rdareG', 'rdrGea', 'rdrGae', 'rdreGa', 'rdreaG', 'rdraGe', 'rdraeG', 'aGerrd', 'aGerdr', 'aGerrd', 'aGerdr', 'aGedrr', 'aGedrr', 'aGrerd', 'aGredr', 'aGrred', 'aGrrde', 'aGrder', 'aGrdre', 'aGrerd', 'aGredr', 'aGrred', 'aGrrde', 'aGrder', 'aGrdre', 'aGderr', 'aGderr', 'aGdrer', 'aGdrre', 'aGdrer', 'aGdrre', 'aeGrrd', 'aeGrdr', 'aeGrrd', 'aeGrdr', 'aeGdrr', 'aeGdrr', 'aerGrd', 'aerGdr', 'aerrGd', 'aerrdG', 'aerdGr', 'aerdrG', 'aerGrd', 'aerGdr', 'aerrGd', 'aerrdG', 'aerdGr', 'aerdrG', 'aedGrr', 'aedGrr', 'aedrGr', 'aedrrG', 'aedrGr', 'aedrrG', 'arGerd', 'arGedr', 'arGred', 'arGrde', 'arGder', 'arGdre', 'areGrd', 'areGdr', 'arerGd', 'arerdG', 'aredGr', 'aredrG', 'arrGed', 'arrGde', 'arreGd', 'arredG', 'arrdGe', 'arrdeG', 'ardGer', 'ardGre', 'ardeGr', 'arderG', 'ardrGe', 'ardreG', 'arGerd', 'arGedr', 'arGred', 'arGrde', 'arGder', 'arGdre', 'areGrd', 'areGdr', 'arerGd', 'arerdG', 'aredGr', 'aredrG', 'arrGed', 'arrGde', 'arreGd', 'arredG', 'arrdGe', 'arrdeG', 'ardGer', 'ardGre', 'ardeGr', 'arderG', 'ardrGe', 'ardreG', 'adGerr', 'adGerr', 'adGrer', 'adGrre', 'adGrer', 'adGrre', 'adeGrr', 'adeGrr', 'aderGr', 'aderrG', 'aderGr', 'aderrG', 'adrGer', 'adrGre', 'adreGr', 'adrerG', 'adrrGe', 'adrreG', 'adrGer', 'adrGre', 'adreGr', 'adrerG', 'adrrGe', 'adrreG', 'rGerad', 'rGerda', 'rGeard', 'rGeadr', 'rGedra', 'rGedar', 'rGread', 'rGreda', 'rGraed', 'rGrade', 'rGrdea', 'rGrdae', 'rGaerd', 'rGaedr', 'rGared', 'rGarde', 'rGader', 'rGadre', 'rGdera', 'rGdear', 'rGdrea', 'rGdrae', 'rGdaer', 'rGdare', 'reGrad', 'reGrda', 'reGard', 'reGadr', 'reGdra', 'reGdar', 'rerGad', 'rerGda', 'reraGd', 'reradG', 'rerdGa', 'rerdaG', 'reaGrd', 'reaGdr', 'rearGd', 'reardG', 'readGr', 'readrG', 'redGra', 'redGar', 'redrGa', 'redraG', 'redaGr', 'redarG', 'rrGead', 'rrGeda', 'rrGaed', 'rrGade', 'rrGdea', 'rrGdae', 'rreGad', 'rreGda', 'rreaGd', 'rreadG', 'rredGa', 'rredaG', 'rraGed', 'rraGde', 'rraeGd', 'rraedG', 'rradGe', 'rradeG', 'rrdGea', 'rrdGae', 'rrdeGa', 'rrdeaG', 'rrdaGe', 'rrdaeG', 'raGerd', 'raGedr', 'raGred', 'raGrde', 'raGder', 'raGdre', 'raeGrd', 'raeGdr', 'raerGd', 'raerdG', 'raedGr', 'raedrG', 'rarGed', 'rarGde', 'rareGd', 'raredG', 'rardGe', 'rardeG', 'radGer', 'radGre', 'radeGr', 'raderG', 'radrGe', 'radreG', 'rdGera', 'rdGear', 'rdGrea', 'rdGrae', 'rdGaer', 'rdGare', 'rdeGra', 'rdeGar', 'rderGa', 'rderaG', 'rdeaGr', 'rdearG', 'rdrGea', 'rdrGae', 'rdreGa', 'rdreaG', 'rdraGe', 'rdraeG', 'rdaGer', 'rdaGre', 'rdaeGr', 'rdaerG', 'rdarGe', 'rdareG', 'dGerar', 'dGerra', 'dGearr', 'dGearr', 'dGerra', 'dGerar', 'dGrear', 'dGrera', 'dGraer', 'dGrare', 'dGrrea', 'dGrrae', 'dGaerr', 'dGaerr', 'dGarer', 'dGarre', 'dGarer', 'dGarre', 'dGrera', 'dGrear', 'dGrrea', 'dGrrae', 'dGraer', 'dGrare', 'deGrar', 'deGrra', 'deGarr', 'deGarr', 'deGrra', 'deGrar', 'derGar', 'derGra', 'deraGr', 'derarG', 'derrGa', 'derraG', 'deaGrr', 'deaGrr', 'dearGr', 'dearrG', 'dearGr', 'dearrG', 'derGra', 'derGar', 'derrGa', 'derraG', 'deraGr', 'derarG', 'drGear', 'drGera', 'drGaer', 'drGare', 'drGrea', 'drGrae', 'dreGar', 'dreGra', 'dreaGr', 'drearG', 'drerGa', 'dreraG', 'draGer', 'draGre', 'draeGr', 'draerG', 'drarGe', 'drareG', 'drrGea', 'drrGae', 'drreGa', 'drreaG', 'drraGe', 'drraeG', 'daGerr', 'daGerr', 'daGrer', 'daGrre', 'daGrer', 'daGrre', 'daeGrr', 'daeGrr', 'daerGr', 'daerrG', 'daerGr', 'daerrG', 'darGer', 'darGre', 'dareGr', 'darerG', 'darrGe', 'darreG', 'darGer', 'darGre', 'dareGr', 'darerG', 'darrGe', 'darreG', 'drGera', 'drGear', 'drGrea', 'drGrae', 'drGaer', 'drGare', 'dreGra', 'dreGar', 'drerGa', 'dreraG', 'dreaGr', 'drearG', 'drrGea', 'drrGae', 'drreGa', 'drreaG', 'drraGe', 'drraeG', 'draGer', 'draGre', 'draeGr', 'draerG', 'drarGe', 'drareG']\n"
     ]
    }
   ],
   "source": [
    "from itertools import permutations\n",
    "\n",
    "def string_permutations(s):\n",
    "    # Функция для генерации всех перестановок данной строки\n",
    "    perms = [''.join(p) for p in permutations(s)]\n",
    "    return perms\n",
    "\n",
    "strng = \"Gerard\"\n",
    "print(f\"Все перестановки строки \\\"{strng}\\\": {string_permutations(strng)}\")"
   ]
  },
  {
   "cell_type": "code",
   "execution_count": 37,
   "metadata": {
    "colab": {
     "base_uri": "https://localhost:8080/"
    },
    "id": "9XhhrQbZRr1j",
    "outputId": "649f1a41-eed5-4e41-c569-e1917e0a7159"
   },
   "outputs": [
    {
     "name": "stdout",
     "output_type": "stream",
     "text": [
      "1 {'a': 1}\n",
      "2 {'a': 2}\n",
      "3 {'a': 2, 'c': 1}\n",
      "3 {'c': 1, 'i': 1}\n",
      "3\n"
     ]
    }
   ],
   "source": [
    "#Задача: Для заданной строки найдите длину самой длинной подстроки в ней, содержащей не более K различных символов.\n",
    "\n",
    "def longest_substring_with_k_distinct(str1, k):\n",
    "\n",
    "  window_start = 0\n",
    "  max_length = 0\n",
    "  char_frequency = {}\n",
    "\n",
    "  # в следующем цикле мы попробуем расширить диапазон [window_start, window_end]\n",
    "  for window_end in range(len(str1)):\n",
    "    right_char = str1[window_end]\n",
    "    if right_char not in char_frequency:\n",
    "      char_frequency[right_char] = 0\n",
    "    char_frequency[right_char] += 1\n",
    "\n",
    "    # сжимаем скользящее окно до тех пор, пока не останется \"k\" различных символов в char_frequency\n",
    "    while len(char_frequency) > k:\n",
    "      left_char = str1[window_start]\n",
    "      char_frequency[left_char] -= 1\n",
    "      if char_frequency[left_char] == 0:\n",
    "        del char_frequency[left_char]\n",
    "      window_start += 1  # сжимаем скользящее окно\n",
    "    # запомнить максимальную длину до сих пор\n",
    "\n",
    "    max_length = max(max_length, window_end-window_start + 1)\n",
    "    print(max_length, char_frequency)\n",
    "  return max_length\n",
    "\n",
    "s = 'aaci'\n",
    "\n",
    "print(longest_substring_with_k_distinct(s,k=2))"
   ]
  },
  {
   "cell_type": "code",
   "execution_count": 39,
   "metadata": {
    "colab": {
     "base_uri": "https://localhost:8080/"
    },
    "id": "8oTKUWdsRsAn",
    "outputId": "0c78d604-92ae-40a5-ccd5-738e921a309c",
    "scrolled": false
   },
   "outputs": [
    {
     "name": "stdout",
     "output_type": "stream",
     "text": [
      "['I', 'need', 'to', 'work', 'very', 'hard', 'to', 'learn', 'more', 'about', 'algorithms', 'in', 'Python']\n",
      "[1, 4, 2, 4, 4, 4, 2, 5, 4, 5, 10, 2, 6]\n",
      "53 13\n"
     ]
    },
    {
     "data": {
      "text/plain": [
       "4.08"
      ]
     },
     "execution_count": 39,
     "metadata": {},
     "output_type": "execute_result"
    }
   ],
   "source": [
    "# Задача: Для заданного предложения вернуть среднюю длину слова.\n",
    "# Примечание: не забудьте сначала удалить знаки препинания.\n",
    "\n",
    "sentence1 = \"Hi all, my name is Tom...I am originally from Australia.\"\n",
    "sentence2 = \"I need to work very hard to learn more about algorithms in Python!\"\n",
    "\n",
    "def solution(sentence):\n",
    "    for p in \"!?',;.\":\n",
    "        sentence = sentence.replace(p, '')\n",
    "\n",
    "    words = sentence.split()\n",
    "    print(words)\n",
    "    print([len(word) for word in words])\n",
    "    print(sum([len(word) for word in words]),len(words))\n",
    "    return round(sum(len(word) for word in words)/len(words),2)\n",
    "\n",
    "solution(sentence2)"
   ]
  },
  {
   "cell_type": "code",
   "execution_count": 146,
   "metadata": {
    "colab": {
     "base_uri": "https://localhost:8080/"
    },
    "id": "XPlEUOZ1RsDp",
    "outputId": "74c4eb3b-a48b-4f00-8ebd-49be45eeef35"
   },
   "outputs": [
    {
     "data": {
      "text/plain": [
       "-4321"
      ]
     },
     "execution_count": 146,
     "metadata": {},
     "output_type": "execute_result"
    }
   ],
   "source": [
    "# Задача: Получив целое число, вернуть целое число с перевернутыми цифрами.\n",
    "# Примечание. Целое число может быть как положительным, так и отрицательным.\n",
    "\n",
    "\n",
    "def solution(x):\n",
    "    string = str(x)\n",
    "\n",
    "    if string[0] == '-':\n",
    "        return int('-'+string[:0:-1])\n",
    "    else:\n",
    "        return int(string[::-1])\n",
    "\n",
    "solution(-1234)"
   ]
  },
  {
   "cell_type": "code",
   "execution_count": 40,
   "metadata": {
    "colab": {
     "base_uri": "https://localhost:8080/"
    },
    "id": "MC3O99R6STtt",
    "outputId": "56b3cbbe-c825-4828-cd0b-6c550ba28e91"
   },
   "outputs": [
    {
     "name": "stdout",
     "output_type": "stream",
     "text": [
      "0\n"
     ]
    }
   ],
   "source": [
    "# Задача: По заданной строке найти в ней первый неповторяющийся символ и вернуть его индекс.\n",
    "# Если не существует, вернуть -1.\n",
    "# Примечание: все входные строки уже в нижнем регистре.\n",
    "\n",
    "\n",
    "def solution(s):\n",
    "    frequency = {}\n",
    "    for i in s:\n",
    "        if i not in frequency:\n",
    "            frequency[i] = 1\n",
    "        else:\n",
    "            frequency[i] +=1\n",
    "    for i in range(len(s)):\n",
    "        if frequency[s[i]] == 1:\n",
    "            return i\n",
    "    return -1\n",
    "\n",
    "s = 'abbcdderr'\n",
    "\n",
    "print(solution(s))"
   ]
  },
  {
   "cell_type": "markdown",
   "metadata": {
    "id": "exNVhGTmKVrP"
   },
   "source": [
    "**Сценарий**: Предположим, вы сотрудник, который входит в команду организаторов университетского мероприятия. Вы управляете системой регистрации мероприятия, и вам нужно управлять именами участников, проверять, что зарегистрированный студент из вашего университета, и отслеживать общее количество регистраций.\n",
    "\n",
    "Python действительно может эффективно решить эту проблему, создав набор определенных функций для каждой задачи.\n",
    "\n",
    "Вот простая реализация этого сценария:"
   ]
  },
  {
   "cell_type": "code",
   "execution_count": 42,
   "metadata": {
    "colab": {
     "base_uri": "https://localhost:8080/"
    },
    "id": "sVd40dn7KVOs",
    "outputId": "b3f2c11d-2b65-4498-fd68-0244ca663903"
   },
   "outputs": [
    {
     "name": "stdout",
     "output_type": "stream",
     "text": [
      "Студент John Doe успешно зарегистрирован.\n",
      "Студент Jane Smith не может быть зарегистрирован, так как он не из нашего университета.\n",
      "Общее количество регистраций: 1\n"
     ]
    }
   ],
   "source": [
    "# Лист для хранения имен зарегистрированных участников\n",
    "registrations = []\n",
    "\n",
    "def register_student(name, university):\n",
    "    \"\"\"\n",
    "    Функция для регистрации студента.\n",
    "    Она проверяет, принадлежит ли студент вашему университету, прежде чем зарегистрировать его.\n",
    "    \"\"\"\n",
    "    if verify_university(university):\n",
    "        registrations.append(name)\n",
    "        print(f\"Студент {name} успешно зарегистрирован.\")\n",
    "    else:\n",
    "        print(f\"Студент {name} не может быть зарегистрирован, так как он не из нашего университета.\")\n",
    "\n",
    "def verify_university(university):\n",
    "    \"\"\"\n",
    "    Функция для проверки, принадлежит ли студент вашему университету.\n",
    "    Здесь 'Innopol' - это название вашего университета.\n",
    "    \"\"\"\n",
    "    return university.lower() == 'innopol' #True False\n",
    "\n",
    "def total_registrations():\n",
    "    \"\"\"Функция для подсчета общего числа регистраций.\"\"\"\n",
    "    return len(registrations)\n",
    "\n",
    "# Пример использования этих функций:\n",
    "\n",
    "register_student('John Doe', 'Innopol')\n",
    "register_student('Jane Smith', 'Another University')\n",
    "\n",
    "print(f\"Общее количество регистраций: {total_registrations()}\")"
   ]
  },
  {
   "cell_type": "markdown",
   "metadata": {
    "id": "L3f8yjzEKqR6"
   },
   "source": [
    "**Расширенный сценарий**. Теперь представьте, что на вашем мероприятии присутствуют разные типы участников: студенты, сотрудники и гости. Всем им необходимо зарегистрироваться для участия в мероприятии, но требования к регистрации различаются для каждого типа участников. Кроме того, каждый тип участников имеет ограничение на количество регистраций.\n",
    "\n",
    "В этом случае вам нужно будет расширить свой предыдущий код, чтобы он соответствовал этим дополнительным требованиям.\n",
    "\n",
    "Вот как это сделать:"
   ]
  },
  {
   "cell_type": "code",
   "execution_count": 43,
   "metadata": {
    "colab": {
     "base_uri": "https://localhost:8080/"
    },
    "id": "XwJ4aqx6KVR0",
    "outputId": "9515afc5-bd96-4359-d54f-f7f6b863a6a5"
   },
   "outputs": [
    {
     "name": "stdout",
     "output_type": "stream",
     "text": [
      "Студент John Doe успешно зарегистрирован.\n",
      "Студент Jane Smith не может быть зарегистрирован, так как он не из нашего университета.\n",
      "Сотрудник Mary Johnson успешно зарегистрирован.\n",
      "Гость James Brown успешно зарегистрирован.\n",
      "Общее количество регистраций: [1, 1, 1]\n",
      "Количество зарегистрированных студентов: 1\n",
      "Количество зарегистрированных сотрудников: 1\n",
      "Количество зарегистрированных гостей: 1\n"
     ]
    }
   ],
   "source": [
    "# Словарь для хранения зарегистрированных участников каждого типа\n",
    "registrations = {\"students\": [], \"staff\": [], \"guests\": []}\n",
    "\n",
    "# Максимальное количество регистраций для каждого типа участника\n",
    "max_registrations = {\"students\": 200, \"staff\": 50, \"guests\": 100}\n",
    "\n",
    "def register_participant(name, participant_type, university=None):\n",
    "    \"\"\"\n",
    "    Функция для регистрации участника.\n",
    "    Она проверяет тип участника и применяет соответствующие правила регистрации.\n",
    "    \"\"\"\n",
    "    if len(registrations[participant_type]) < max_registrations[participant_type]:\n",
    "        if participant_type == \"students\":\n",
    "            register_student(name, university)\n",
    "        elif participant_type == \"staff\":\n",
    "            register_staff(name)\n",
    "        else:\n",
    "            register_guest(name)\n",
    "    else:\n",
    "        print(f\"Регистрация для {participant_type} закрыта.\")\n",
    "\n",
    "def register_student(name, university):\n",
    "    \"\"\"Функция для регистрации студента. Проверяет, принадлежит ли студент нашему университету.\"\"\"\n",
    "    if verify_university(university):\n",
    "        registrations[\"students\"].append(name)\n",
    "        print(f\"Студент {name} успешно зарегистрирован.\")\n",
    "    else:\n",
    "        print(f\"Студент {name} не может быть зарегистрирован, так как он не из нашего университета.\")\n",
    "\n",
    "def register_staff(name):\n",
    "    \"\"\"Функция для регистрации сотрудника.\"\"\"\n",
    "    registrations[\"staff\"].append(name)\n",
    "    print(f\"Сотрудник {name} успешно зарегистрирован.\")\n",
    "\n",
    "def register_guest(name):\n",
    "    \"\"\"Функция для регистрации гостя.\"\"\"\n",
    "    registrations[\"guests\"].append(name)\n",
    "    print(f\"Гость {name} успешно зарегистрирован.\")\n",
    "\n",
    "def verify_university(university):\n",
    "    \"\"\"Функция для проверки, принадлежит ли студент нашему университету.\"\"\"\n",
    "    return university.lower() == 'my university'\n",
    "\n",
    "def total_registrations():\n",
    "    \"\"\"Функция для подсчета общего числа регистраций.\"\"\"\n",
    "    total = [len(v) for v in registrations.values() if v is not None]\n",
    "    return total\n",
    "\n",
    "# Пример использования этих функций:\n",
    "\n",
    "register_participant('John Doe', 'students', 'My University')\n",
    "register_participant('Jane Smith', 'students', 'Another University')\n",
    "register_participant('Mary Johnson', 'staff')\n",
    "register_participant('James Brown', 'guests')\n",
    "\n",
    "\n",
    "print(f\"Общее количество регистраций: {total_registrations()}\")\n",
    "print(f\"Количество зарегистрированных студентов: {len(registrations['students'])}\")\n",
    "print(f\"Количество зарегистрированных сотрудников: {len(registrations['staff'])}\")\n",
    "print(f\"Количество зарегистрированных гостей: {len(registrations['guests'])}\")"
   ]
  },
  {
   "cell_type": "code",
   "execution_count": 44,
   "metadata": {
    "colab": {
     "base_uri": "https://localhost:8080/"
    },
    "id": "ee0bJxIKPQvK",
    "outputId": "59ceb6a6-b109-4c3d-ab58-87b6b1413c3a"
   },
   "outputs": [
    {
     "name": "stdout",
     "output_type": "stream",
     "text": [
      "Opened database successfully\n",
      "Table created successfully\n"
     ]
    }
   ],
   "source": [
    "#создаем базу данных и таблицу\n",
    "import sqlite3\n",
    "\n",
    "conn = sqlite3.connect('test.db')\n",
    "print(\"Opened database successfully\");\n",
    "\n",
    "conn.execute('''\n",
    "CREATE TABLE IF NOT EXISTS team_data(\n",
    "                      team text, \n",
    "                      country text, \n",
    "                      season integer, \n",
    "                      total_goals integer);''')\n",
    "\n",
    "conn.commit()\n",
    "\n",
    "print(\"Table created successfully\");\n",
    "\n",
    "#conn.close()"
   ]
  },
  {
   "cell_type": "code",
   "execution_count": 45,
   "metadata": {
    "colab": {
     "base_uri": "https://localhost:8080/",
     "height": 92
    },
    "id": "a5-4ih-ea37Z",
    "outputId": "6a830fae-3547-4c79-a112-e02844d3ff61"
   },
   "outputs": [],
   "source": [
    "conn = sqlite3.connect('test.db')\n",
    "\n",
    "conn.execute('''\n",
    "CREATE TABLE IF NOT EXISTS team_players(\n",
    "                      team text, \n",
    "                      country text, \n",
    "                      player text, \n",
    "                      goals integer);''')\n",
    "\n",
    "conn.commit()"
   ]
  },
  {
   "cell_type": "code",
   "execution_count": 46,
   "metadata": {
    "colab": {
     "base_uri": "https://localhost:8080/",
     "height": 92
    },
    "id": "0FmFgfaTbZO6",
    "outputId": "73fe1d71-822d-4456-cb75-9acb93f345cf"
   },
   "outputs": [],
   "source": [
    "# Добавляем значения\n",
    "\n",
    "conn.execute(\"INSERT INTO team_data VALUES('Real Madrid', 'Spain', 2019, 53);\")\n",
    "conn.execute(\"INSERT INTO team_data VALUES('Barcelona', 'Spain', 2019, 47);\")\n",
    "conn.execute(\"INSERT INTO team_data VALUES('Arsenal', 'UK', 2019, 52);\")\n",
    "conn.execute(\"INSERT INTO team_data VALUES('Real Madrid', 'Spain', 2018, 49);\")\n",
    "conn.execute(\"INSERT INTO team_data VALUES('Barcelona', 'Spain', 2018, 45);\")\n",
    "conn.execute(\"INSERT INTO team_data VALUES('Arsenal', 'UK', 2018, 50 );\")\n",
    "\n",
    "\n",
    "conn.execute(\"INSERT INTO team_players VALUES('Real Madrid', 'Spain', 'Huan', 10);\")\n",
    "conn.execute(\"INSERT INTO team_players VALUES('Barcelona', 'Spain', 'Honsales', 10);\")\n",
    "conn.execute(\"INSERT INTO team_players VALUES('Arsenal', 'UK', 'Bernd Leno', 5);\")\n",
    "conn.execute(\"INSERT INTO team_players VALUES('Real Madrid', 'Eder Militan', 2018, 4);\")\n",
    "conn.execute(\"INSERT INTO team_players VALUES('Barcelona', 'Spain', 'Nelsen Semedu', 4);\")\n",
    "conn.execute(\"INSERT INTO team_players VALUES('Arsenal', 'UK', 'Rob Holding', 5 );\")\n",
    "\n",
    "conn.commit()"
   ]
  },
  {
   "cell_type": "code",
   "execution_count": 47,
   "metadata": {
    "colab": {
     "base_uri": "https://localhost:8080/"
    },
    "id": "SbRfVF-IPa7y",
    "outputId": "830048e5-58a0-4759-a90c-59ac3ccba4de"
   },
   "outputs": [
    {
     "data": {
      "text/plain": [
       "[('Real Madrid', 'Spain', 'Huan', 10),\n",
       " ('Barcelona', 'Spain', 'Honsales', 10),\n",
       " ('Arsenal', 'UK', 'Bernd Leno', 5),\n",
       " ('Real Madrid', 'Eder Militan', '2018', 4),\n",
       " ('Barcelona', 'Spain', 'Nelsen Semedu', 4),\n",
       " ('Arsenal', 'UK', 'Rob Holding', 5)]"
      ]
     },
     "execution_count": 47,
     "metadata": {},
     "output_type": "execute_result"
    }
   ],
   "source": [
    "#Представления\n",
    "\n",
    "cur = conn.execute(\"SELECT * FROM team_players;\")\n",
    "\n",
    "cur.fetchall()\n"
   ]
  },
  {
   "cell_type": "code",
   "execution_count": 48,
   "metadata": {
    "colab": {
     "base_uri": "https://localhost:8080/",
     "height": 93
    },
    "id": "raslfjbEPa6h",
    "outputId": "c7bb8ec7-cc08-4b67-cf56-32b90b7bd69a"
   },
   "outputs": [
    {
     "data": {
      "text/plain": [
       "[(53, 'Real Madrid'),\n",
       " (47, 'Barcelona'),\n",
       " (52, 'Arsenal'),\n",
       " (49, 'Real Madrid'),\n",
       " (45, 'Barcelona')]"
      ]
     },
     "execution_count": 48,
     "metadata": {},
     "output_type": "execute_result"
    }
   ],
   "source": [
    "#Выборки\n",
    "\n",
    "cur = conn.execute(\"SELECT total_goals, team FROM team_data WHERE country != 'UK' OR total_goals> 50 ;\")\n",
    "\n",
    "cur.fetchall()"
   ]
  },
  {
   "cell_type": "code",
   "execution_count": 49,
   "metadata": {
    "id": "JPaERJYrdmL_"
   },
   "outputs": [
    {
     "name": "stdout",
     "output_type": "stream",
     "text": [
      "('Arsenal', 'UK', 51.0)\n",
      "('Barcelona', 'Spain', 46.0)\n",
      "('Real Madrid', 'Spain', 51.0)\n"
     ]
    }
   ],
   "source": [
    "# Вычисляем среднее\n",
    "\n",
    "conn = sqlite3.connect('test.db')\n",
    "\n",
    "cursor = conn.execute(''' SELECT team,country,\n",
    "                            AVG(total_goals) AS avg_goals\n",
    "                          FROM team_data\n",
    "                          GROUP BY team;''')\n",
    "\n",
    "for row in cursor:\n",
    "  print(row)\n",
    "conn.close()"
   ]
  },
  {
   "cell_type": "code",
   "execution_count": 50,
   "metadata": {},
   "outputs": [
    {
     "name": "stdout",
     "output_type": "stream",
     "text": [
      "('Arsenal', 51.0)\n",
      "('Real Madrid', 51.0)\n"
     ]
    }
   ],
   "source": [
    "# Неправильный запрос\n",
    "\n",
    "conn = sqlite3.connect('test.db')\n",
    "\n",
    "cursor = conn.execute(''' SELECT team AS team_name ,\n",
    "                            AVG(total_goals) AS avg_goals\n",
    "                          FROM team_data                          \n",
    "                          GROUP BY team\n",
    "                          HAVING avg_goals > 50;''')\n",
    "\n",
    "for row in cursor:\n",
    "  print(row)\n",
    "conn.close()"
   ]
  },
  {
   "cell_type": "code",
   "execution_count": 51,
   "metadata": {},
   "outputs": [
    {
     "name": "stdout",
     "output_type": "stream",
     "text": [
      "('Arsenal', 51.0)\n",
      "('Real Madrid', 51.0)\n"
     ]
    }
   ],
   "source": [
    "# Правильный запрос\n",
    "\n",
    "conn = sqlite3.connect('test.db')\n",
    "\n",
    "cursor = conn.execute(''' SELECT team_name, avg_goals\n",
    "                          FROM (\n",
    "\n",
    "                          -- Here we make our sub-query:\n",
    "                            SELECT team AS team_name,\n",
    "                            AVG(total_goals) AS avg_goals\n",
    "                            FROM team_data\n",
    "                            GROUP BY team) tp\n",
    "                          -- End of the sub-query\n",
    "                          \n",
    "                          WHERE avg_goals > 50;''')\n",
    "\n",
    "for row in cursor:\n",
    "  print(row)\n",
    "conn.close()"
   ]
  },
  {
   "cell_type": "code",
   "execution_count": 52,
   "metadata": {
    "scrolled": false
   },
   "outputs": [
    {
     "data": {
      "text/plain": [
       "[('Real Madrid', 'Spain', '2018', 53, 4),\n",
       " ('Real Madrid', 'Spain', 'Huan', 53, 10),\n",
       " ('Barcelona', 'Spain', 'Honsales', 47, 10),\n",
       " ('Barcelona', 'Spain', 'Nelsen Semedu', 47, 4),\n",
       " ('Arsenal', 'UK', 'Bernd Leno', 52, 5),\n",
       " ('Arsenal', 'UK', 'Rob Holding', 52, 5),\n",
       " ('Real Madrid', 'Spain', '2018', 49, 4),\n",
       " ('Real Madrid', 'Spain', 'Huan', 49, 10),\n",
       " ('Barcelona', 'Spain', 'Honsales', 45, 10),\n",
       " ('Barcelona', 'Spain', 'Nelsen Semedu', 45, 4),\n",
       " ('Arsenal', 'UK', 'Bernd Leno', 50, 5),\n",
       " ('Arsenal', 'UK', 'Rob Holding', 50, 5)]"
      ]
     },
     "execution_count": 52,
     "metadata": {},
     "output_type": "execute_result"
    }
   ],
   "source": [
    "#Joins\n",
    "\n",
    "conn = sqlite3.connect('test.db')\n",
    "\n",
    "cursor = conn.execute(''' SELECT team_data.team,team_data.country,player,total_goals, goals\n",
    "                          \n",
    "                          FROM team_data\n",
    "                          INNER JOIN team_players on team_data.team = team_players.team;''')\n",
    "\n",
    "cursor.fetchall()"
   ]
  },
  {
   "cell_type": "code",
   "execution_count": 53,
   "metadata": {},
   "outputs": [],
   "source": [
    "# Закрытие соединения\n",
    "conn.close()"
   ]
  },
  {
   "cell_type": "markdown",
   "metadata": {
    "id": "g8HxWLhZj3Xg"
   },
   "source": [
    "## Чтение данных из таблицы с помощью Pandas"
   ]
  },
  {
   "cell_type": "code",
   "execution_count": 54,
   "metadata": {
    "colab": {
     "base_uri": "https://localhost:8080/",
     "height": 442
    },
    "id": "aY1LSUFgj1h6",
    "outputId": "7d64c05d-f5b7-4fa4-e149-79066afba074"
   },
   "outputs": [
    {
     "name": "stdout",
     "output_type": "stream",
     "text": [
      "          team country    player  goals\n",
      "0  Real Madrid   Spain      Huan     10\n",
      "1    Barcelona   Spain  Honsales     10\n"
     ]
    }
   ],
   "source": [
    "import pandas as pd\n",
    "import sqlite3\n",
    "\n",
    "# Подключение к базе данных\n",
    "con = sqlite3.connect(\"test.db\")\n",
    "\n",
    "# Чтение данных из таблицы с помощью Pandas\n",
    "df = pd.read_sql_query(\"SELECT * from team_players WHERE goals > 5\", con)\n",
    "\n",
    "# Вывод данных\n",
    "print(df)\n",
    "\n",
    "# Закрытие соединения\n",
    "\n",
    "\n",
    "con.close()"
   ]
  },
  {
   "cell_type": "code",
   "execution_count": 55,
   "metadata": {
    "colab": {
     "base_uri": "https://localhost:8080/",
     "height": 112
    },
    "id": "UY4ENrqfj1zM",
    "outputId": "cb615ac3-4694-4fb5-809d-9fec1c30319d",
    "scrolled": true
   },
   "outputs": [
    {
     "data": {
      "application/vnd.microsoft.datawrangler.viewer.v0+json": {
       "columns": [
        {
         "name": "index",
         "rawType": "int64",
         "type": "integer"
        },
        {
         "name": "team",
         "rawType": "object",
         "type": "string"
        },
        {
         "name": "country",
         "rawType": "object",
         "type": "string"
        },
        {
         "name": "player",
         "rawType": "object",
         "type": "string"
        },
        {
         "name": "goals",
         "rawType": "int64",
         "type": "integer"
        }
       ],
       "ref": "d6c345b5-e3ff-4989-ad03-dc600939d828",
       "rows": [
        [
         "0",
         "Real Madrid",
         "Spain",
         "Huan",
         "10"
        ],
        [
         "1",
         "Barcelona",
         "Spain",
         "Honsales",
         "10"
        ]
       ],
       "shape": {
        "columns": 4,
        "rows": 2
       }
      },
      "text/html": [
       "<div>\n",
       "<style scoped>\n",
       "    .dataframe tbody tr th:only-of-type {\n",
       "        vertical-align: middle;\n",
       "    }\n",
       "\n",
       "    .dataframe tbody tr th {\n",
       "        vertical-align: top;\n",
       "    }\n",
       "\n",
       "    .dataframe thead th {\n",
       "        text-align: right;\n",
       "    }\n",
       "</style>\n",
       "<table border=\"1\" class=\"dataframe\">\n",
       "  <thead>\n",
       "    <tr style=\"text-align: right;\">\n",
       "      <th></th>\n",
       "      <th>team</th>\n",
       "      <th>country</th>\n",
       "      <th>player</th>\n",
       "      <th>goals</th>\n",
       "    </tr>\n",
       "  </thead>\n",
       "  <tbody>\n",
       "    <tr>\n",
       "      <th>0</th>\n",
       "      <td>Real Madrid</td>\n",
       "      <td>Spain</td>\n",
       "      <td>Huan</td>\n",
       "      <td>10</td>\n",
       "    </tr>\n",
       "    <tr>\n",
       "      <th>1</th>\n",
       "      <td>Barcelona</td>\n",
       "      <td>Spain</td>\n",
       "      <td>Honsales</td>\n",
       "      <td>10</td>\n",
       "    </tr>\n",
       "  </tbody>\n",
       "</table>\n",
       "</div>"
      ],
      "text/plain": [
       "          team country    player  goals\n",
       "0  Real Madrid   Spain      Huan     10\n",
       "1    Barcelona   Spain  Honsales     10"
      ]
     },
     "execution_count": 55,
     "metadata": {},
     "output_type": "execute_result"
    }
   ],
   "source": [
    "df.head()"
   ]
  }
 ],
 "metadata": {
  "colab": {
   "provenance": []
  },
  "kernelspec": {
   "display_name": ".venv",
   "language": "python",
   "name": "python3"
  },
  "language_info": {
   "codemirror_mode": {
    "name": "ipython",
    "version": 3
   },
   "file_extension": ".py",
   "mimetype": "text/x-python",
   "name": "python",
   "nbconvert_exporter": "python",
   "pygments_lexer": "ipython3",
   "version": "3.13.3"
  },
  "widgets": {
   "application/vnd.jupyter.widget-state+json": {
    "2f8c784c0f6d4b878e126e516c2b0023": {
     "model_module": "@jupyter-widgets/base",
     "model_module_version": "1.2.0",
     "model_name": "LayoutModel",
     "state": {
      "_model_module": "@jupyter-widgets/base",
      "_model_module_version": "1.2.0",
      "_model_name": "LayoutModel",
      "_view_count": null,
      "_view_module": "@jupyter-widgets/base",
      "_view_module_version": "1.2.0",
      "_view_name": "LayoutView",
      "align_content": null,
      "align_items": null,
      "align_self": null,
      "border": null,
      "bottom": null,
      "display": null,
      "flex": null,
      "flex_flow": null,
      "grid_area": null,
      "grid_auto_columns": null,
      "grid_auto_flow": null,
      "grid_auto_rows": null,
      "grid_column": null,
      "grid_gap": null,
      "grid_row": null,
      "grid_template_areas": null,
      "grid_template_columns": null,
      "grid_template_rows": null,
      "height": null,
      "justify_content": null,
      "justify_items": null,
      "left": null,
      "margin": null,
      "max_height": null,
      "max_width": null,
      "min_height": null,
      "min_width": null,
      "object_fit": null,
      "object_position": null,
      "order": null,
      "overflow": null,
      "overflow_x": null,
      "overflow_y": null,
      "padding": null,
      "right": null,
      "top": null,
      "visibility": null,
      "width": null
     }
    },
    "733a42b8e9a442f9b825db6ec01cc11c": {
     "model_module": "@jupyter-widgets/controls",
     "model_module_version": "1.5.0",
     "model_name": "ButtonStyleModel",
     "state": {
      "_model_module": "@jupyter-widgets/controls",
      "_model_module_version": "1.5.0",
      "_model_name": "ButtonStyleModel",
      "_view_count": null,
      "_view_module": "@jupyter-widgets/base",
      "_view_module_version": "1.2.0",
      "_view_name": "StyleView",
      "button_color": null,
      "font_weight": ""
     }
    },
    "90a88a1d42034a47a991fea3d904581e": {
     "model_module": "@jupyter-widgets/controls",
     "model_module_version": "1.5.0",
     "model_name": "ButtonModel",
     "state": {
      "_dom_classes": [],
      "_model_module": "@jupyter-widgets/controls",
      "_model_module_version": "1.5.0",
      "_model_name": "ButtonModel",
      "_view_count": null,
      "_view_module": "@jupyter-widgets/controls",
      "_view_module_version": "1.5.0",
      "_view_name": "ButtonView",
      "button_style": "",
      "description": "Click Me!",
      "disabled": false,
      "icon": "",
      "layout": "IPY_MODEL_d5e22d81df7d420c8eaa91d782689899",
      "style": "IPY_MODEL_733a42b8e9a442f9b825db6ec01cc11c",
      "tooltip": ""
     }
    },
    "d5e22d81df7d420c8eaa91d782689899": {
     "model_module": "@jupyter-widgets/base",
     "model_module_version": "1.2.0",
     "model_name": "LayoutModel",
     "state": {
      "_model_module": "@jupyter-widgets/base",
      "_model_module_version": "1.2.0",
      "_model_name": "LayoutModel",
      "_view_count": null,
      "_view_module": "@jupyter-widgets/base",
      "_view_module_version": "1.2.0",
      "_view_name": "LayoutView",
      "align_content": null,
      "align_items": null,
      "align_self": null,
      "border": null,
      "bottom": null,
      "display": null,
      "flex": null,
      "flex_flow": null,
      "grid_area": null,
      "grid_auto_columns": null,
      "grid_auto_flow": null,
      "grid_auto_rows": null,
      "grid_column": null,
      "grid_gap": null,
      "grid_row": null,
      "grid_template_areas": null,
      "grid_template_columns": null,
      "grid_template_rows": null,
      "height": null,
      "justify_content": null,
      "justify_items": null,
      "left": null,
      "margin": null,
      "max_height": null,
      "max_width": null,
      "min_height": null,
      "min_width": null,
      "object_fit": null,
      "object_position": null,
      "order": null,
      "overflow": null,
      "overflow_x": null,
      "overflow_y": null,
      "padding": null,
      "right": null,
      "top": null,
      "visibility": null,
      "width": null
     }
    },
    "df5624cb60d149028c78fefa03953002": {
     "model_module": "@jupyter-widgets/output",
     "model_module_version": "1.0.0",
     "model_name": "OutputModel",
     "state": {
      "_dom_classes": [],
      "_model_module": "@jupyter-widgets/output",
      "_model_module_version": "1.0.0",
      "_model_name": "OutputModel",
      "_view_count": null,
      "_view_module": "@jupyter-widgets/output",
      "_view_module_version": "1.0.0",
      "_view_name": "OutputView",
      "layout": "IPY_MODEL_2f8c784c0f6d4b878e126e516c2b0023",
      "msg_id": "",
      "outputs": [
       {
        "name": "stdout",
        "output_type": "stream",
        "text": [
         "Button clicked!\n"
        ]
       }
      ]
     }
    }
   }
  }
 },
 "nbformat": 4,
 "nbformat_minor": 1
}
