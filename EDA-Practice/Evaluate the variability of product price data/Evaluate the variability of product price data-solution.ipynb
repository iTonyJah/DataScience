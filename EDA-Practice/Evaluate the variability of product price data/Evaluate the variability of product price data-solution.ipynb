{
 "cells": [
  {
   "cell_type": "markdown",
   "id": "97d0bd1b",
   "metadata": {},
   "source": [
    "# Оцените вариабельность данных о цене товара\n",
    "## Условие задачи\n",
    "\n",
    "Вы работаете в компании, которая занимается продажей товаров. Вам нужно оценить вариабельность цены. \n",
    "\n",
    "**Цель проекта:**\n",
    "Оценить основные характеристики цены товара: среднее, стандартное отклонение, размах, квартили.\n",
    "\n",
    "**Алгоритм решения:**\n",
    "\n",
    "1. Загрузите данные из CSV-файла и ознакомьтесь с их структурой. \n",
    "2. Проведите предварительный анализ данных, включающий проверку наличия пропущенных значений.\n",
    "3. Оцените основные статистические характеристики данных, такие как среднее значение, стандартное отклонение, размах, квартили.\n",
    "4. Визуализируйте данные, чтобы получить представление о вариабельности и распределении данных.\n",
    "5. Сделайте выводы на основе проведенного анализа.\n",
    "\n",
    "**Пример входных данных (sales_data.csv):**\n",
    "\n",
    "[data.csv](https://github.com/Eduson-DataScience/DataScience/blob/main/EDA-Practice/Evaluate%20the%20variability%20of%20product%20price%20data/data.csv)\n",
    "\n",
    "# Подсказки\n",
    "\n",
    "- Используйте библиотеки Pandas, NumPy и Matplotlib для загрузки, обработки и визуализации данных.\n",
    "- Документируйте каждый шаг анализа данных и комментируйте результаты для лучшего понимания вашего подхода и выводов.\n",
    "- Используйте графические инструменты, такие как гистограммы и ящик с усами, для визуализации данных и выявления особенностей и вариабельности.\n",
    "- Выводите и анализируйте основные статистические характеристики данных, чтобы оценить их вариабельность и распределение."
   ]
  },
  {
   "cell_type": "code",
   "execution_count": 3,
   "id": "c534158e",
   "metadata": {
    "vscode": {
     "languageId": "plaintext"
    }
   },
   "outputs": [
    {
     "name": "stdout",
     "output_type": "stream",
     "text": [
      "Пропущенные значения:\n",
      "Price    0\n",
      "Value    0\n",
      "dtype: int64\n",
      "    Price  Value\n",
      "0      10      2\n",
      "1      15     25\n",
      "2      20      3\n",
      "3      25     35\n",
      "4       3      4\n",
      "5      17     18\n",
      "6       1      7\n",
      "7      15     25\n",
      "8      13      4\n",
      "9      11      2\n",
      "10     14      8\n",
      "11      9     23\n",
      "12     11      3\n",
      "13     14     21\n",
      "14     24     25\n",
      "15     28     32\n",
      "16      3      5\n",
      "17     18     18\n",
      "18      2      7\n",
      "19     19     25\n",
      "Статистические характеристики:\n",
      "           Price    Value\n",
      "count  20.000000  20.0000\n",
      "mean   13.600000  14.6000\n",
      "std     7.666743  11.1185\n",
      "min     1.000000   2.0000\n",
      "25%     9.750000   4.0000\n",
      "50%    14.000000  13.0000\n",
      "75%    18.250000  25.0000\n",
      "max    28.000000  35.0000\n"
     ]
    },
    {
     "data": {
      "image/png": "[encoded data removed]",
      "text/plain": [
       "<Figure size 700x400 with 1 Axes>"
      ]
     },
     "metadata": {},
     "output_type": "display_data"
    }
   ],
   "source": [
    "import pandas as pd\n",
    "import numpy as np\n",
    "import matplotlib.pyplot as plt\n",
    "\n",
    "# Загрузка данных из CSV-файла\n",
    "data = pd.read_csv('data.csv')\n",
    "\n",
    "# Предварительный анализ данных\n",
    "# Проверка наличия пропущенных значений\n",
    "missing_values = data.isnull().sum()\n",
    "print(\"Пропущенные значения:\")\n",
    "print(missing_values)\n",
    "\n",
    "print(data)\n",
    "\n",
    "# Оценка статистических характеристик данных\n",
    "statistics = data.describe()\n",
    "print(\"Статистические характеристики:\")\n",
    "print(statistics)\n",
    "\n",
    "# Визуализация данных\n",
    "plt.figure(figsize=(7, 4))\n",
    "plt.hist(data['Price'], bins=10, edgecolor='black')\n",
    "plt.xlabel('Продажи')\n",
    "plt.ylabel('Частота')\n",
    "plt.title('Распределение продаж')\n",
    "plt.show()"
   ]
  },
  {
   "cell_type": "markdown",
   "id": "2e3d0c18",
   "metadata": {},
   "source": [
    "### Выводы анализа:\n",
    "\n",
    "- В данных нет пропущенных значений.\n",
    "- Основные характеристики:\n",
    "- средняя цена 13.6\n",
    "- стандартное отклонение 7.7\n",
    "- 1-й квартиль 9.75\n",
    "- 3-й квартиль 18.25\n",
    "- размах 27\n",
    "- межквартильный размах 8.5\n",
    "- Судя по гистограмме, в данных есть выбросы."
   ]
  },
  {
   "cell_type": "markdown",
   "id": "c947f728",
   "metadata": {},
   "source": []
  }
 ],
 "metadata": {
  "kernelspec": {
   "display_name": "Python [conda env:base] *",
   "language": "python",
   "name": "conda-base-py"
  },
  "language_info": {
   "codemirror_mode": {
    "name": "ipython",
    "version": 3
   },
   "file_extension": ".py",
   "mimetype": "text/x-python",
   "name": "python",
   "nbconvert_exporter": "python",
   "pygments_lexer": "ipython3",
   "version": "3.12.7"
  }
 },
 "nbformat": 4,
 "nbformat_minor": 5
}
