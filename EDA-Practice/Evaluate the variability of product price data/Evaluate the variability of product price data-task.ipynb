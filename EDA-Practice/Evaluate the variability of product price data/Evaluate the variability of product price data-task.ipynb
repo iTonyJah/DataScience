{
 "cells": [
  {
   "cell_type": "markdown",
   "id": "97d0bd1b",
   "metadata": {},
   "source": [
    "# Оцените вариабельность данных о цене товара\n",
    "## Условие задачи\n",
    "\n",
    "Вы работаете в компании, которая занимается продажей товаров. Вам нужно оценить вариабельность цены. \n",
    "\n",
    "**Цель проекта:**\n",
    "Оценить основные характеристики цены товара: среднее, стандартное отклонение, размах, квартили.\n",
    "\n",
    "**Алгоритм решения:**\n",
    "\n",
    "1. Загрузите данные из CSV-файла и ознакомьтесь с их структурой. \n",
    "2. Проведите предварительный анализ данных, включающий проверку наличия пропущенных значений.\n",
    "3. Оцените основные статистические характеристики данных, такие как среднее значение, стандартное отклонение, размах, квартили.\n",
    "4. Визуализируйте данные, чтобы получить представление о вариабельности и распределении данных.\n",
    "5. Сделайте выводы на основе проведенного анализа.\n",
    "\n",
    "**Пример входных данных (sales_data.csv):**\n",
    "\n",
    "[data.csv](https://github.com/Eduson-DataScience/DataScience/blob/main/EDA-Practice/Evaluate%20the%20variability%20of%20product%20price%20data/data.csv)\n",
    "\n",
    "# Подсказки\n",
    "\n",
    "- Используйте библиотеки Pandas, NumPy и Matplotlib для загрузки, обработки и визуализации данных.\n",
    "- Документируйте каждый шаг анализа данных и комментируйте результаты для лучшего понимания вашего подхода и выводов.\n",
    "- Используйте графические инструменты, такие как гистограммы и ящик с усами, для визуализации данных и выявления особенностей и вариабельности.\n",
    "- Выводите и анализируйте основные статистические характеристики данных, чтобы оценить их вариабельность и распределение."
   ]
  },
  {
   "cell_type": "code",
   "execution_count": 53,
   "id": "cdabf648-64d4-4e0b-a545-109e092f27bb",
   "metadata": {},
   "outputs": [],
   "source": [
    "import pandas as pd\n",
    "import numpy as np\n",
    "import matplotlib.pyplot as plt\n",
    "import seaborn as sns\n",
    "from tabulate import tabulate"
   ]
  },
  {
   "cell_type": "code",
   "execution_count": 8,
   "id": "c9ee7b61-da04-4cbc-8c98-a2780ad0071c",
   "metadata": {},
   "outputs": [
    {
     "data": {
      "text/html": [
       "<div>\n",
       "<style scoped>\n",
       "    .dataframe tbody tr th:only-of-type {\n",
       "        vertical-align: middle;\n",
       "    }\n",
       "\n",
       "    .dataframe tbody tr th {\n",
       "        vertical-align: top;\n",
       "    }\n",
       "\n",
       "    .dataframe thead th {\n",
       "        text-align: right;\n",
       "    }\n",
       "</style>\n",
       "<table border=\"1\" class=\"dataframe\">\n",
       "  <thead>\n",
       "    <tr style=\"text-align: right;\">\n",
       "      <th></th>\n",
       "      <th>Price</th>\n",
       "      <th>Value</th>\n",
       "    </tr>\n",
       "  </thead>\n",
       "  <tbody>\n",
       "    <tr>\n",
       "      <th>0</th>\n",
       "      <td>10</td>\n",
       "      <td>2</td>\n",
       "    </tr>\n",
       "    <tr>\n",
       "      <th>1</th>\n",
       "      <td>15</td>\n",
       "      <td>25</td>\n",
       "    </tr>\n",
       "    <tr>\n",
       "      <th>2</th>\n",
       "      <td>20</td>\n",
       "      <td>3</td>\n",
       "    </tr>\n",
       "    <tr>\n",
       "      <th>3</th>\n",
       "      <td>25</td>\n",
       "      <td>35</td>\n",
       "    </tr>\n",
       "    <tr>\n",
       "      <th>4</th>\n",
       "      <td>3</td>\n",
       "      <td>4</td>\n",
       "    </tr>\n",
       "  </tbody>\n",
       "</table>\n",
       "</div>"
      ],
      "text/plain": [
       "   Price  Value\n",
       "0     10      2\n",
       "1     15     25\n",
       "2     20      3\n",
       "3     25     35\n",
       "4      3      4"
      ]
     },
     "execution_count": 8,
     "metadata": {},
     "output_type": "execute_result"
    }
   ],
   "source": [
    "# загрузим данные и посмотрим их структуру\n",
    "data = pd.read_csv('data.csv')\n",
    "data.head()"
   ]
  },
  {
   "cell_type": "code",
   "execution_count": 43,
   "id": "13a3933d-6112-497c-8f27-5cc4984fea23",
   "metadata": {},
   "outputs": [
    {
     "data": {
      "text/plain": [
       "0     10\n",
       "1     15\n",
       "2     20\n",
       "3     25\n",
       "4      3\n",
       "5     17\n",
       "6      1\n",
       "7     15\n",
       "8     13\n",
       "9     11\n",
       "10    14\n",
       "11     9\n",
       "12    11\n",
       "13    14\n",
       "14    24\n",
       "15    28\n",
       "16     3\n",
       "17    18\n",
       "18     2\n",
       "19    19\n",
       "Name: Price, dtype: int64"
      ]
     },
     "execution_count": 43,
     "metadata": {},
     "output_type": "execute_result"
    }
   ],
   "source": [
    "data['Price']"
   ]
  },
  {
   "cell_type": "code",
   "execution_count": 10,
   "id": "78b2ee4d-462c-4854-9597-a19eb226f8b8",
   "metadata": {},
   "outputs": [
    {
     "data": {
      "text/html": [
       "<div>\n",
       "<style scoped>\n",
       "    .dataframe tbody tr th:only-of-type {\n",
       "        vertical-align: middle;\n",
       "    }\n",
       "\n",
       "    .dataframe tbody tr th {\n",
       "        vertical-align: top;\n",
       "    }\n",
       "\n",
       "    .dataframe thead th {\n",
       "        text-align: right;\n",
       "    }\n",
       "</style>\n",
       "<table border=\"1\" class=\"dataframe\">\n",
       "  <thead>\n",
       "    <tr style=\"text-align: right;\">\n",
       "      <th></th>\n",
       "      <th>Price</th>\n",
       "      <th>Value</th>\n",
       "    </tr>\n",
       "  </thead>\n",
       "  <tbody>\n",
       "    <tr>\n",
       "      <th>count</th>\n",
       "      <td>20.000000</td>\n",
       "      <td>20.0000</td>\n",
       "    </tr>\n",
       "    <tr>\n",
       "      <th>mean</th>\n",
       "      <td>13.600000</td>\n",
       "      <td>14.6000</td>\n",
       "    </tr>\n",
       "    <tr>\n",
       "      <th>std</th>\n",
       "      <td>7.666743</td>\n",
       "      <td>11.1185</td>\n",
       "    </tr>\n",
       "    <tr>\n",
       "      <th>min</th>\n",
       "      <td>1.000000</td>\n",
       "      <td>2.0000</td>\n",
       "    </tr>\n",
       "    <tr>\n",
       "      <th>25%</th>\n",
       "      <td>9.750000</td>\n",
       "      <td>4.0000</td>\n",
       "    </tr>\n",
       "    <tr>\n",
       "      <th>50%</th>\n",
       "      <td>14.000000</td>\n",
       "      <td>13.0000</td>\n",
       "    </tr>\n",
       "    <tr>\n",
       "      <th>75%</th>\n",
       "      <td>18.250000</td>\n",
       "      <td>25.0000</td>\n",
       "    </tr>\n",
       "    <tr>\n",
       "      <th>max</th>\n",
       "      <td>28.000000</td>\n",
       "      <td>35.0000</td>\n",
       "    </tr>\n",
       "  </tbody>\n",
       "</table>\n",
       "</div>"
      ],
      "text/plain": [
       "           Price    Value\n",
       "count  20.000000  20.0000\n",
       "mean   13.600000  14.6000\n",
       "std     7.666743  11.1185\n",
       "min     1.000000   2.0000\n",
       "25%     9.750000   4.0000\n",
       "50%    14.000000  13.0000\n",
       "75%    18.250000  25.0000\n",
       "max    28.000000  35.0000"
      ]
     },
     "execution_count": 10,
     "metadata": {},
     "output_type": "execute_result"
    }
   ],
   "source": [
    "data.describe()"
   ]
  },
  {
   "cell_type": "code",
   "execution_count": 20,
   "id": "9f03afeb-1a6e-49f9-8170-6cb63119a63c",
   "metadata": {},
   "outputs": [
    {
     "name": "stdout",
     "output_type": "stream",
     "text": [
      "| название   |   к-во уник знач |   к-во 0-ых знач |   пустые |   % пустых | тип данн   |\n",
      "|------------+------------------+------------------+----------+------------+------------|\n",
      "| Price      |               16 |                0 |        0 |          0 | int64      |\n",
      "| Value      |               12 |                0 |        0 |          0 | int64      |\n"
     ]
    }
   ],
   "source": [
    "def columnValues(data):\n",
    "    row = [data.nunique(), (data == 0).sum(axis=0), data.isna().sum(), round(data.isna().sum() / len(data) * 100, 1), data.dtypes]\n",
    "    return row\n",
    "\n",
    "data_table = []\n",
    "for column in data:\n",
    "    data_table.append([column] + columnValues(data[column]))\n",
    "\n",
    "print(tabulate(data_table, headers=['название', 'к-во уник знач', 'к-во 0-ых знач', 'пустые','% пустых', 'тип данн'], tablefmt='orgtbl'))"
   ]
  },
  {
   "cell_type": "code",
   "execution_count": 25,
   "id": "881f8e79-6da7-4f93-bcd7-e91f08a9e441",
   "metadata": {},
   "outputs": [
    {
     "name": "stdout",
     "output_type": "stream",
     "text": [
      "Количество строк: 20\n",
      "Количество столбцов: 2\n",
      "Размер DataFrame в памяти: 452 байт\n",
      "Статистика для столбца Price\n",
      "стандартное отклонение 7.666742943937867\n",
      "Минимальное значение: 1\n",
      "Медиана: 14.0\n",
      "Среднее значение: 13.6\n",
      "Максимальное значение: 28\n",
      "10-й персентиль: 2.9000000000000004\n",
      "25-й персентиль: 9.75\n",
      "75-й персентиль: 18.25\n",
      "90-й персентиль: 24.1\n",
      "----------------------------------------------\n"
     ]
    }
   ],
   "source": [
    "num_rows = len(data)\n",
    "num_columns = len(data.columns)\n",
    "print(\"Количество строк:\", num_rows)\n",
    "print(\"Количество столбцов:\", num_columns)\n",
    "\n",
    "# b. Размер DataFrame в оперативной памяти\n",
    "memory_usage = data.memory_usage().sum()\n",
    "print(\"Размер DataFrame в памяти:\", memory_usage, \"байт\")\n",
    "\n",
    "# c. Анализ интервальных переменных\n",
    "numerical_columns = data.select_dtypes(include=[int, float]).columns\n",
    "for column in numerical_columns:\n",
    "    print(\"Статистика для столбца\", column)\n",
    "    print (\"стандартное отклонение\", data[column].std())\n",
    "    print(\"Минимальное значение:\", data[column].min())\n",
    "    print(\"Медиана:\", data[column].median())\n",
    "    print(\"Среднее значение:\", data[column].mean())\n",
    "    print(\"Максимальное значение:\", data[column].max())\n",
    "    print(\"10-й персентиль:\", data[column].quantile(0.1))\n",
    "    print(\"25-й персентиль:\", data[column].quantile(0.25))\n",
    "    print(\"75-й персентиль:\", data[column].quantile(0.75))\n",
    "    print(\"90-й персентиль:\", data[column].quantile(0.9))\n",
    "    print(\"----------------------------------------------\")\n",
    "    # выводим только первую колонку Price\n",
    "    break"
   ]
  },
  {
   "cell_type": "code",
   "execution_count": 59,
   "id": "61717a7a-f803-4598-b9f8-271614e31c6b",
   "metadata": {},
   "outputs": [
    {
     "data": {
      "text/plain": [
       "<Axes: xlabel='Price'>"
      ]
     },
     "execution_count": 59,
     "metadata": {},
     "output_type": "execute_result"
    },
    {
     "data": {
      "image/png": "[encoded data removed]",
      "text/plain": [
       "<Figure size 640x480 with 1 Axes>"
      ]
     },
     "metadata": {},
     "output_type": "display_data"
    }
   ],
   "source": [
    "sns.boxplot(x = data['Price'])"
   ]
  },
  {
   "cell_type": "code",
   "execution_count": 63,
   "id": "1ffd7d2d-210c-4a15-8648-3ac0f3cf328a",
   "metadata": {},
   "outputs": [
    {
     "data": {
      "text/plain": [
       "<Axes: ylabel='Price'>"
      ]
     },
     "execution_count": 63,
     "metadata": {},
     "output_type": "execute_result"
    },
    {
     "data": {
      "image/png": "[encoded data removed]",
      "text/plain": [
       "<Figure size 640x480 with 1 Axes>"
      ]
     },
     "metadata": {},
     "output_type": "display_data"
    }
   ],
   "source": [
    "sns.scatterplot(data=data['Price'])"
   ]
  }
 ],
 "metadata": {
  "kernelspec": {
   "display_name": "Python [conda env:base] *",
   "language": "python",
   "name": "conda-base-py"
  },
  "language_info": {
   "codemirror_mode": {
    "name": "ipython",
    "version": 3
   },
   "file_extension": ".py",
   "mimetype": "text/x-python",
   "name": "python",
   "nbconvert_exporter": "python",
   "pygments_lexer": "ipython3",
   "version": "3.12.7"
  }
 },
 "nbformat": 4,
 "nbformat_minor": 5
}
