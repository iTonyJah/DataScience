{
 "cells": [
  {
   "cell_type": "markdown",
   "id": "97d0bd1b",
   "metadata": {},
   "source": [
    "# Исследуйте распределение данных о клиентах компании\n",
    "## Условие задачи\n",
    "\n",
    "Вы работаете в компании, которая занимается анализом данных. Вам было поручено исследовать распределение данных о клиентах для разработки новой маркетинговой стратегии. Ваша цель — понять основные характеристики и особенности распределения данных, чтобы определить целевую аудиторию и разработать эффективные маркетинговые кампании.\n",
    "\n",
    "**Алгоритм решения:**\n",
    "\n",
    "1. Загрузите данные из файла CSV.\n",
    "2. Проведите предварительный анализ данных. Он включает 3 шага.\n",
    "    1. Изучите структуру данных, проверьте типы переменных.\n",
    "    2. Оцените пропущенные значения и примите решения о их обработке.\n",
    "    3. Проверьте аномальные значения и выбросы.\n",
    "3. Исследуйте распределение данных. Для этого используйте следующие методы:\n",
    "    - Постройте гистограмму и оцените форму распределения.\n",
    "    - Рассчитайте описательные статистики: среднее значение, стандартное отклонение и т.д.\n",
    "    - Постройте ящик с усами для выявления выбросов и аномальных значений.\n",
    "    - Проверьте нормальность распределения с помощью статистических тестов.\n",
    "4. Проанализируйте полученные результаты и сделайте выводы о распределении данных.\n",
    "\n",
    "**Пример входных данных (data_test.csv):**\n",
    "\n",
    "[data_test.csv](https://github.com/Eduson-DataScience/DataScience/blob/main/EDA-Practice/Explore%20distribution/data_test.csv)\n",
    "\n",
    "## Подсказки\n",
    "\n",
    "- Проверьте структуру данных и типы переменных с помощью функций **`head()`** и **`dtypes`**.\n",
    "- Для обнаружения пропущенных значений используйте функцию **`isnull().sum()`**.\n",
    "- Используйте функцию **`describe()`** для получения описательных статистик данных.\n",
    "- Для построения гистограммы и ящика с усами используйте библиотеку **`seaborn`**.\n",
    "- Для проверки нормальности распределения используйте функцию **`shapiro()`** из модуля **`scipy.stats`**."
   ]
  },
  {
   "cell_type": "code",
   "execution_count": 58,
   "id": "6939b66d-2159-497e-8115-137161dcbdb3",
   "metadata": {},
   "outputs": [],
   "source": [
    "import pandas as pd\n",
    "import seaborn as sns\n",
    "from scipy.stats import shapiro\n"
   ]
  },
  {
   "cell_type": "code",
   "execution_count": 38,
   "id": "2a40643d-5bfc-415f-ac0b-f8975ea7f8fa",
   "metadata": {},
   "outputs": [
    {
     "data": {
      "text/plain": [
       "((49, 1),\n",
       "    variable\n",
       " 0        16\n",
       " 1        15\n",
       " 2        12\n",
       " 3         8\n",
       " 4        17,\n",
       " variable    int64\n",
       " dtype: object,\n",
       "         variable\n",
       " count  49.000000\n",
       " mean   21.061224\n",
       " std     9.577335\n",
       " min     5.000000\n",
       " 25%    15.000000\n",
       " 50%    20.000000\n",
       " 75%    26.000000\n",
       " max    60.000000)"
      ]
     },
     "execution_count": 38,
     "metadata": {},
     "output_type": "execute_result"
    }
   ],
   "source": [
    "data = pd.read_csv('data_test.csv')\n",
    "data.shape, data.head(), data.dtypes, data.describe()"
   ]
  },
  {
   "cell_type": "code",
   "execution_count": 40,
   "id": "b7b15aba-68a9-43a8-9110-142f318d040f",
   "metadata": {},
   "outputs": [
    {
     "data": {
      "text/plain": [
       "ShapiroResult(statistic=0.91677919608243, pvalue=0.0020349954931665527)"
      ]
     },
     "execution_count": 40,
     "metadata": {},
     "output_type": "execute_result"
    }
   ],
   "source": [
    "shapiro(data)"
   ]
  },
  {
   "cell_type": "code",
   "execution_count": null,
   "id": "c38022eb-797e-498b-816d-3d2ec7425dea",
   "metadata": {},
   "outputs": [],
   "source": []
  }
 ],
 "metadata": {
  "kernelspec": {
   "display_name": "Python [conda env:base] *",
   "language": "python",
   "name": "conda-base-py"
  },
  "language_info": {
   "codemirror_mode": {
    "name": "ipython",
    "version": 3
   },
   "file_extension": ".py",
   "mimetype": "text/x-python",
   "name": "python",
   "nbconvert_exporter": "python",
   "pygments_lexer": "ipython3",
   "version": "3.12.7"
  }
 },
 "nbformat": 4,
 "nbformat_minor": 5
}
