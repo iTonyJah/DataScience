{
 "cells": [
  {
   "cell_type": "markdown",
   "id": "97d0bd1b",
   "metadata": {},
   "source": [
    "# Определите таксономию данных по нескольким примерам\n",
    "## Условие задачи\n",
    "\n",
    "Вам предоставлены несколько наборов данных с различными типами информации. Ваша цель — определить тип данных для каждого примера.\n",
    "\n",
    "**Алгоритм решения:**\n",
    "\n",
    "1. Загрузите каждый набор данных из CSV-файлов в DataFrame.\n",
    "2. Используйте методы и атрибуты DataFrame для определения типа данных для каждого примера.\n",
    "3. Выведите результаты на экран.\n",
    "\n",
    "## Данные для работы\n",
    "\n",
    "**Датасет 1.** Этот набор данных содержит информацию о различных людях — их ID, имена, возраст и зарплаты.\n",
    "\n",
    "[data1.csv](https://github.com/Eduson-DataScience/DataScience/blob/main/EDA-Practice/Define_data_taxonomy_in_different_variations/data1.csv)\n",
    "\n",
    "**Датасет 2.** В этом наборе данных содержится информация о торговле на фондовом рынке за несколько дней: дата, цена открытия, максимум, минимум, цена закрытия и объем торгов.\n",
    "\n",
    "[data2.csv](https://github.com/Eduson-DataScience/DataScience/blob/main/EDA-Practice/Define_data_taxonomy_in_different_variations/data2.csv)\n",
    "\n",
    "**Датасет 3.** В этом наборе данных представлена информация о различных странах: их названия, столицы, численность населения и площадь. \n",
    "\n",
    "[data3.csv](https://github.com/Eduson-DataScience/DataScience/blob/main/EDA-Practice/Define_data_taxonomy_in_different_variations/data3.csv)\n",
    "\n",
    "## Подсказки\n",
    "\n",
    "- Убедитесь, что у вас есть файлы данных (data1.csv, data2.csv, data3.csv) и они находятся в том же каталоге, что и ваш скрипт.\n",
    "- Используйте метод **`dtypes`** для получения типов данных в DataFrame.\n",
    "- Создайте словарь или другую структуру данных для хранения таксономии данных.\n",
    "- Используйте цикл для обработки каждого набора данных и вывода результатов таксономии данных."
   ]
  },
  {
   "cell_type": "code",
   "execution_count": 2,
   "id": "e7a676be",
   "metadata": {
    "vscode": {
     "languageId": "plaintext"
    }
   },
   "outputs": [
    {
     "name": "stdout",
     "output_type": "stream",
     "text": [
      "Таксономия данных для data1\n",
      "ID         int64\n",
      "Name      object\n",
      "Age        int64\n",
      "Salary     int64\n",
      "dtype: object\n",
      "\n",
      "Таксономия данных для data2\n",
      "Date       object\n",
      "Open      float64\n",
      "High        int64\n",
      "Low         int64\n",
      "Close       int64\n",
      "Volume      int64\n",
      "dtype: object\n",
      "\n",
      "Таксономия данных для data3\n",
      "Country        object\n",
      "City           object\n",
      "Population      int64\n",
      "Area          float64\n",
      "dtype: object\n",
      "\n"
     ]
    }
   ],
   "source": [
    "import pandas as pd\n",
    "\n",
    "# Загрузка данных из CSV-файлов\n",
    "data1 = pd.read_csv('data1.csv')\n",
    "data2 = pd.read_csv('data2.csv')\n",
    "data3 = pd.read_csv('data3.csv')\n",
    "\n",
    "# Определение таксономии данных\n",
    "taxonomy = {\n",
    "    'data1': data1.dtypes,\n",
    "    'data2': data2.dtypes,\n",
    "    'data3': data3.dtypes\n",
    "}\n",
    "\n",
    "# Вывод результатов таксономии данных\n",
    "for dataset, dtypes in taxonomy.items():\n",
    "    print(\"Таксономия данных для\", dataset)\n",
    "    print(dtypes)\n",
    "    print()"
   ]
  },
  {
   "cell_type": "markdown",
   "id": "2e3d0c18",
   "metadata": {},
   "source": [
    "Из проведенного анализа данных можно сделать следующие выводы:\n",
    "\n",
    "## **data1.csv**\n",
    "Типы переменных в этом датасете:\n",
    "- ID — integer, \n",
    "- Name — object, \n",
    "- Age — integer, \n",
    "- Salary — integer,\n",
    "\n",
    "## **data2.csv**\n",
    "Типы переменных в этом датасете:\n",
    "- Date — object, \n",
    "- Open — float, \n",
    "- High — integer, \n",
    "- Low — integer, \n",
    "- Close — integer, \n",
    "- Volume — integer,\n",
    "\n",
    "## **data3.csv**\n",
    "Типы переменных в этом датасете:\n",
    "- Country — object,\n",
    "- City — object,\n",
    "- Population — integer, целочисленный тип,\n",
    "- Area — float, число с плавающей запятой."
   ]
  }
 ],
 "metadata": {
  "kernelspec": {
   "display_name": "Python [conda env:base] *",
   "language": "python",
   "name": "conda-base-py"
  },
  "language_info": {
   "codemirror_mode": {
    "name": "ipython",
    "version": 3
   },
   "file_extension": ".py",
   "mimetype": "text/x-python",
   "name": "python",
   "nbconvert_exporter": "python",
   "pygments_lexer": "ipython3",
   "version": "3.12.7"
  }
 },
 "nbformat": 4,
 "nbformat_minor": 5
}
