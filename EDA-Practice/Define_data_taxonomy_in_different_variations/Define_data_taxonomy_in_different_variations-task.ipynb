{
 "cells": [
  {
   "cell_type": "markdown",
   "id": "97d0bd1b",
   "metadata": {},
   "source": [
    "# Определите таксономию данных по нескольким примерам\n",
    "## Условие задачи\n",
    "\n",
    "Вам предоставлены несколько наборов данных с различными типами информации. Ваша цель — определить тип данных для каждого примера.\n",
    "\n",
    "**Алгоритм решения:**\n",
    "\n",
    "1. Загрузите каждый набор данных из CSV-файлов в DataFrame.\n",
    "2. Используйте методы и атрибуты DataFrame для определения типа данных для каждого примера.\n",
    "3. Выведите результаты на экран.\n",
    "\n",
    "## Данные для работы\n",
    "\n",
    "**Датасет 1.** Этот набор данных содержит информацию о различных людях — их ID, имена, возраст и зарплаты.\n",
    "\n",
    "[data1.csv](https://github.com/Eduson-DataScience/DataScience/blob/main/EDA-Practice/Define_data_taxonomy_in_different_variations/data1.csv)\n",
    "\n",
    "**Датасет 2.** В этом наборе данных содержится информация о торговле на фондовом рынке за несколько дней: дата, цена открытия, максимум, минимум, цена закрытия и объем торгов.\n",
    "\n",
    "[data2.csv](https://github.com/Eduson-DataScience/DataScience/blob/main/EDA-Practice/Define_data_taxonomy_in_different_variations/data2.csv)\n",
    "\n",
    "**Датасет 3.** В этом наборе данных представлена информация о различных странах: их названия, столицы, численность населения и площадь. \n",
    "\n",
    "[data3.csv](https://github.com/Eduson-DataScience/DataScience/blob/main/EDA-Practice/Define_data_taxonomy_in_different_variations/data3.csv)\n",
    "\n",
    "## Подсказки\n",
    "\n",
    "- Убедитесь, что у вас есть файлы данных (data1.csv, data2.csv, data3.csv) и они находятся в том же каталоге, что и ваш скрипт.\n",
    "- Используйте метод **`dtypes`** для получения типов данных в DataFrame.\n",
    "- Создайте словарь или другую структуру данных для хранения таксономии данных.\n",
    "- Используйте цикл для обработки каждого набора данных и вывода результатов таксономии данных."
   ]
  },
  {
   "cell_type": "code",
   "execution_count": 1,
   "id": "a6f0f62e",
   "metadata": {},
   "outputs": [],
   "source": [
    "import pandas as pd"
   ]
  },
  {
   "cell_type": "code",
   "execution_count": 2,
   "id": "d1ae9f20-9902-4671-b73a-34d76eb29ba5",
   "metadata": {},
   "outputs": [
    {
     "data": {
      "text/plain": [
       "{'data1': ID         int64\n",
       " Name      object\n",
       " Age        int64\n",
       " Salary     int64\n",
       " dtype: object,\n",
       " 'data2': Date       object\n",
       " Open      float64\n",
       " High        int64\n",
       " Low         int64\n",
       " Close       int64\n",
       " Volume      int64\n",
       " dtype: object,\n",
       " 'data3': Country        object\n",
       " City           object\n",
       " Population      int64\n",
       " Area          float64\n",
       " dtype: object}"
      ]
     },
     "execution_count": 2,
     "metadata": {},
     "output_type": "execute_result"
    }
   ],
   "source": [
    "df1 = pd.read_csv('data1.csv')\n",
    "df2 = pd.read_csv('data2.csv')\n",
    "df3 = pd.read_csv('data3.csv')\n",
    "\n",
    "taxanomy = {\n",
    "    'data1': df1.dtypes,\n",
    "    'data2': df2.dtypes,\n",
    "    'data3': df3.dtypes,\n",
    "}\n",
    "taxanomy"
   ]
  },
  {
   "cell_type": "code",
   "execution_count": 3,
   "id": "3fa1fc06-e506-4525-b18c-823cf6bdf745",
   "metadata": {},
   "outputs": [
    {
     "name": "stdout",
     "output_type": "stream",
     "text": [
      "Таканомия данных для data1\n",
      "ID         int64\n",
      "Name      object\n",
      "Age        int64\n",
      "Salary     int64\n",
      "dtype: object\n",
      "\n",
      "Таканомия данных для data2\n",
      "Date       object\n",
      "Open      float64\n",
      "High        int64\n",
      "Low         int64\n",
      "Close       int64\n",
      "Volume      int64\n",
      "dtype: object\n",
      "\n",
      "Таканомия данных для data3\n",
      "Country        object\n",
      "City           object\n",
      "Population      int64\n",
      "Area          float64\n",
      "dtype: object\n",
      "\n"
     ]
    }
   ],
   "source": [
    "for dataset, dtypes in taxanomy.items():\n",
    "    print('Таканомия данных для', dataset)\n",
    "    print(dtypes)\n",
    "    print()\n"
   ]
  },
  {
   "cell_type": "code",
   "execution_count": null,
   "id": "9a3accd9-7bb5-44a2-a986-7b469465fb12",
   "metadata": {},
   "outputs": [],
   "source": [
    "\n",
    "df_list = [df1, df2, df3]\n",
    "df_types = []\n",
    "for dfi in df_list:\n",
    "    print(dfi.shape)\n",
    "    print(dfi)\n",
    "    print(dfi.dtypes)\n",
    "    for dfi_type in dfi.dtypes:\n",
    "        df_types.append(dfi_type)"
   ]
  },
  {
   "cell_type": "code",
   "execution_count": 71,
   "id": "5d7eea6a-9b9a-493a-807c-3202837e6897",
   "metadata": {},
   "outputs": [
    {
     "data": {
      "text/plain": [
       "array([dtype('int64'), dtype('O'), dtype('float64')], dtype=object)"
      ]
     },
     "execution_count": 71,
     "metadata": {},
     "output_type": "execute_result"
    }
   ],
   "source": [
    "df_types = pd.Series(df_types)\n",
    "df_types_unique = df_types.unique()\n",
    "df_types_unique"
   ]
  },
  {
   "cell_type": "code",
   "execution_count": 6,
   "id": "c04a6a4f-1337-47a4-a6ab-6a2889ff2ee9",
   "metadata": {},
   "outputs": [
    {
     "data": {
      "text/plain": [
       "((3, 4), (3, 6), (3, 4))"
      ]
     },
     "execution_count": 6,
     "metadata": {},
     "output_type": "execute_result"
    }
   ],
   "source": [
    "df1.shape, df2.shape, df3.shape"
   ]
  },
  {
   "cell_type": "code",
   "execution_count": 19,
   "id": "e3ce8bef-e9a5-4a3e-84b4-f40b51ba025c",
   "metadata": {},
   "outputs": [
    {
     "data": {
      "text/plain": [
       "(ID         int64\n",
       " Name      object\n",
       " Age        int64\n",
       " Salary     int64\n",
       " dtype: object,\n",
       " Date       object\n",
       " Open      float64\n",
       " High        int64\n",
       " Low         int64\n",
       " Close       int64\n",
       " Volume      int64\n",
       " dtype: object,\n",
       " Country        object\n",
       " City           object\n",
       " Population      int64\n",
       " Area          float64\n",
       " dtype: object)"
      ]
     },
     "execution_count": 19,
     "metadata": {},
     "output_type": "execute_result"
    }
   ],
   "source": [
    "df1.dtypes, df2.dtypes, df3.dtypes\n"
   ]
  },
  {
   "cell_type": "code",
   "execution_count": 33,
   "id": "d66ff023-24a3-4a99-872d-d59e3b8967a2",
   "metadata": {},
   "outputs": [
    {
     "name": "stdout",
     "output_type": "stream",
     "text": [
      "int64\n",
      "object\n",
      "int64\n",
      "int64\n",
      "object\n",
      "float64\n",
      "int64\n",
      "int64\n",
      "int64\n",
      "int64\n",
      "object\n",
      "object\n",
      "int64\n",
      "float64\n"
     ]
    }
   ],
   "source": [
    "\n",
    "for d1 in df1.dtypes:\n",
    "    print(d1)\n",
    "for d2 in df2.dtypes:\n",
    "    print(d2)\n",
    "for d3 in df3.dtypes:\n",
    "    print(d3)"
   ]
  },
  {
   "cell_type": "code",
   "execution_count": 37,
   "id": "c97151e3-6667-460b-ae33-9d92ea45ef8d",
   "metadata": {},
   "outputs": [
    {
     "data": {
      "text/plain": [
       "array([dtype('int64'), dtype('O')], dtype=object)"
      ]
     },
     "execution_count": 37,
     "metadata": {},
     "output_type": "execute_result"
    }
   ],
   "source": [
    "df1.dtypes.unique()"
   ]
  }
 ],
 "metadata": {
  "kernelspec": {
   "display_name": "Python 3 (ipykernel)",
   "language": "python",
   "name": "python3"
  },
  "language_info": {
   "codemirror_mode": {
    "name": "ipython",
    "version": 3
   },
   "file_extension": ".py",
   "mimetype": "text/x-python",
   "name": "python",
   "nbconvert_exporter": "python",
   "pygments_lexer": "ipython3",
   "version": "3.12.3"
  }
 },
 "nbformat": 4,
 "nbformat_minor": 5
}
