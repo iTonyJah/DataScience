{
 "cells": [
  {
   "cell_type": "markdown",
   "id": "97d0bd1b",
   "metadata": {},
   "source": [
    "# Определите таксономию данных по нескольким примерам\n",
    "## Условие задачи\n",
    "\n",
    "Вам предоставлены несколько наборов данных с различными типами информации. Ваша цель — определить тип данных для каждого примера.\n",
    "\n",
    "**Алгоритм решения:**\n",
    "\n",
    "1. Загрузите каждый набор данных из CSV-файлов в DataFrame.\n",
    "2. Используйте методы и атрибуты DataFrame для определения типа данных для каждого примера.\n",
    "3. Выведите результаты на экран.\n",
    "\n",
    "## Данные для работы\n",
    "\n",
    "**Датасет 1.** Этот набор данных содержит информацию о различных людях — их ID, имена, возраст и зарплаты.\n",
    "\n",
    "[data1.csv](https://github.com/Eduson-DataScience/DataScience/blob/main/EDA-Practice/Define_data_taxonomy_in_different_variations/data1.csv)\n",
    "\n",
    "**Датасет 2.** В этом наборе данных содержится информация о торговле на фондовом рынке за несколько дней: дата, цена открытия, максимум, минимум, цена закрытия и объем торгов.\n",
    "\n",
    "[data2.csv](https://github.com/Eduson-DataScience/DataScience/blob/main/EDA-Practice/Define_data_taxonomy_in_different_variations/data2.csv)\n",
    "\n",
    "**Датасет 3.** В этом наборе данных представлена информация о различных странах: их названия, столицы, численность населения и площадь. \n",
    "\n",
    "[data3.csv](https://github.com/Eduson-DataScience/DataScience/blob/main/EDA-Practice/Define_data_taxonomy_in_different_variations/data3.csv)\n",
    "\n",
    "## Подсказки\n",
    "\n",
    "- Убедитесь, что у вас есть файлы данных (data1.csv, data2.csv, data3.csv) и они находятся в том же каталоге, что и ваш скрипт.\n",
    "- Используйте метод **`dtypes`** для получения типов данных в DataFrame.\n",
    "- Создайте словарь или другую структуру данных для хранения таксономии данных.\n",
    "- Используйте цикл для обработки каждого набора данных и вывода результатов таксономии данных."
   ]
  },
  {
   "cell_type": "code",
   "execution_count": 3,
   "id": "a6f0f62e",
   "metadata": {},
   "outputs": [],
   "source": [
    "import pandas as pd"
   ]
  },
  {
   "cell_type": "code",
   "execution_count": 19,
   "id": "d1ae9f20-9902-4671-b73a-34d76eb29ba5",
   "metadata": {},
   "outputs": [
    {
     "data": {
      "text/plain": [
       "(   ID  Name  Age  Salary\n",
       " 0   1  John   25    5000\n",
       " 1   2   Amy   30    6000\n",
       " 2   3  Mark   35    7000,\n",
       "          Date   Open  High  Low  Close  Volume\n",
       " 0  2020-01-01  100.5   110   90    105   10000\n",
       " 1  2020-01-02  105.0   115   95    100   15000\n",
       " 2  2020-01-03  100.8   105   95    100   12000,\n",
       "   Country      City  Population    Area\n",
       " 0     USA  New York     8623000   783.8\n",
       " 1      UK    London     8908081  1572.0\n",
       " 2  France     Paris     2140526   105.4)"
      ]
     },
     "execution_count": 19,
     "metadata": {},
     "output_type": "execute_result"
    }
   ],
   "source": [
    "df1 = pd.read_csv('data1.csv')\n",
    "df2 = pd.read_csv('data2.csv')\n",
    "df3 = pd.read_csv('data3.csv')\n",
    "df1, df2, df3"
   ]
  },
  {
   "cell_type": "code",
   "execution_count": 23,
   "id": "c04a6a4f-1337-47a4-a6ab-6a2889ff2ee9",
   "metadata": {},
   "outputs": [
    {
     "data": {
      "text/plain": [
       "((3, 4), (3, 6), (3, 4))"
      ]
     },
     "execution_count": 23,
     "metadata": {},
     "output_type": "execute_result"
    }
   ],
   "source": [
    "df1.shape, df2.shape, df3.shape"
   ]
  },
  {
   "cell_type": "code",
   "execution_count": 29,
   "id": "e3ce8bef-e9a5-4a3e-84b4-f40b51ba025c",
   "metadata": {},
   "outputs": [
    {
     "ename": "AttributeError",
     "evalue": "'DataFrame' object has no attribute 'dftypes'",
     "output_type": "error",
     "traceback": [
      "\u001b[1;31m---------------------------------------------------------------------------\u001b[0m",
      "\u001b[1;31mAttributeError\u001b[0m                            Traceback (most recent call last)",
      "\u001b[1;32m~\\AppData\\Local\\Temp\\ipykernel_12896\\749647914.py\u001b[0m in \u001b[0;36m?\u001b[1;34m()\u001b[0m\n\u001b[1;32m----> 1\u001b[1;33m \u001b[0mdf1\u001b[0m\u001b[1;33m.\u001b[0m\u001b[0mdftypes\u001b[0m\u001b[1;33m\u001b[0m\u001b[1;33m\u001b[0m\u001b[0m\n\u001b[0m",
      "\u001b[1;32m~\\anaconda3\\Lib\\site-packages\\pandas\\core\\generic.py\u001b[0m in \u001b[0;36m?\u001b[1;34m(self, name)\u001b[0m\n\u001b[0;32m   6295\u001b[0m             \u001b[1;32mand\u001b[0m \u001b[0mname\u001b[0m \u001b[1;32mnot\u001b[0m \u001b[1;32min\u001b[0m \u001b[0mself\u001b[0m\u001b[1;33m.\u001b[0m\u001b[0m_accessors\u001b[0m\u001b[1;33m\u001b[0m\u001b[1;33m\u001b[0m\u001b[0m\n\u001b[0;32m   6296\u001b[0m             \u001b[1;32mand\u001b[0m \u001b[0mself\u001b[0m\u001b[1;33m.\u001b[0m\u001b[0m_info_axis\u001b[0m\u001b[1;33m.\u001b[0m\u001b[0m_can_hold_identifiers_and_holds_name\u001b[0m\u001b[1;33m(\u001b[0m\u001b[0mname\u001b[0m\u001b[1;33m)\u001b[0m\u001b[1;33m\u001b[0m\u001b[1;33m\u001b[0m\u001b[0m\n\u001b[0;32m   6297\u001b[0m         \u001b[1;33m)\u001b[0m\u001b[1;33m:\u001b[0m\u001b[1;33m\u001b[0m\u001b[1;33m\u001b[0m\u001b[0m\n\u001b[0;32m   6298\u001b[0m             \u001b[1;32mreturn\u001b[0m \u001b[0mself\u001b[0m\u001b[1;33m[\u001b[0m\u001b[0mname\u001b[0m\u001b[1;33m]\u001b[0m\u001b[1;33m\u001b[0m\u001b[1;33m\u001b[0m\u001b[0m\n\u001b[1;32m-> 6299\u001b[1;33m         \u001b[1;32mreturn\u001b[0m \u001b[0mobject\u001b[0m\u001b[1;33m.\u001b[0m\u001b[0m__getattribute__\u001b[0m\u001b[1;33m(\u001b[0m\u001b[0mself\u001b[0m\u001b[1;33m,\u001b[0m \u001b[0mname\u001b[0m\u001b[1;33m)\u001b[0m\u001b[1;33m\u001b[0m\u001b[1;33m\u001b[0m\u001b[0m\n\u001b[0m",
      "\u001b[1;31mAttributeError\u001b[0m: 'DataFrame' object has no attribute 'dftypes'"
     ]
    }
   ],
   "source": [
    "df1.dftypes\n"
   ]
  }
 ],
 "metadata": {
  "kernelspec": {
   "display_name": "Python [conda env:base] *",
   "language": "python",
   "name": "conda-base-py"
  },
  "language_info": {
   "codemirror_mode": {
    "name": "ipython",
    "version": 3
   },
   "file_extension": ".py",
   "mimetype": "text/x-python",
   "name": "python",
   "nbconvert_exporter": "python",
   "pygments_lexer": "ipython3",
   "version": "3.12.7"
  }
 },
 "nbformat": 4,
 "nbformat_minor": 5
}
